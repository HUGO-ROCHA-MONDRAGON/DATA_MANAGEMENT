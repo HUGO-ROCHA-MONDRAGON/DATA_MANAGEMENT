{
 "cells": [
  {
   "cell_type": "code",
   "execution_count": 1,
   "metadata": {},
   "outputs": [],
   "source": [
    "import mysql.connector\n",
    "from mysql.connector import errorcode\n",
    "import sqlite3\n",
    "from datetime import datetime, timedelta\n",
    "import pandas as pd"
   ]
  },
  {
   "cell_type": "markdown",
   "metadata": {},
   "source": [
    "# 1. Creation de la base SQL"
   ]
  },
  {
   "cell_type": "code",
   "execution_count": 2,
   "metadata": {},
   "outputs": [],
   "source": [
    "db_file = \"Fund.db\""
   ]
  },
  {
   "cell_type": "code",
   "execution_count": 3,
   "metadata": {},
   "outputs": [],
   "source": [
    "create_table_query = \"\"\"CREATE TABLE IF NOT EXISTS Clients(\n",
    "    client_id INTEGER PRIMARY KEY AUTOINCREMENT,\n",
    "    nom TEXT,\n",
    "    prenom TEXT,\n",
    "    date_naissance DATE,\n",
    "    email TEXT,\n",
    "    date_inscription DATE,\n",
    "    risk_appetite TEXT,\n",
    "    Preference TEXT,\n",
    "    Investment_knowledge INTEGER)\n",
    "\"\"\"\n",
    "\n",
    "try:\n",
    "    # Connexion à la base de données SQLite\n",
    "    conn = sqlite3.connect(db_file)\n",
    "    cursor = conn.cursor()\n",
    "    # Création de la table Clients\n",
    "    cursor.execute(create_table_query)\n",
    "    conn.commit()\n",
    "except sqlite3.Error as e:\n",
    "\n",
    "    print(f\"Erreur SQLite : {e}\")\n",
    "    \n",
    "finally:\n",
    "    # Fermeture de la connexion \n",
    "    conn.close()"
   ]
  },
  {
   "cell_type": "code",
   "execution_count": 4,
   "metadata": {},
   "outputs": [],
   "source": [
    "create_table_query = \"\"\"CREATE TABLE IF NOT EXISTS Managers(\n",
    "    manager_id INTEGER PRIMARY KEY AUTOINCREMENT,\n",
    "    nom TEXT,\n",
    "    prenom TEXT,\n",
    "    date_naissance DATE,\n",
    "    email TEXT,\n",
    "    Speciality TEXT,\n",
    "    Fund TEXT)\n",
    "\"\"\"\n",
    "\n",
    "try:\n",
    "    # Connexion à la base de données SQLite\n",
    "    conn = sqlite3.connect(db_file)\n",
    "    cursor = conn.cursor()\n",
    "    # Création de la table Clients\n",
    "    cursor.execute(create_table_query)\n",
    "    conn.commit()\n",
    "except sqlite3.Error as e:\n",
    "\n",
    "    print(f\"Erreur SQLite : {e}\")\n",
    "    \n",
    "finally:\n",
    "    # Fermeture de la connexion \n",
    "    conn.close()"
   ]
  }
 ],
 "metadata": {
  "kernelspec": {
   "display_name": "Python 3",
   "language": "python",
   "name": "python3"
  },
  "language_info": {
   "codemirror_mode": {
    "name": "ipython",
    "version": 3
   },
   "file_extension": ".py",
   "mimetype": "text/x-python",
   "name": "python",
   "nbconvert_exporter": "python",
   "pygments_lexer": "ipython3",
   "version": "3.10.10"
  }
 },
 "nbformat": 4,
 "nbformat_minor": 2
}
