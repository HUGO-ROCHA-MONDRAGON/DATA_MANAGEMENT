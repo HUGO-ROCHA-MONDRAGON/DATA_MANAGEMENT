{
 "cells": [
  {
   "cell_type": "code",
   "execution_count": 1,
   "metadata": {},
   "outputs": [],
   "source": [
    "import sqlite3\n",
    "import pandas as pd\n",
    "db_file = \"Fund.db\"\n",
    "tickers = ['AAPL', 'MSFT', 'GOOGL', 'AMZN', 'FB', 'TSLA', 'NVDA', 'PYPL', 'ADBE', 'INTC']#tickers contenus dans MAIN_DATA_FRAME\n",
    "\n",
    "start_date = \"02/01/2023\"#toute la periode start date (pour tout telecharger dun coup)\n",
    "end_date = \"31/12/2023\"#pareil"
   ]
  },
  {
   "cell_type": "markdown",
   "metadata": {},
   "source": [
    "## 1. Creation et peuplement de la base"
   ]
  },
  {
   "cell_type": "code",
   "execution_count": 2,
   "metadata": {},
   "outputs": [],
   "source": [
    "from base_builder import DatabaseBuilder"
   ]
  },
  {
   "cell_type": "code",
   "execution_count": 3,
   "metadata": {},
   "outputs": [
    {
     "name": "stdout",
     "output_type": "stream",
     "text": [
      "Tables created successfully.\n",
      "3 clients insérés avec succès dans la table 'Clients'.\n",
      "3 managers insérés avec succès dans la table 'Managers'.\n"
     ]
    }
   ],
   "source": [
    "db_manager = DatabaseBuilder(db_file)\n",
    "db_manager.create_tables()\n",
    "db_manager.insert_clients_data(3)\n",
    "db_manager.insert_managers_data(3)"
   ]
  },
  {
   "cell_type": "markdown",
   "metadata": {},
   "source": [
    "## 2. Collecte et traitement des datas"
   ]
  },
  {
   "cell_type": "code",
   "execution_count": 4,
   "metadata": {},
   "outputs": [],
   "source": [
    "from data_collector import GetData"
   ]
  },
  {
   "cell_type": "code",
   "execution_count": 5,
   "metadata": {},
   "outputs": [
    {
     "name": "stderr",
     "output_type": "stream",
     "text": [
      "[*********************100%***********************]  1 of 1 completed\n",
      "[*********************100%***********************]  1 of 1 completed\n",
      "[*********************100%***********************]  1 of 1 completed\n",
      "[*********************100%***********************]  1 of 1 completed\n",
      "[*********************100%***********************]  1 of 1 completed\n",
      "\n",
      "1 Failed download:\n",
      "['FB']: YFTzMissingError('possibly delisted; no timezone found')\n",
      "[*********************100%***********************]  1 of 1 completed\n",
      "[*********************100%***********************]  1 of 1 completed\n",
      "[*********************100%***********************]  1 of 1 completed\n",
      "[*********************100%***********************]  1 of 1 completed\n",
      "[*********************100%***********************]  1 of 1 completed\n"
     ]
    },
    {
     "data": {
      "application/vnd.microsoft.datawrangler.viewer.v0+json": {
       "columns": [
        {
         "name": "index",
         "rawType": "int64",
         "type": "integer"
        },
        {
         "name": "IMPORT_DATE",
         "rawType": "datetime64[ns]",
         "type": "datetime"
        },
        {
         "name": "PRICE",
         "rawType": "float64",
         "type": "float"
        },
        {
         "name": "TICKER",
         "rawType": "object",
         "type": "string"
        },
        {
         "name": "SECTOR",
         "rawType": "object",
         "type": "string"
        }
       ],
       "conversionMethod": "pd.DataFrame",
       "ref": "1ef937a0-90bd-4a28-8f97-6433b1113af2",
       "rows": [
        [
         "0",
         "2023-01-03 00:00:00",
         "123.63253021240234",
         "AAPL",
         "Technology"
        ],
        [
         "1",
         "2023-01-04 00:00:00",
         "124.90770721435547",
         "AAPL",
         "Technology"
        ],
        [
         "2",
         "2023-01-05 00:00:00",
         "123.58309936523438",
         "AAPL",
         "Technology"
        ],
        [
         "3",
         "2023-01-06 00:00:00",
         "128.13021850585938",
         "AAPL",
         "Technology"
        ],
        [
         "4",
         "2023-01-09 00:00:00",
         "128.65411376953125",
         "AAPL",
         "Technology"
        ],
        [
         "5",
         "2023-01-10 00:00:00",
         "129.2274627685547",
         "AAPL",
         "Technology"
        ],
        [
         "6",
         "2023-01-11 00:00:00",
         "131.95574951171875",
         "AAPL",
         "Technology"
        ],
        [
         "7",
         "2023-01-12 00:00:00",
         "131.8766632080078",
         "AAPL",
         "Technology"
        ],
        [
         "8",
         "2023-01-13 00:00:00",
         "133.21115112304688",
         "AAPL",
         "Technology"
        ],
        [
         "9",
         "2023-01-17 00:00:00",
         "134.37762451171875",
         "AAPL",
         "Technology"
        ],
        [
         "10",
         "2023-01-18 00:00:00",
         "133.65599060058594",
         "AAPL",
         "Technology"
        ],
        [
         "11",
         "2023-01-19 00:00:00",
         "133.71530151367188",
         "AAPL",
         "Technology"
        ],
        [
         "12",
         "2023-01-20 00:00:00",
         "136.285400390625",
         "AAPL",
         "Technology"
        ],
        [
         "13",
         "2023-01-23 00:00:00",
         "139.48818969726562",
         "AAPL",
         "Technology"
        ],
        [
         "14",
         "2023-01-24 00:00:00",
         "140.891845703125",
         "AAPL",
         "Technology"
        ],
        [
         "15",
         "2023-01-25 00:00:00",
         "140.22955322265625",
         "AAPL",
         "Technology"
        ],
        [
         "16",
         "2023-01-26 00:00:00",
         "142.30543518066406",
         "AAPL",
         "Technology"
        ],
        [
         "17",
         "2023-01-27 00:00:00",
         "144.25277709960938",
         "AAPL",
         "Technology"
        ],
        [
         "18",
         "2023-01-30 00:00:00",
         "141.35647583007812",
         "AAPL",
         "Technology"
        ],
        [
         "19",
         "2023-01-31 00:00:00",
         "142.63162231445312",
         "AAPL",
         "Technology"
        ],
        [
         "20",
         "2023-02-01 00:00:00",
         "143.75851440429688",
         "AAPL",
         "Technology"
        ],
        [
         "21",
         "2023-02-02 00:00:00",
         "149.08657836914062",
         "AAPL",
         "Technology"
        ],
        [
         "22",
         "2023-02-03 00:00:00",
         "152.72427368164062",
         "AAPL",
         "Technology"
        ],
        [
         "23",
         "2023-02-06 00:00:00",
         "149.9861297607422",
         "AAPL",
         "Technology"
        ],
        [
         "24",
         "2023-02-07 00:00:00",
         "152.87255859375",
         "AAPL",
         "Technology"
        ],
        [
         "25",
         "2023-02-08 00:00:00",
         "150.17393493652344",
         "AAPL",
         "Technology"
        ],
        [
         "26",
         "2023-02-09 00:00:00",
         "149.135986328125",
         "AAPL",
         "Technology"
        ],
        [
         "27",
         "2023-02-10 00:00:00",
         "149.5023193359375",
         "AAPL",
         "Technology"
        ],
        [
         "28",
         "2023-02-13 00:00:00",
         "152.31396484375",
         "AAPL",
         "Technology"
        ],
        [
         "29",
         "2023-02-14 00:00:00",
         "151.67044067382812",
         "AAPL",
         "Technology"
        ],
        [
         "30",
         "2023-02-15 00:00:00",
         "153.7791748046875",
         "AAPL",
         "Technology"
        ],
        [
         "31",
         "2023-02-16 00:00:00",
         "152.1753387451172",
         "AAPL",
         "Technology"
        ],
        [
         "32",
         "2023-02-17 00:00:00",
         "151.0269317626953",
         "AAPL",
         "Technology"
        ],
        [
         "33",
         "2023-02-21 00:00:00",
         "146.99755859375",
         "AAPL",
         "Technology"
        ],
        [
         "34",
         "2023-02-22 00:00:00",
         "147.42327880859375",
         "AAPL",
         "Technology"
        ],
        [
         "35",
         "2023-02-23 00:00:00",
         "147.9083709716797",
         "AAPL",
         "Technology"
        ],
        [
         "36",
         "2023-02-24 00:00:00",
         "145.24525451660156",
         "AAPL",
         "Technology"
        ],
        [
         "37",
         "2023-02-27 00:00:00",
         "146.4431610107422",
         "AAPL",
         "Technology"
        ],
        [
         "38",
         "2023-02-28 00:00:00",
         "145.93826293945312",
         "AAPL",
         "Technology"
        ],
        [
         "39",
         "2023-03-01 00:00:00",
         "143.85922241210938",
         "AAPL",
         "Technology"
        ],
        [
         "40",
         "2023-03-02 00:00:00",
         "144.45323181152344",
         "AAPL",
         "Technology"
        ],
        [
         "41",
         "2023-03-03 00:00:00",
         "149.52212524414062",
         "AAPL",
         "Technology"
        ],
        [
         "42",
         "2023-03-06 00:00:00",
         "152.29415893554688",
         "AAPL",
         "Technology"
        ],
        [
         "43",
         "2023-03-07 00:00:00",
         "150.08645629882812",
         "AAPL",
         "Technology"
        ],
        [
         "44",
         "2023-03-08 00:00:00",
         "151.34373474121094",
         "AAPL",
         "Technology"
        ],
        [
         "45",
         "2023-03-09 00:00:00",
         "149.08648681640625",
         "AAPL",
         "Technology"
        ],
        [
         "46",
         "2023-03-10 00:00:00",
         "147.0173797607422",
         "AAPL",
         "Technology"
        ],
        [
         "47",
         "2023-03-13 00:00:00",
         "148.96771240234375",
         "AAPL",
         "Technology"
        ],
        [
         "48",
         "2023-03-14 00:00:00",
         "151.0665283203125",
         "AAPL",
         "Technology"
        ],
        [
         "49",
         "2023-03-15 00:00:00",
         "151.4625701904297",
         "AAPL",
         "Technology"
        ]
       ],
       "shape": {
        "columns": 4,
        "rows": 2250
       }
      },
      "text/html": [
       "<div>\n",
       "<style scoped>\n",
       "    .dataframe tbody tr th:only-of-type {\n",
       "        vertical-align: middle;\n",
       "    }\n",
       "\n",
       "    .dataframe tbody tr th {\n",
       "        vertical-align: top;\n",
       "    }\n",
       "\n",
       "    .dataframe thead th {\n",
       "        text-align: right;\n",
       "    }\n",
       "</style>\n",
       "<table border=\"1\" class=\"dataframe\">\n",
       "  <thead>\n",
       "    <tr style=\"text-align: right;\">\n",
       "      <th></th>\n",
       "      <th>IMPORT_DATE</th>\n",
       "      <th>PRICE</th>\n",
       "      <th>TICKER</th>\n",
       "      <th>SECTOR</th>\n",
       "    </tr>\n",
       "  </thead>\n",
       "  <tbody>\n",
       "    <tr>\n",
       "      <th>0</th>\n",
       "      <td>2023-01-03</td>\n",
       "      <td>123.632530</td>\n",
       "      <td>AAPL</td>\n",
       "      <td>Technology</td>\n",
       "    </tr>\n",
       "    <tr>\n",
       "      <th>1</th>\n",
       "      <td>2023-01-04</td>\n",
       "      <td>124.907707</td>\n",
       "      <td>AAPL</td>\n",
       "      <td>Technology</td>\n",
       "    </tr>\n",
       "    <tr>\n",
       "      <th>2</th>\n",
       "      <td>2023-01-05</td>\n",
       "      <td>123.583099</td>\n",
       "      <td>AAPL</td>\n",
       "      <td>Technology</td>\n",
       "    </tr>\n",
       "    <tr>\n",
       "      <th>3</th>\n",
       "      <td>2023-01-06</td>\n",
       "      <td>128.130219</td>\n",
       "      <td>AAPL</td>\n",
       "      <td>Technology</td>\n",
       "    </tr>\n",
       "    <tr>\n",
       "      <th>4</th>\n",
       "      <td>2023-01-09</td>\n",
       "      <td>128.654114</td>\n",
       "      <td>AAPL</td>\n",
       "      <td>Technology</td>\n",
       "    </tr>\n",
       "    <tr>\n",
       "      <th>...</th>\n",
       "      <td>...</td>\n",
       "      <td>...</td>\n",
       "      <td>...</td>\n",
       "      <td>...</td>\n",
       "    </tr>\n",
       "    <tr>\n",
       "      <th>2245</th>\n",
       "      <td>2023-12-22</td>\n",
       "      <td>47.365639</td>\n",
       "      <td>INTC</td>\n",
       "      <td>Technology</td>\n",
       "    </tr>\n",
       "    <tr>\n",
       "      <th>2246</th>\n",
       "      <td>2023-12-26</td>\n",
       "      <td>49.832600</td>\n",
       "      <td>INTC</td>\n",
       "      <td>Technology</td>\n",
       "    </tr>\n",
       "    <tr>\n",
       "      <th>2247</th>\n",
       "      <td>2023-12-27</td>\n",
       "      <td>50.089161</td>\n",
       "      <td>INTC</td>\n",
       "      <td>Technology</td>\n",
       "    </tr>\n",
       "    <tr>\n",
       "      <th>2248</th>\n",
       "      <td>2023-12-28</td>\n",
       "      <td>49.724056</td>\n",
       "      <td>INTC</td>\n",
       "      <td>Technology</td>\n",
       "    </tr>\n",
       "    <tr>\n",
       "      <th>2249</th>\n",
       "      <td>2023-12-29</td>\n",
       "      <td>49.585903</td>\n",
       "      <td>INTC</td>\n",
       "      <td>Technology</td>\n",
       "    </tr>\n",
       "  </tbody>\n",
       "</table>\n",
       "<p>2250 rows × 4 columns</p>\n",
       "</div>"
      ],
      "text/plain": [
       "     IMPORT_DATE       PRICE TICKER      SECTOR\n",
       "0     2023-01-03  123.632530   AAPL  Technology\n",
       "1     2023-01-04  124.907707   AAPL  Technology\n",
       "2     2023-01-05  123.583099   AAPL  Technology\n",
       "3     2023-01-06  128.130219   AAPL  Technology\n",
       "4     2023-01-09  128.654114   AAPL  Technology\n",
       "...          ...         ...    ...         ...\n",
       "2245  2023-12-22   47.365639   INTC  Technology\n",
       "2246  2023-12-26   49.832600   INTC  Technology\n",
       "2247  2023-12-27   50.089161   INTC  Technology\n",
       "2248  2023-12-28   49.724056   INTC  Technology\n",
       "2249  2023-12-29   49.585903   INTC  Technology\n",
       "\n",
       "[2250 rows x 4 columns]"
      ]
     },
     "execution_count": 5,
     "metadata": {},
     "output_type": "execute_result"
    }
   ],
   "source": [
    "gdata = GetData(tickers, start_date, end_date)\n",
    "gdata.main_data_frame()#on cree le dataframe avec TOUS les actifs TOUTE la periode\n",
    "#il manquerait le traitement des datas"
   ]
  },
  {
   "cell_type": "code",
   "execution_count": 9,
   "metadata": {},
   "outputs": [],
   "source": [
    "from base_update import BaseUpdate \n",
    "sub_start_date = \"02/01/2023\"#chaque semaine, les strat lancent la fct et definissent les sub périodes\n",
    "#de cette maniere, products ne contient que la data jusqu'à la date t (no forward looking sur nos strats)\n",
    "sub_end_date = \"31/01/2023\""
   ]
  },
  {
   "cell_type": "code",
   "execution_count": 10,
   "metadata": {},
   "outputs": [
    {
     "name": "stdout",
     "output_type": "stream",
     "text": [
      "Failed to fetch data for AAPL: Invalid date format. Please use DD/MM/YYYY format. Error: time data '2023-01-02' does not match format '%d/%m/%Y'\n",
      "Failed to fetch data for MSFT: Invalid date format. Please use DD/MM/YYYY format. Error: time data '2023-01-02' does not match format '%d/%m/%Y'\n",
      "Failed to fetch data for GOOGL: Invalid date format. Please use DD/MM/YYYY format. Error: time data '2023-01-02' does not match format '%d/%m/%Y'\n",
      "Failed to fetch data for AMZN: Invalid date format. Please use DD/MM/YYYY format. Error: time data '2023-01-02' does not match format '%d/%m/%Y'\n",
      "Failed to fetch data for FB: Invalid date format. Please use DD/MM/YYYY format. Error: time data '2023-01-02' does not match format '%d/%m/%Y'\n",
      "Failed to fetch data for TSLA: Invalid date format. Please use DD/MM/YYYY format. Error: time data '2023-01-02' does not match format '%d/%m/%Y'\n",
      "Failed to fetch data for NVDA: Invalid date format. Please use DD/MM/YYYY format. Error: time data '2023-01-02' does not match format '%d/%m/%Y'\n",
      "Failed to fetch data for PYPL: Invalid date format. Please use DD/MM/YYYY format. Error: time data '2023-01-02' does not match format '%d/%m/%Y'\n",
      "Failed to fetch data for ADBE: Invalid date format. Please use DD/MM/YYYY format. Error: time data '2023-01-02' does not match format '%d/%m/%Y'\n",
      "Failed to fetch data for INTC: Invalid date format. Please use DD/MM/YYYY format. Error: time data '2023-01-02' does not match format '%d/%m/%Y'\n",
      "No data to update.\n"
     ]
    }
   ],
   "source": [
    "B_udt = BaseUpdate(tickers, sub_start_date, sub_end_date)\n",
    "B_udt.update_products(db_file)#on met a jour products jusqu'à la data t"
   ]
  },
  {
   "cell_type": "code",
   "execution_count": null,
   "metadata": {},
   "outputs": [],
   "source": []
  }
 ],
 "metadata": {
  "kernelspec": {
   "display_name": "Python 3",
   "language": "python",
   "name": "python3"
  },
  "language_info": {
   "codemirror_mode": {
    "name": "ipython",
    "version": 3
   },
   "file_extension": ".py",
   "mimetype": "text/x-python",
   "name": "python",
   "nbconvert_exporter": "python",
   "pygments_lexer": "ipython3",
   "version": "3.12.1"
  }
 },
 "nbformat": 4,
 "nbformat_minor": 2
}
