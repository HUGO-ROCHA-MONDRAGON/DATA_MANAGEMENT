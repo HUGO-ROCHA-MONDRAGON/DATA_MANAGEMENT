{
 "cells": [
  {
   "cell_type": "code",
   "execution_count": 1,
   "metadata": {},
   "outputs": [],
   "source": [
    "import sqlite3\n",
    "import pandas as pd\n",
    "db_file = \"Fund.db\"\n",
    "tickers = ['AAPL', 'MSFT', 'GOOGL', 'AMZN', 'FB', 'TSLA', 'NVDA', 'PYPL', 'ADBE', 'INTC']#tickers contenus dans MAIN_DATA_FRAME\n",
    "\n",
    "start_date = \"02/01/2023\"#toute la periode start date (pour tout telecharger dun coup)\n",
    "end_date = \"31/12/2023\"#pareil"
   ]
  },
  {
   "cell_type": "markdown",
   "metadata": {},
   "source": [
    "## 1. Creation et peuplement de la base"
   ]
  },
  {
   "cell_type": "code",
   "execution_count": 2,
   "metadata": {},
   "outputs": [],
   "source": [
    "from base_builder import DatabaseBuilder"
   ]
  },
  {
   "cell_type": "code",
   "execution_count": 3,
   "metadata": {},
   "outputs": [
    {
     "name": "stdout",
     "output_type": "stream",
     "text": [
      "Tables created successfully.\n",
      "Erreur SQLite : table Clients has no column named AMOUNT_INVESTED\n",
      "Tuple créé avec 7 éléments: ('Lisa', 'Hill', '1990-10-13', 'jennifer57@example.com', '001-530-361-4872x594', 1, 95523335.73)\n",
      "Tuple créé avec 7 éléments: ('Kristin', 'Schmitt', '1970-07-06', 'moralesjohn@example.com', '2484457289', 20, 69384198.93)\n",
      "Tuple créé avec 7 éléments: ('Kimberly', 'Torres', '1983-11-04', 'lisa27@example.com', '(838)590-5807', 7, 9016035.2)\n",
      "3 managers insérés avec succès dans la table 'Managers'.\n"
     ]
    }
   ],
   "source": [
    "db_manager = DatabaseBuilder(db_file)\n",
    "db_manager.create_tables()\n",
    "db_manager.insert_clients_data(3)\n",
    "db_manager.insert_managers_data(3)"
   ]
  },
  {
   "cell_type": "code",
   "execution_count": 56,
   "metadata": {},
   "outputs": [],
   "source": [
    "from faker import Faker\n",
    "fake = Faker()\n",
    "import random\n",
    "\n"
   ]
  },
  {
   "cell_type": "code",
   "execution_count": 93,
   "metadata": {},
   "outputs": [
    {
     "data": {
      "text/plain": [
       "7"
      ]
     },
     "execution_count": 93,
     "metadata": {},
     "output_type": "execute_result"
    }
   ],
   "source": [
    "BIRTH_DATE_OBJ = fake.date_of_birth(minimum_age=18, maximum_age=65)\n",
    "BIRTH_DATE = BIRTH_DATE_OBJ.isoformat()              \n",
    "    # Calcul de l'âge à la date de référence \n",
    "reference_date = date(2024, 12, 31)\n",
    "age_at_reference = (reference_date - BIRTH_DATE_OBJ).days // 365\n",
    "           # Séniorité possible = âge - 18 (car on suppose début de carrière à 18 ans)\n",
    "max_seniority = max(age_at_reference - 18, 0)\n",
    "SENIORITY = int(random.randint(0, max_seniority))\n",
    "SENIORITY"
   ]
  },
  {
   "cell_type": "code",
   "execution_count": 61,
   "metadata": {},
   "outputs": [],
   "source": [
    "managers_data = []\n",
    "FIRST_NAME = fake.first_name()\n",
    "LAST_NAME = fake.last_name()\n",
    "EMAIL = fake.email()\n",
    "PHONE = fake.phone_number()\n",
    "BIRTH_DATE_OBJ = fake.date_of_birth(minimum_age=18, maximum_age=65)\n",
    "BIRTH_DATE = BIRTH_DATE_OBJ.strftime(\"%d/%m/%Y\")\n",
    " # Calcul de l'âge à la date de référence (par exemple fin 2024)\n",
    "reference_date = date(2024, 12, 31)\n",
    "age_at_reference = (reference_date - BIRTH_DATE_OBJ).days // 365\n",
    "      # Séniorité possible = âge - 18 (car on suppose début de carrière à 18 ans)\n",
    "max_seniority = max(age_at_reference - 18, 0)\n",
    "SENIORITY = random.randint(0, max_seniority)\n",
    "ASSET_UNDER_MANAGEMENT = 0\n",
    "manager_tuple = (FIRST_NAME, LAST_NAME, BIRTH_DATE, EMAIL, PHONE, SENIORITY, ASSET_UNDER_MANAGEMENT)\n",
    "if len(manager_tuple) != 7:\n",
    "    print(\"❌ Erreur : manager_tuple incomplet :\", manager_tuple)\n",
    "else:\n",
    "    managers_data.append(manager_tuple)"
   ]
  },
  {
   "cell_type": "markdown",
   "metadata": {},
   "source": [
    "## 2. Collecte et traitement des datas"
   ]
  },
  {
   "cell_type": "code",
   "execution_count": 6,
   "metadata": {},
   "outputs": [],
   "source": [
    "from data_collector import GetData"
   ]
  },
  {
   "cell_type": "code",
   "execution_count": 7,
   "metadata": {},
   "outputs": [
    {
     "name": "stderr",
     "output_type": "stream",
     "text": [
      "[*********************100%***********************]  1 of 1 completed\n",
      "[*********************100%***********************]  1 of 1 completed\n",
      "[*********************100%***********************]  1 of 1 completed\n",
      "[*********************100%***********************]  1 of 1 completed\n",
      "[*********************100%***********************]  1 of 1 completed\n",
      "\n",
      "1 Failed download:\n",
      "['FB']: YFTzMissingError('possibly delisted; no timezone found')\n",
      "[*********************100%***********************]  1 of 1 completed\n",
      "[*********************100%***********************]  1 of 1 completed\n",
      "[*********************100%***********************]  1 of 1 completed\n",
      "[*********************100%***********************]  1 of 1 completed\n",
      "[*********************100%***********************]  1 of 1 completed\n"
     ]
    },
    {
     "data": {
      "text/html": [
       "<div>\n",
       "<style scoped>\n",
       "    .dataframe tbody tr th:only-of-type {\n",
       "        vertical-align: middle;\n",
       "    }\n",
       "\n",
       "    .dataframe tbody tr th {\n",
       "        vertical-align: top;\n",
       "    }\n",
       "\n",
       "    .dataframe thead th {\n",
       "        text-align: right;\n",
       "    }\n",
       "</style>\n",
       "<table border=\"1\" class=\"dataframe\">\n",
       "  <thead>\n",
       "    <tr style=\"text-align: right;\">\n",
       "      <th></th>\n",
       "      <th>IMPORT_DATE</th>\n",
       "      <th>PRICE</th>\n",
       "      <th>TICKER</th>\n",
       "      <th>SECTOR</th>\n",
       "    </tr>\n",
       "  </thead>\n",
       "  <tbody>\n",
       "    <tr>\n",
       "      <th>0</th>\n",
       "      <td>2023-01-03</td>\n",
       "      <td>123.632515</td>\n",
       "      <td>AAPL</td>\n",
       "      <td>Technology</td>\n",
       "    </tr>\n",
       "    <tr>\n",
       "      <th>1</th>\n",
       "      <td>2023-01-04</td>\n",
       "      <td>124.907700</td>\n",
       "      <td>AAPL</td>\n",
       "      <td>Technology</td>\n",
       "    </tr>\n",
       "    <tr>\n",
       "      <th>2</th>\n",
       "      <td>2023-01-05</td>\n",
       "      <td>123.583092</td>\n",
       "      <td>AAPL</td>\n",
       "      <td>Technology</td>\n",
       "    </tr>\n",
       "    <tr>\n",
       "      <th>3</th>\n",
       "      <td>2023-01-06</td>\n",
       "      <td>128.130234</td>\n",
       "      <td>AAPL</td>\n",
       "      <td>Technology</td>\n",
       "    </tr>\n",
       "    <tr>\n",
       "      <th>4</th>\n",
       "      <td>2023-01-09</td>\n",
       "      <td>128.654160</td>\n",
       "      <td>AAPL</td>\n",
       "      <td>Technology</td>\n",
       "    </tr>\n",
       "    <tr>\n",
       "      <th>...</th>\n",
       "      <td>...</td>\n",
       "      <td>...</td>\n",
       "      <td>...</td>\n",
       "      <td>...</td>\n",
       "    </tr>\n",
       "    <tr>\n",
       "      <th>2245</th>\n",
       "      <td>2023-12-22</td>\n",
       "      <td>47.365639</td>\n",
       "      <td>INTC</td>\n",
       "      <td>Technology</td>\n",
       "    </tr>\n",
       "    <tr>\n",
       "      <th>2246</th>\n",
       "      <td>2023-12-26</td>\n",
       "      <td>49.832600</td>\n",
       "      <td>INTC</td>\n",
       "      <td>Technology</td>\n",
       "    </tr>\n",
       "    <tr>\n",
       "      <th>2247</th>\n",
       "      <td>2023-12-27</td>\n",
       "      <td>50.089161</td>\n",
       "      <td>INTC</td>\n",
       "      <td>Technology</td>\n",
       "    </tr>\n",
       "    <tr>\n",
       "      <th>2248</th>\n",
       "      <td>2023-12-28</td>\n",
       "      <td>49.724056</td>\n",
       "      <td>INTC</td>\n",
       "      <td>Technology</td>\n",
       "    </tr>\n",
       "    <tr>\n",
       "      <th>2249</th>\n",
       "      <td>2023-12-29</td>\n",
       "      <td>49.585903</td>\n",
       "      <td>INTC</td>\n",
       "      <td>Technology</td>\n",
       "    </tr>\n",
       "  </tbody>\n",
       "</table>\n",
       "<p>2250 rows × 4 columns</p>\n",
       "</div>"
      ],
      "text/plain": [
       "     IMPORT_DATE       PRICE TICKER      SECTOR\n",
       "0     2023-01-03  123.632515   AAPL  Technology\n",
       "1     2023-01-04  124.907700   AAPL  Technology\n",
       "2     2023-01-05  123.583092   AAPL  Technology\n",
       "3     2023-01-06  128.130234   AAPL  Technology\n",
       "4     2023-01-09  128.654160   AAPL  Technology\n",
       "...          ...         ...    ...         ...\n",
       "2245  2023-12-22   47.365639   INTC  Technology\n",
       "2246  2023-12-26   49.832600   INTC  Technology\n",
       "2247  2023-12-27   50.089161   INTC  Technology\n",
       "2248  2023-12-28   49.724056   INTC  Technology\n",
       "2249  2023-12-29   49.585903   INTC  Technology\n",
       "\n",
       "[2250 rows x 4 columns]"
      ]
     },
     "execution_count": 7,
     "metadata": {},
     "output_type": "execute_result"
    }
   ],
   "source": [
    "gdata = GetData(tickers, start_date, end_date)\n",
    "gdata.main_data_frame()#on cree le dataframe avec TOUS les actifs TOUTE la periode\n",
    "#il manquerait le traitement des datas"
   ]
  },
  {
   "cell_type": "code",
   "execution_count": 8,
   "metadata": {},
   "outputs": [],
   "source": [
    "from base_update import BaseUpdate \n",
    "sub_start_date = \"02/01/2023\"#chaque semaine, les strat lancent la fct et definissent les sub périodes\n",
    "#de cette maniere, products ne contient que la data jusqu'à la date t (no forward looking sur nos strats)\n",
    "sub_end_date = \"31/01/2023\""
   ]
  },
  {
   "cell_type": "code",
   "execution_count": 9,
   "metadata": {},
   "outputs": [
    {
     "name": "stderr",
     "output_type": "stream",
     "text": [
      "[*********************100%***********************]  1 of 1 completed\n",
      "[*********************100%***********************]  1 of 1 completed\n",
      "[*********************100%***********************]  1 of 1 completed\n",
      "[*********************100%***********************]  1 of 1 completed\n",
      "[*********************100%***********************]  1 of 1 completed\n",
      "\n",
      "1 Failed download:\n",
      "['FB']: YFTzMissingError('possibly delisted; no timezone found')\n",
      "[*********************100%***********************]  1 of 1 completed\n",
      "[*********************100%***********************]  1 of 1 completed\n",
      "[*********************100%***********************]  1 of 1 completed\n",
      "[*********************100%***********************]  1 of 1 completed\n",
      "[*********************100%***********************]  1 of 1 completed\n"
     ]
    },
    {
     "name": "stdout",
     "output_type": "stream",
     "text": [
      "Successfully inserted 171 new records into Products table for the period 02/01/2023 to 31/01/2023\n"
     ]
    }
   ],
   "source": [
    "B_udt = BaseUpdate(tickers, sub_start_date, sub_end_date)\n",
    "B_udt.update_products(db_file)#on met a jour products jusqu'à la data t"
   ]
  },
  {
   "cell_type": "code",
   "execution_count": null,
   "metadata": {},
   "outputs": [],
   "source": []
  }
 ],
 "metadata": {
  "kernelspec": {
   "display_name": "Python 3",
   "language": "python",
   "name": "python3"
  },
  "language_info": {
   "codemirror_mode": {
    "name": "ipython",
    "version": 3
   },
   "file_extension": ".py",
   "mimetype": "text/x-python",
   "name": "python",
   "nbconvert_exporter": "python",
   "pygments_lexer": "ipython3",
   "version": "3.12.1"
  }
 },
 "nbformat": 4,
 "nbformat_minor": 2
}
