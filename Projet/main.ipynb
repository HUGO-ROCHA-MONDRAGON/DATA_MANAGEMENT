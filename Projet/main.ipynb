{
 "cells": [
  {
   "cell_type": "code",
   "execution_count": 23,
   "metadata": {},
   "outputs": [],
   "source": [
    "import sqlite3\n",
    "import pandas as pd\n",
    "db_file = \"Fund.db\"\n",
    "tickers = ['AAPL', 'MSFT', 'GOOGL', 'AMZN', 'FB', 'TSLA', 'NVDA', 'PYPL', 'ADBE', 'INTC']\n",
    "start_date = \"02/01/2023\"\n",
    "end_date = \"31/12/2023\""
   ]
  },
  {
   "cell_type": "markdown",
   "metadata": {},
   "source": [
    "## 1. Creation et peuplement de la base"
   ]
  },
  {
   "cell_type": "code",
   "execution_count": 16,
   "metadata": {},
   "outputs": [],
   "source": [
    "from base_builder import DatabaseBuilder"
   ]
  },
  {
   "cell_type": "code",
   "execution_count": 17,
   "metadata": {},
   "outputs": [
    {
     "name": "stdout",
     "output_type": "stream",
     "text": [
      "Tables created successfully.\n",
      "3 clients insérés avec succès dans la table 'Clients'.\n",
      "3 managers insérés avec succès dans la table 'Managers'.\n"
     ]
    }
   ],
   "source": [
    "db_manager = DatabaseBuilder(db_file)\n",
    "db_manager.create_tables()\n",
    "db_manager.insert_clients_data(3)\n",
    "db_manager.insert_managers_data(3)"
   ]
  },
  {
   "cell_type": "markdown",
   "metadata": {},
   "source": [
    "## 2. Collecte et traitement des datas"
   ]
  },
  {
   "cell_type": "code",
   "execution_count": null,
   "metadata": {},
   "outputs": [],
   "source": [
    "from base_update import BaseUpdate"
   ]
  },
  {
   "cell_type": "code",
   "execution_count": null,
   "metadata": {},
   "outputs": [
    {
     "name": "stderr",
     "output_type": "stream",
     "text": [
      "[*********************100%***********************]  1 of 1 completed\n",
      "\n",
      "1 Failed download:\n",
      "['AAPL']: ValueError(\"time data '31/12/2023' does not match format '%Y-%m-%d'\")\n",
      "[*********************100%***********************]  1 of 1 completed\n",
      "\n",
      "1 Failed download:\n",
      "['GOOGL']: ValueError(\"time data '31/12/2023' does not match format '%Y-%m-%d'\")\n",
      "[*********************100%***********************]  1 of 1 completed\n",
      "\n",
      "1 Failed download:\n",
      "['AMZN']: ValueError(\"time data '31/12/2023' does not match format '%Y-%m-%d'\")\n",
      "[*********************100%***********************]  1 of 1 completed\n",
      "\n",
      "1 Failed download:\n",
      "['MSFT']: ValueError(\"time data '31/12/2023' does not match format '%Y-%m-%d'\")\n",
      "[*********************100%***********************]  1 of 1 completed\n",
      "\n",
      "1 Failed download:\n",
      "['TSLA']: ValueError(\"time data '31/12/2023' does not match format '%Y-%m-%d'\")\n",
      "[*********************100%***********************]  1 of 1 completed\n",
      "\n",
      "1 Failed download:\n",
      "['META']: ValueError(\"time data '31/12/2023' does not match format '%Y-%m-%d'\")\n",
      "[*********************100%***********************]  1 of 1 completed\n",
      "\n",
      "1 Failed download:\n",
      "['NVDA']: ValueError(\"time data '31/12/2023' does not match format '%Y-%m-%d'\")\n",
      "[*********************100%***********************]  1 of 1 completed\n",
      "\n",
      "1 Failed download:\n",
      "['PYPL']: ValueError(\"time data '31/12/2023' does not match format '%Y-%m-%d'\")\n"
     ]
    },
    {
     "name": "stderr",
     "output_type": "stream",
     "text": [
      "[*********************100%***********************]  1 of 1 completed\n",
      "\n",
      "1 Failed download:\n",
      "['ADBE']: ValueError(\"time data '31/12/2023' does not match format '%Y-%m-%d'\")\n",
      "[*********************100%***********************]  1 of 1 completed\n",
      "\n",
      "1 Failed download:\n",
      "['INTC']: ValueError(\"time data '31/12/2023' does not match format '%Y-%m-%d'\")\n"
     ]
    }
   ],
   "source": [
    "gdata = BaseUpdate(tickers, start_date, end_date)\n",
    "gdata.main_data_frame()"
   ]
  },
  {
   "cell_type": "code",
   "execution_count": null,
   "metadata": {},
   "outputs": [],
   "source": []
  }
 ],
 "metadata": {
  "kernelspec": {
   "display_name": "Python 3",
   "language": "python",
   "name": "python3"
  },
  "language_info": {
   "codemirror_mode": {
    "name": "ipython",
    "version": 3
   },
   "file_extension": ".py",
   "mimetype": "text/x-python",
   "name": "python",
   "nbconvert_exporter": "python",
   "pygments_lexer": "ipython3",
   "version": "3.12.1"
  }
 },
 "nbformat": 4,
 "nbformat_minor": 2
}
