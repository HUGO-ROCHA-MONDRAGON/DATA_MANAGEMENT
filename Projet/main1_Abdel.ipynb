{
 "cells": [
  {
   "cell_type": "code",
   "execution_count": 1,
   "metadata": {},
   "outputs": [
    {
     "name": "stdout",
     "output_type": "stream",
     "text": [
      "Requirement already satisfied: pandas in /home/codespace/.local/lib/python3.12/site-packages (from -r requirement.txt (line 1)) (2.2.3)\n",
      "Requirement already satisfied: yfinance in /home/codespace/.python/current/lib/python3.12/site-packages (from -r requirement.txt (line 2)) (0.2.55)\n",
      "Requirement already satisfied: faker in /home/codespace/.python/current/lib/python3.12/site-packages (from -r requirement.txt (line 3)) (37.1.0)\n",
      "Requirement already satisfied: scipy in /home/codespace/.local/lib/python3.12/site-packages (from -r requirement.txt (line 4)) (1.15.2)\n",
      "Requirement already satisfied: schedule in /home/codespace/.python/current/lib/python3.12/site-packages (from -r requirement.txt (line 5)) (1.2.2)\n",
      "Requirement already satisfied: numpy>=1.26.0 in /home/codespace/.local/lib/python3.12/site-packages (from pandas->-r requirement.txt (line 1)) (2.2.4)\n",
      "Requirement already satisfied: python-dateutil>=2.8.2 in /home/codespace/.local/lib/python3.12/site-packages (from pandas->-r requirement.txt (line 1)) (2.9.0.post0)\n",
      "Requirement already satisfied: pytz>=2020.1 in /home/codespace/.local/lib/python3.12/site-packages (from pandas->-r requirement.txt (line 1)) (2025.1)\n",
      "Requirement already satisfied: tzdata>=2022.7 in /home/codespace/.local/lib/python3.12/site-packages (from pandas->-r requirement.txt (line 1)) (2025.1)\n",
      "Requirement already satisfied: requests>=2.31 in /home/codespace/.local/lib/python3.12/site-packages (from yfinance->-r requirement.txt (line 2)) (2.32.3)\n",
      "Requirement already satisfied: multitasking>=0.0.7 in /home/codespace/.python/current/lib/python3.12/site-packages (from yfinance->-r requirement.txt (line 2)) (0.0.11)\n",
      "Requirement already satisfied: platformdirs>=2.0.0 in /home/codespace/.local/lib/python3.12/site-packages (from yfinance->-r requirement.txt (line 2)) (4.3.6)\n",
      "Requirement already satisfied: frozendict>=2.3.4 in /home/codespace/.python/current/lib/python3.12/site-packages (from yfinance->-r requirement.txt (line 2)) (2.4.6)\n",
      "Requirement already satisfied: peewee>=3.16.2 in /home/codespace/.python/current/lib/python3.12/site-packages (from yfinance->-r requirement.txt (line 2)) (3.17.9)\n",
      "Requirement already satisfied: beautifulsoup4>=4.11.1 in /home/codespace/.local/lib/python3.12/site-packages (from yfinance->-r requirement.txt (line 2)) (4.13.3)\n",
      "Requirement already satisfied: soupsieve>1.2 in /home/codespace/.local/lib/python3.12/site-packages (from beautifulsoup4>=4.11.1->yfinance->-r requirement.txt (line 2)) (2.6)\n",
      "Requirement already satisfied: typing-extensions>=4.0.0 in /home/codespace/.local/lib/python3.12/site-packages (from beautifulsoup4>=4.11.1->yfinance->-r requirement.txt (line 2)) (4.12.2)\n",
      "Requirement already satisfied: six>=1.5 in /home/codespace/.local/lib/python3.12/site-packages (from python-dateutil>=2.8.2->pandas->-r requirement.txt (line 1)) (1.17.0)\n",
      "Requirement already satisfied: charset-normalizer<4,>=2 in /home/codespace/.local/lib/python3.12/site-packages (from requests>=2.31->yfinance->-r requirement.txt (line 2)) (3.4.1)\n",
      "Requirement already satisfied: idna<4,>=2.5 in /home/codespace/.local/lib/python3.12/site-packages (from requests>=2.31->yfinance->-r requirement.txt (line 2)) (3.10)\n",
      "Requirement already satisfied: urllib3<3,>=1.21.1 in /home/codespace/.local/lib/python3.12/site-packages (from requests>=2.31->yfinance->-r requirement.txt (line 2)) (2.3.0)\n",
      "Requirement already satisfied: certifi>=2017.4.17 in /home/codespace/.local/lib/python3.12/site-packages (from requests>=2.31->yfinance->-r requirement.txt (line 2)) (2025.1.31)\n",
      "Note: you may need to restart the kernel to use updated packages.\n"
     ]
    }
   ],
   "source": [
    "pip install -r \"requirement.txt\""
   ]
  },
  {
   "cell_type": "code",
   "execution_count": 44,
   "metadata": {},
   "outputs": [],
   "source": [
    "import sqlite3\n",
    "import pandas as pd\n",
    "db_file = \"Fund.db\"\n",
    "tickers = ['AAPL','MSFT', 'GOOGL', 'AMZN', 'META', 'TSLA', 'NVDA', 'PYPL', 'ADBE', 'INTC',\"BND\", \"AGG\", \"TLT\", \"GLD\", \"JNJ\", \"KO\", \"PG\"]#tickers contenus dans MAIN_DATA_FRAME\n",
    "\n",
    "start_date = \"01/09/2022\"#toute la periode start date (pour tout telecharger dun coup) + 3 mois avant\n",
    "end_date = \"31/12/2024\"#pareil"
   ]
  },
  {
   "cell_type": "markdown",
   "metadata": {},
   "source": [
    "## 1. Creation et peuplement de la base"
   ]
  },
  {
   "cell_type": "code",
   "execution_count": 45,
   "metadata": {},
   "outputs": [],
   "source": [
    "from base_builder import DatabaseBuilder"
   ]
  },
  {
   "cell_type": "code",
   "execution_count": 46,
   "metadata": {},
   "outputs": [
    {
     "name": "stdout",
     "output_type": "stream",
     "text": [
      "Tables created successfully.\n",
      "12 clients insérés avec succès dans la table 'Clients'.\n",
      "3 managers insérés avec succès dans la table 'Managers'.\n"
     ]
    }
   ],
   "source": [
    "db_manager = DatabaseBuilder(db_file)\n",
    "db_manager.create_tables()\n",
    "db_manager.insert_clients_data(12)\n",
    "db_manager.insert_managers_data(3)"
   ]
  },
  {
   "cell_type": "code",
   "execution_count": 47,
   "metadata": {},
   "outputs": [
    {
     "name": "stdout",
     "output_type": "stream",
     "text": [
      "\n",
      "Résumé des investissements par risk type:\n",
      "--------------------------------------------------\n",
      "Risk Type: HY_EQUITY\n",
      "Nombre de clients: 6\n",
      "Montant total investi: 36,816,725.01 €\n",
      "--------------------------------------------------\n",
      "Risk Type: LOW_RISK\n",
      "Nombre de clients: 12\n",
      "Montant total investi: 50,206,035.78 €\n",
      "--------------------------------------------------\n",
      "Risk Type: LOW_TURNOVER\n",
      "Nombre de clients: 18\n",
      "Montant total investi: 67,733,394.74 €\n",
      "--------------------------------------------------\n",
      "Montants initiaux en cash insérés avec succès dans la table Portfolios.\n"
     ]
    }
   ],
   "source": [
    "db_manager.get_investment_amount_by_risk_type()\n",
    "db_manager.insert_initial_cash_portfolios(start_date)"
   ]
  },
  {
   "cell_type": "markdown",
   "metadata": {},
   "source": [
    "## 2. Collecte et traitement des datas"
   ]
  },
  {
   "cell_type": "code",
   "execution_count": 48,
   "metadata": {},
   "outputs": [],
   "source": [
    "from data_collector import GetData"
   ]
  },
  {
   "cell_type": "code",
   "execution_count": 35,
   "metadata": {},
   "outputs": [
    {
     "name": "stderr",
     "output_type": "stream",
     "text": [
      "[*********************100%***********************]  1 of 1 completed\n",
      "[*********************100%***********************]  1 of 1 completed\n",
      "[*********************100%***********************]  1 of 1 completed\n",
      "[*********************100%***********************]  1 of 1 completed\n",
      "[*********************100%***********************]  1 of 1 completed\n",
      "[*********************100%***********************]  1 of 1 completed\n",
      "[*********************100%***********************]  1 of 1 completed\n",
      "[*********************100%***********************]  1 of 1 completed\n",
      "[*********************100%***********************]  1 of 1 completed\n",
      "[*********************100%***********************]  1 of 1 completed\n",
      "[*********************100%***********************]  1 of 1 completed\n",
      "[*********************100%***********************]  1 of 1 completed\n",
      "[*********************100%***********************]  1 of 1 completed\n",
      "[*********************100%***********************]  1 of 1 completed\n",
      "[*********************100%***********************]  1 of 1 completed\n",
      "[*********************100%***********************]  1 of 1 completed\n",
      "[*********************100%***********************]  1 of 1 completed\n"
     ]
    }
   ],
   "source": [
    "gdata = GetData(tickers, start_date, end_date)\n",
    "main_df =gdata.main_data_frame()  "
   ]
  },
  {
   "cell_type": "markdown",
   "metadata": {},
   "source": [
    "# 3. Periode avant t = 0 (Periode de \"test\")"
   ]
  },
  {
   "cell_type": "markdown",
   "metadata": {},
   "source": [
    "On peuple Products avec des trois mois de donnees avant la periode d'evaluation du fonds (qui commence le 01/01/2023)"
   ]
  },
  {
   "cell_type": "code",
   "execution_count": 36,
   "metadata": {},
   "outputs": [],
   "source": [
    "from base_update import *\n",
    "sub_start_date = \"01/09/2022\"#chaque semaine, les strat lancent la fct et definissent les sub périodes\n",
    "#de cette maniere, products ne contient que la data jusqu'à la date t (no forward looking sur nos strats)\n",
    "sub_end_date = \"29/12/2022\""
   ]
  },
  {
   "cell_type": "code",
   "execution_count": 37,
   "metadata": {},
   "outputs": [
    {
     "name": "stdout",
     "output_type": "stream",
     "text": [
      "Successfully inserted 1411 new records into Products table for the period 01/09/2022 to 29/12/2022\n"
     ]
    }
   ],
   "source": [
    "B_udt = BaseUpdate(tickers, sub_start_date, sub_end_date, db_file, main_df)\n",
    "B_udt.update_products()"
   ]
  },
  {
   "cell_type": "markdown",
   "metadata": {},
   "source": [
    "### Initialisation des portefeuilles en fonction du cash initial"
   ]
  },
  {
   "cell_type": "markdown",
   "metadata": {},
   "source": [
    "Pour la strategie HY equity, on prend les 5 tickers les plus performants de la periode (allant du 01/09/2022 au 30/12/2022)"
   ]
  },
  {
   "cell_type": "code",
   "execution_count": 38,
   "metadata": {},
   "outputs": [
    {
     "name": "stdout",
     "output_type": "stream",
     "text": [
      "Le portefeuille HY_EQUITY est déjà initialisé\n",
      "✅ Portefeuille LOW_RISK initialisé avec quantité = 0 pour tous les actifs.\n"
     ]
    }
   ],
   "source": [
    "B_udt.initialisation_portefeuille_HY()\n",
    "update_portefeuille2(db_file,['BND', 'AGG', 'JNJ', 'KO', 'PG'], \"LOW_RISK\")"
   ]
  },
  {
   "cell_type": "code",
   "execution_count": null,
   "metadata": {},
   "outputs": [],
   "source": [
    "import sqlite3\n",
    "import pandas as pd\n",
    "import numpy as np\n",
    "from datetime import datetime\n",
    "\n",
    "def strategie_montecarlo_robuste(\n",
    "    db_file: str,\n",
    "    risk_type: str = \"LOW_RISK\",\n",
    "    num_simulations: int = 200,\n",
    "    num_days: int = 7,\n",
    "    target_volatility: float = 0.10\n",
    "):\n",
    "    conn = sqlite3.connect(db_file)\n",
    "\n",
    "    # 🔹 Récupérer automatiquement le MANAGER_ID\n",
    "    manager_query = \"\"\"\n",
    "        SELECT MANAGER_ID FROM Portfolios\n",
    "        WHERE RISK_TYPE = ? LIMIT 1\n",
    "    \"\"\"\n",
    "    manager_row = pd.read_sql_query(manager_query, conn, params=(risk_type,))\n",
    "    if manager_row.empty:\n",
    "        return f\"Aucun manager trouvé pour le portefeuille {risk_type}.\"\n",
    "    manager_id = int(manager_row['MANAGER_ID'].iloc[0])\n",
    "\n",
    "    # 🔹 Récupérer le budget disponible\n",
    "    cash_query = \"\"\"\n",
    "        SELECT QUANTITY FROM Portfolios\n",
    "        WHERE RISK_TYPE = ? AND TICKER = 'CASH'\n",
    "    \"\"\"\n",
    "    cash_row = pd.read_sql_query(cash_query, conn, params=(risk_type,))\n",
    "    if cash_row.empty:\n",
    "        return \"Pas de ligne 'CASH' dans le portefeuille.\"\n",
    "    max_budget = float(cash_row['QUANTITY'].iloc[0])\n",
    "\n",
    "    # 🔹 Récupérer les tickers présents dans le portefeuille\n",
    "    initial_query = \"\"\"\n",
    "        SELECT TICKER, QUANTITY FROM Portfolios\n",
    "        WHERE RISK_TYPE = ? AND TICKER != 'CASH'\n",
    "    \"\"\"\n",
    "    initial_df = pd.read_sql_query(initial_query, conn, params=(risk_type,))\n",
    "    portfolio_tickers = initial_df['TICKER'].tolist()\n",
    "\n",
    "    if not portfolio_tickers:\n",
    "        return \"Aucun actif à simuler.\"\n",
    "\n",
    "    # 🔹 Récupérer les données de prix\n",
    "    price_data = {}\n",
    "    for ticker in portfolio_tickers:\n",
    "        df = pd.read_sql_query(\"\"\"\n",
    "            SELECT IMPORT_DATE, PRICE FROM Products\n",
    "            WHERE TICKER = ? ORDER BY IMPORT_DATE ASC\n",
    "        \"\"\", conn, params=(ticker,))\n",
    "        if not df.empty:\n",
    "            df['IMPORT_DATE'] = pd.to_datetime(df['IMPORT_DATE'], dayfirst=True)\n",
    "            df.set_index('IMPORT_DATE', inplace=True)\n",
    "            price_data[ticker] = df['PRICE']\n",
    "\n",
    "    if not price_data:\n",
    "        return \"Données de prix manquantes.\"\n",
    "\n",
    "    prices_df = pd.concat(price_data.values(), axis=1)\n",
    "    prices_df.columns = list(price_data.keys())\n",
    "    prices_df.dropna(inplace=True)\n",
    "\n",
    "    log_returns = np.log(prices_df / prices_df.shift(1)).dropna()\n",
    "    mean_returns = log_returns.mean()\n",
    "    cov_matrix = log_returns.cov()\n",
    "    latest_prices = prices_df.iloc[-1].values\n",
    "    tickers = prices_df.columns.tolist()\n",
    "    nb_assets = len(tickers)\n",
    "\n",
    "    # 🔹 Quantités initiales\n",
    "    initial_quantities = np.zeros(nb_assets)\n",
    "    for i, ticker in enumerate(tickers):\n",
    "        row = initial_df[initial_df['TICKER'] == ticker]\n",
    "        if not row.empty:\n",
    "            initial_quantities[i] = float(row['QUANTITY'].iloc[0])\n",
    "    initial_cost = np.sum(initial_quantities * latest_prices)\n",
    "\n",
    "    def simulate_gain(q):\n",
    "        final_values = []\n",
    "        for _ in range(30):\n",
    "            future_prices = latest_prices.copy()\n",
    "            for _ in range(num_days):\n",
    "                daily_returns = np.random.multivariate_normal(mean_returns, cov_matrix)\n",
    "                future_prices *= np.exp(daily_returns)\n",
    "            final_values.append(np.sum(future_prices * q))\n",
    "        return np.mean(final_values)\n",
    "\n",
    "    initial_gain = simulate_gain(initial_quantities)\n",
    "    initial_result = {\n",
    "        'tickers': tickers,\n",
    "        'quantities': dict(zip(tickers, initial_quantities.astype(int))),\n",
    "        'volatility': np.sqrt(np.dot((initial_quantities / np.sum(initial_quantities)).T,\n",
    "                                     np.dot(cov_matrix * num_days, (initial_quantities / np.sum(initial_quantities))))),\n",
    "        'expected_return': np.sum(mean_returns * initial_quantities / np.sum(initial_quantities)) * num_days,\n",
    "        'total_cost': initial_cost,\n",
    "        'gain_or_loss': initial_gain - initial_cost,\n",
    "        'performance': 'gain' if initial_gain - initial_cost > 0 else 'loss'\n",
    "    }\n",
    "\n",
    "    best_result = initial_result\n",
    "\n",
    "    for _ in range(num_simulations):\n",
    "        weights = np.random.random(nb_assets)\n",
    "        weights /= np.sum(weights)\n",
    "        candidate_quantities = np.floor((weights * max_budget) / latest_prices)\n",
    "\n",
    "        # ✅ Contraintes de vente max 1000 et achat max 5000\n",
    "        diff = candidate_quantities - initial_quantities\n",
    "        if any(diff < -10000) or any(diff > 150000):\n",
    "            continue\n",
    "\n",
    "        port_vol = np.sqrt(np.dot((candidate_quantities / np.sum(candidate_quantities)).T,\n",
    "                                  np.dot(cov_matrix * num_days, (candidate_quantities / np.sum(candidate_quantities)))))\n",
    "        total_cost = np.sum(candidate_quantities * latest_prices)\n",
    "\n",
    "        if port_vol <= target_volatility and total_cost <= max_budget:\n",
    "            future_value = simulate_gain(candidate_quantities)\n",
    "            gain_or_loss = future_value - total_cost\n",
    "\n",
    "            if gain_or_loss > best_result['gain_or_loss']:\n",
    "                best_result = {\n",
    "                    'tickers': tickers,\n",
    "                    'quantities': dict(zip(tickers, candidate_quantities.astype(int))),\n",
    "                    'volatility': port_vol,\n",
    "                    'expected_return': np.sum(mean_returns * candidate_quantities / np.sum(candidate_quantities)) * num_days,\n",
    "                    'total_cost': total_cost,\n",
    "                    'gain_or_loss': gain_or_loss,\n",
    "                    'performance': 'gain' if gain_or_loss > 0 else 'loss'\n",
    "                }\n",
    "\n",
    "    # ✅ Si aucune stratégie trouvée, on conserve le portefeuille actuel\n",
    "    if best_result == initial_result:\n",
    "        conn.close()\n",
    "        return \"⚠️ Aucune stratégie optimale trouvée. Portefeuille conservé.\"\n",
    "\n",
    "    # 🔹 Mise à jour Portfolios & Deals\n",
    "    cursor = conn.cursor()\n",
    "    cursor.execute(\"DELETE FROM Portfolios WHERE RISK_TYPE = ?\", (risk_type,))\n",
    "    conn.commit()\n",
    "\n",
    "    for ticker in best_result['tickers']:\n",
    "        quantity = int(best_result['quantities'][ticker])\n",
    "        spot = float(prices_df[ticker].iloc[-1])\n",
    "        cursor.execute(\"\"\"\n",
    "            INSERT INTO Portfolios (RISK_TYPE, TICKER, QUANTITY, MANAGER_ID, LAST_UPDATED, SPOT_PRICE)\n",
    "            VALUES (?, ?, ?, ?, ?, ?)\n",
    "        \"\"\", (risk_type, ticker, quantity, manager_id, datetime.now().strftime(\"%Y-%m-%d\"), spot))\n",
    "\n",
    "    cash_remaining = max_budget - best_result['total_cost']\n",
    "    cursor.execute(\"\"\"\n",
    "        INSERT INTO Portfolios (RISK_TYPE, TICKER, QUANTITY, MANAGER_ID, LAST_UPDATED, SPOT_PRICE)\n",
    "        VALUES (?, 'CASH', ?, ?, ?, 1)\n",
    "    \"\"\", (risk_type, cash_remaining, manager_id, datetime.now().strftime(\"%Y-%m-%d\")))\n",
    "\n",
    "    # 🔹 Deals\n",
    "    for i, ticker in enumerate(best_result['tickers']):\n",
    "        old_qty = initial_quantities[i]\n",
    "        new_qty = best_result['quantities'][ticker]\n",
    "        delta = int(new_qty - old_qty)\n",
    "        if delta != 0:\n",
    "            trade_type = 'Buy' if delta > 0 else 'Sell'\n",
    "            cursor.execute(\"\"\"\n",
    "                INSERT INTO Deals (RISK_TYPE, TICKER, MANAGER_ID, TRADE_TYPE, QUANTITY, BUY_PRICE)\n",
    "                VALUES (?, ?, ?, ?, ?, ?)\n",
    "            \"\"\", (\n",
    "                risk_type,\n",
    "                ticker,\n",
    "                manager_id,\n",
    "                trade_type,\n",
    "                abs(delta),\n",
    "                float(prices_df[ticker].iloc[-1])\n",
    "            ))\n",
    "\n",
    "    conn.commit()\n",
    "    conn.close()\n",
    "    return best_result\n",
    "\n",
    "\n",
    "\n",
    "result = strategie_montecarlo_robuste(\"Fund.db\", \"LOW_RISK\", 300 , 7, 0.1)\n",
    "\n",
    "result"
   ]
  },
  {
   "cell_type": "markdown",
   "metadata": {},
   "source": [
    "# 4. Execution des strategies"
   ]
  },
  {
   "cell_type": "markdown",
   "metadata": {},
   "source": [
    "# Reconstruction de la composition des portefeuilles"
   ]
  },
  {
   "cell_type": "markdown",
   "metadata": {},
   "source": [
    "# Visualisation des performances des portefeuilles"
   ]
  }
 ],
 "metadata": {
  "kernelspec": {
   "display_name": "base",
   "language": "python",
   "name": "python3"
  },
  "language_info": {
   "codemirror_mode": {
    "name": "ipython",
    "version": 3
   },
   "file_extension": ".py",
   "mimetype": "text/x-python",
   "name": "python",
   "nbconvert_exporter": "python",
   "pygments_lexer": "ipython3",
   "version": "3.9.13"
  }
 },
 "nbformat": 4,
 "nbformat_minor": 2
}
