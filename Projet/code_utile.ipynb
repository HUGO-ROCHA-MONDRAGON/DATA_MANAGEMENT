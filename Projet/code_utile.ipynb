{
 "cells": [
  {
   "cell_type": "markdown",
   "metadata": {},
   "source": [
    "Delete a table"
   ]
  },
  {
   "cell_type": "code",
   "execution_count": null,
   "metadata": {},
   "outputs": [],
   "source": [
    "\n",
    "import sqlite3\n",
    "\n",
    "db_file = 'path_to_your_database.db'\n",
    "\n",
    "drop_table_query = \"DROP TABLE IF EXISTS Managers\"\n",
    "\n",
    "try:\n",
    "    # Connexion à la base de données SQLite\n",
    "    conn = sqlite3.connect(db_file)\n",
    "    cursor = conn.cursor()\n",
    "    # Suppression de la table Managers\n",
    "    cursor.execute(drop_table_query)\n",
    "    conn.commit()\n",
    "    print(\"Table Managers deleted successfully.\")\n",
    "except sqlite3.Error as e:\n",
    "    print(f\"Erreur SQLite : {e}\")\n",
    "finally:\n",
    "    # Fermeture de la connexion \n",
    "    conn.close()"
   ]
  }
 ],
 "metadata": {
  "language_info": {
   "name": "python"
  }
 },
 "nbformat": 4,
 "nbformat_minor": 2
}
