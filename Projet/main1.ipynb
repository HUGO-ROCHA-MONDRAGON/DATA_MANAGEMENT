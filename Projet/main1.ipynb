{
 "cells": [
  {
   "cell_type": "code",
   "execution_count": 1,
   "metadata": {},
   "outputs": [
    {
     "name": "stdout",
     "output_type": "stream",
     "text": [
      "Requirement already satisfied: pandas in /home/codespace/.local/lib/python3.12/site-packages (from -r requirement.txt (line 1)) (2.2.3)\n",
      "Requirement already satisfied: yfinance in /home/codespace/.python/current/lib/python3.12/site-packages (from -r requirement.txt (line 2)) (0.2.55)\n",
      "Requirement already satisfied: faker in /home/codespace/.python/current/lib/python3.12/site-packages (from -r requirement.txt (line 3)) (37.1.0)\n",
      "Requirement already satisfied: scipy in /home/codespace/.local/lib/python3.12/site-packages (from -r requirement.txt (line 4)) (1.15.2)\n",
      "Requirement already satisfied: schedule in /home/codespace/.python/current/lib/python3.12/site-packages (from -r requirement.txt (line 5)) (1.2.2)\n",
      "Requirement already satisfied: numpy>=1.26.0 in /home/codespace/.local/lib/python3.12/site-packages (from pandas->-r requirement.txt (line 1)) (2.2.4)\n",
      "Requirement already satisfied: python-dateutil>=2.8.2 in /home/codespace/.local/lib/python3.12/site-packages (from pandas->-r requirement.txt (line 1)) (2.9.0.post0)\n",
      "Requirement already satisfied: pytz>=2020.1 in /home/codespace/.local/lib/python3.12/site-packages (from pandas->-r requirement.txt (line 1)) (2025.1)\n",
      "Requirement already satisfied: tzdata>=2022.7 in /home/codespace/.local/lib/python3.12/site-packages (from pandas->-r requirement.txt (line 1)) (2025.1)\n",
      "Requirement already satisfied: requests>=2.31 in /home/codespace/.local/lib/python3.12/site-packages (from yfinance->-r requirement.txt (line 2)) (2.32.3)\n",
      "Requirement already satisfied: multitasking>=0.0.7 in /home/codespace/.python/current/lib/python3.12/site-packages (from yfinance->-r requirement.txt (line 2)) (0.0.11)\n",
      "Requirement already satisfied: platformdirs>=2.0.0 in /home/codespace/.local/lib/python3.12/site-packages (from yfinance->-r requirement.txt (line 2)) (4.3.6)\n",
      "Requirement already satisfied: frozendict>=2.3.4 in /home/codespace/.python/current/lib/python3.12/site-packages (from yfinance->-r requirement.txt (line 2)) (2.4.6)\n",
      "Requirement already satisfied: peewee>=3.16.2 in /home/codespace/.python/current/lib/python3.12/site-packages (from yfinance->-r requirement.txt (line 2)) (3.17.9)\n",
      "Requirement already satisfied: beautifulsoup4>=4.11.1 in /home/codespace/.local/lib/python3.12/site-packages (from yfinance->-r requirement.txt (line 2)) (4.13.3)\n",
      "Requirement already satisfied: soupsieve>1.2 in /home/codespace/.local/lib/python3.12/site-packages (from beautifulsoup4>=4.11.1->yfinance->-r requirement.txt (line 2)) (2.6)\n",
      "Requirement already satisfied: typing-extensions>=4.0.0 in /home/codespace/.local/lib/python3.12/site-packages (from beautifulsoup4>=4.11.1->yfinance->-r requirement.txt (line 2)) (4.12.2)\n",
      "Requirement already satisfied: six>=1.5 in /home/codespace/.local/lib/python3.12/site-packages (from python-dateutil>=2.8.2->pandas->-r requirement.txt (line 1)) (1.17.0)\n",
      "Requirement already satisfied: charset-normalizer<4,>=2 in /home/codespace/.local/lib/python3.12/site-packages (from requests>=2.31->yfinance->-r requirement.txt (line 2)) (3.4.1)\n",
      "Requirement already satisfied: idna<4,>=2.5 in /home/codespace/.local/lib/python3.12/site-packages (from requests>=2.31->yfinance->-r requirement.txt (line 2)) (3.10)\n",
      "Requirement already satisfied: urllib3<3,>=1.21.1 in /home/codespace/.local/lib/python3.12/site-packages (from requests>=2.31->yfinance->-r requirement.txt (line 2)) (2.3.0)\n",
      "Requirement already satisfied: certifi>=2017.4.17 in /home/codespace/.local/lib/python3.12/site-packages (from requests>=2.31->yfinance->-r requirement.txt (line 2)) (2025.1.31)\n",
      "Note: you may need to restart the kernel to use updated packages.\n"
     ]
    }
   ],
   "source": [
    "pip install -r \"requirement.txt\""
   ]
  },
  {
   "cell_type": "code",
   "execution_count": 2,
   "metadata": {},
   "outputs": [],
   "source": [
    "import sqlite3\n",
    "import pandas as pd\n",
    "db_file = \"Fund.db\"\n",
    "tickers = ['AAPL', 'MSFT', 'GOOGL', 'AMZN', 'META', 'TSLA', 'NVDA', 'PYPL', 'ADBE', 'INTC']#tickers contenus dans MAIN_DATA_FRAME\n",
    "\n",
    "start_date = \"01/09/2022\"#toute la periode start date (pour tout telecharger dun coup) + 3 mois avant\n",
    "end_date = \"31/12/2024\"#pareil"
   ]
  },
  {
   "cell_type": "markdown",
   "metadata": {},
   "source": [
    "## 1. Creation et peuplement de la base"
   ]
  },
  {
   "cell_type": "code",
   "execution_count": 3,
   "metadata": {},
   "outputs": [],
   "source": [
    "from base_builder import DatabaseBuilder"
   ]
  },
  {
   "cell_type": "code",
   "execution_count": 4,
   "metadata": {},
   "outputs": [
    {
     "name": "stdout",
     "output_type": "stream",
     "text": [
      "Tables created successfully.\n",
      "12 clients insérés avec succès dans la table 'Clients'.\n",
      "3 managers insérés avec succès dans la table 'Managers'.\n"
     ]
    }
   ],
   "source": [
    "db_manager = DatabaseBuilder(db_file)\n",
    "db_manager.create_tables()\n",
    "db_manager.insert_clients_data(12)\n",
    "db_manager.insert_managers_data(3)"
   ]
  },
  {
   "cell_type": "code",
   "execution_count": 5,
   "metadata": {},
   "outputs": [
    {
     "name": "stdout",
     "output_type": "stream",
     "text": [
      "\n",
      "Résumé des investissements par risk type:\n",
      "--------------------------------------------------\n",
      "Risk Type: HY_EQUITY\n",
      "Nombre de clients: 3\n",
      "Montant total investi: 14,334,572.05 €\n",
      "--------------------------------------------------\n",
      "Risk Type: LOW_RISK\n",
      "Nombre de clients: 3\n",
      "Montant total investi: 9,889,933.98 €\n",
      "--------------------------------------------------\n",
      "Risk Type: LOW_TURNOVER\n",
      "Nombre de clients: 6\n",
      "Montant total investi: 19,072,268.85 €\n",
      "--------------------------------------------------\n",
      "Montants initiaux en cash insérés avec succès dans la table Portfolios.\n"
     ]
    }
   ],
   "source": [
    "db_manager.get_investment_amount_by_risk_type()\n",
    "db_manager.insert_initial_cash_portfolios(start_date)"
   ]
  },
  {
   "cell_type": "markdown",
   "metadata": {},
   "source": [
    "## 2. Collecte et traitement des datas"
   ]
  },
  {
   "cell_type": "code",
   "execution_count": 6,
   "metadata": {},
   "outputs": [],
   "source": [
    "from data_collector import GetData"
   ]
  },
  {
   "cell_type": "code",
   "execution_count": 7,
   "metadata": {},
   "outputs": [
    {
     "name": "stderr",
     "output_type": "stream",
     "text": [
      "[*********************100%***********************]  1 of 1 completed\n",
      "[*********************100%***********************]  1 of 1 completed\n",
      "[*********************100%***********************]  1 of 1 completed\n",
      "[*********************100%***********************]  1 of 1 completed\n",
      "[*********************100%***********************]  1 of 1 completed\n",
      "[*********************100%***********************]  1 of 1 completed\n",
      "[*********************100%***********************]  1 of 1 completed\n",
      "[*********************100%***********************]  1 of 1 completed\n",
      "[*********************100%***********************]  1 of 1 completed\n",
      "[*********************100%***********************]  1 of 1 completed\n"
     ]
    }
   ],
   "source": [
    "gdata = GetData(tickers, start_date, end_date)\n",
    "main_df =gdata.main_data_frame()  "
   ]
  },
  {
   "cell_type": "markdown",
   "metadata": {},
   "source": [
    "# 3. Periode avant t = 0 (Periode de \"test\")"
   ]
  },
  {
   "cell_type": "markdown",
   "metadata": {},
   "source": [
    "On peuple Products avec des trois mois de donnees avant la periode d'evaluation du fonds (qui commence le 01/01/2023)"
   ]
  },
  {
   "cell_type": "code",
   "execution_count": 8,
   "metadata": {},
   "outputs": [],
   "source": [
    "from base_update import BaseUpdate \n",
    "sub_start_date = \"01/09/2022\"#chaque semaine, les strat lancent la fct et definissent les sub périodes\n",
    "#de cette maniere, products ne contient que la data jusqu'à la date t (no forward looking sur nos strats)\n",
    "sub_end_date = \"29/12/2022\""
   ]
  },
  {
   "cell_type": "code",
   "execution_count": 9,
   "metadata": {},
   "outputs": [
    {
     "name": "stdout",
     "output_type": "stream",
     "text": [
      "Successfully inserted 830 new records into Products table for the period 01/09/2022 to 29/12/2022\n"
     ]
    }
   ],
   "source": [
    "B_udt = BaseUpdate(tickers, sub_start_date, sub_end_date, db_file, main_df)\n",
    "B_udt.update_products()"
   ]
  },
  {
   "cell_type": "markdown",
   "metadata": {},
   "source": [
    "### Initialisation des portefeuilles en fonction du cash initial"
   ]
  },
  {
   "cell_type": "markdown",
   "metadata": {},
   "source": [
    "Pour la strategie HY equity, on prend les 5 tickers les plus performants de la periode (allant du 01/09/2022 au 30/12/2022)"
   ]
  },
  {
   "cell_type": "code",
   "execution_count": 21,
   "metadata": {},
   "outputs": [
    {
     "name": "stdout",
     "output_type": "stream",
     "text": [
      "Cash disponible : 6,318,519.29\n",
      "\n",
      "Tickers sélectionnés pour l'initialisation :\n",
      "AAPL: 151.33 (Rendement: -2.92%)\n",
      "NVDA: 13.48 (Rendement: -3.13%)\n",
      "PYPL: 83.58 (Rendement: -9.80%)\n",
      "INTC: 27.05 (Rendement: -10.48%)\n",
      "MSFT: 227.28 (Rendement: -10.86%)\n",
      "→ Achat de 8350 unités de AAPL @ 151.33\n",
      "→ Achat de 93729 unités de NVDA @ 13.48\n",
      "→ Achat de 15119 unités de PYPL @ 83.58\n",
      "→ Achat de 46718 unités de INTC @ 27.05\n",
      "→ Achat de 5560 unités de MSFT @ 227.28\n",
      "\n",
      "Cash restant : 214.01\n"
     ]
    }
   ],
   "source": [
    "B_udt.initialisation_portefeuille_HY()"
   ]
  },
  {
   "cell_type": "markdown",
   "metadata": {},
   "source": [
    "# 4. Execution des strategies"
   ]
  },
  {
   "cell_type": "code",
   "execution_count": null,
   "metadata": {},
   "outputs": [
    {
     "name": "stderr",
     "output_type": "stream",
     "text": [
      "[*********************100%***********************]  1 of 1 completed"
     ]
    },
    {
     "name": "stdout",
     "output_type": "stream",
     "text": [
      "\n",
      "Début de la simulation historique du 01/01/2023 au 31/12/2023\n",
      "\n",
      "=== Simulation pour le lundi 02/01/2023 ===\n",
      "Exécution de la stratégie pour la date historique : 02/01/2023\n",
      "Updating products for historical week: 26/12/2022 to 01/01/2023\n"
     ]
    },
    {
     "name": "stderr",
     "output_type": "stream",
     "text": [
      "\n",
      "[*********************100%***********************]  1 of 1 completed\n",
      "[*********************100%***********************]  1 of 1 completed\n",
      "[*********************100%***********************]  1 of 1 completed\n",
      "[*********************100%***********************]  1 of 1 completed\n",
      "[*********************100%***********************]  1 of 1 completed\n",
      "[*********************100%***********************]  1 of 1 completed\n",
      "[*********************100%***********************]  1 of 1 completed\n",
      "[*********************100%***********************]  1 of 1 completed\n",
      "[*********************100%***********************]  1 of 1 completed\n",
      "[*********************100%***********************]  1 of 1 completed"
     ]
    },
    {
     "name": "stdout",
     "output_type": "stream",
     "text": [
      "Successfully inserted 40 new records into Products table for the period 26/12/2022 to 01/01/2023\n",
      "Running strategies...\n",
      "Running HY_EQUITY strategy...\n",
      "→ Transaction effectuée : Sell 3309 x PYPL @ 71.22\n",
      "→ Transaction effectuée : Sell 1280 x AAPL @ 128.44\n",
      "→ Transaction effectuée : Buy 9589 x NVDA @ 14.60\n",
      "→ Transaction effectuée : Sell 2761 x INTC @ 25.49\n",
      "→ Transaction effectuée : Buy 35 x MSFT @ 235.48\n",
      "Cash restant : 322,385.82\n",
      "\n",
      "=== Simulation pour le lundi 09/01/2023 ===\n",
      "Exécution de la stratégie pour la date historique : 09/01/2023\n",
      "Updating products for historical week: 02/01/2023 to 08/01/2023\n"
     ]
    },
    {
     "name": "stderr",
     "output_type": "stream",
     "text": [
      "\n",
      "[*********************100%***********************]  1 of 1 completed\n",
      "[*********************100%***********************]  1 of 1 completed\n",
      "[*********************100%***********************]  1 of 1 completed\n",
      "[*********************100%***********************]  1 of 1 completed\n",
      "[*********************100%***********************]  1 of 1 completed\n",
      "[*********************100%***********************]  1 of 1 completed\n",
      "[*********************100%***********************]  1 of 1 completed\n",
      "[*********************100%***********************]  1 of 1 completed\n",
      "[*********************100%***********************]  1 of 1 completed\n",
      "[*********************100%***********************]  1 of 1 completed"
     ]
    },
    {
     "name": "stdout",
     "output_type": "stream",
     "text": [
      "Successfully inserted 40 new records into Products table for the period 02/01/2023 to 08/01/2023\n",
      "Running strategies...\n",
      "Running HY_EQUITY strategy...\n",
      "→ Transaction effectuée : Sell 2585 x PYPL @ 71.22\n",
      "→ Transaction effectuée : Sell 1084 x AAPL @ 128.44\n",
      "→ Transaction effectuée : Buy 10570 x NVDA @ 14.60\n",
      "→ Transaction effectuée : Sell 2598 x INTC @ 25.49\n",
      "→ Transaction effectuée : Buy 36 x MSFT @ 235.48\n",
      "Cash restant : 549,106.50\n",
      "\n",
      "=== Simulation pour le lundi 16/01/2023 ===\n",
      "Exécution de la stratégie pour la date historique : 16/01/2023\n",
      "Updating products for historical week: 09/01/2023 to 15/01/2023\n"
     ]
    },
    {
     "name": "stderr",
     "output_type": "stream",
     "text": [
      "\n",
      "[*********************100%***********************]  1 of 1 completed\n",
      "[*********************100%***********************]  1 of 1 completed\n",
      "[*********************100%***********************]  1 of 1 completed\n",
      "[*********************100%***********************]  1 of 1 completed\n",
      "[*********************100%***********************]  1 of 1 completed\n",
      "[*********************100%***********************]  1 of 1 completed\n",
      "[*********************100%***********************]  1 of 1 completed\n",
      "[*********************100%***********************]  1 of 1 completed\n",
      "[*********************100%***********************]  1 of 1 completed\n",
      "[*********************100%***********************]  1 of 1 completed"
     ]
    },
    {
     "name": "stdout",
     "output_type": "stream",
     "text": [
      "Successfully inserted 50 new records into Products table for the period 09/01/2023 to 15/01/2023\n",
      "Running strategies...\n",
      "Running HY_EQUITY strategy...\n",
      "→ Transaction effectuée : Sell 2019 x PYPL @ 71.22\n",
      "→ Transaction effectuée : Sell 918 x AAPL @ 128.44\n",
      "→ Transaction effectuée : Buy 11651 x NVDA @ 14.60\n",
      "→ Transaction effectuée : Sell 2444 x INTC @ 25.49\n",
      "→ Transaction effectuée : Buy 36 x MSFT @ 235.48\n",
      "Cash restant : 694,486.54\n",
      "\n",
      "=== Simulation pour le lundi 23/01/2023 ===\n",
      "Exécution de la stratégie pour la date historique : 23/01/2023\n",
      "Updating products for historical week: 16/01/2023 to 22/01/2023\n"
     ]
    },
    {
     "name": "stderr",
     "output_type": "stream",
     "text": [
      "\n",
      "[*********************100%***********************]  1 of 1 completed\n",
      "[*********************100%***********************]  1 of 1 completed\n",
      "[*********************100%***********************]  1 of 1 completed\n",
      "[*********************100%***********************]  1 of 1 completed\n",
      "[*********************100%***********************]  1 of 1 completed\n",
      "[*********************100%***********************]  1 of 1 completed\n",
      "[*********************100%***********************]  1 of 1 completed\n",
      "[*********************100%***********************]  1 of 1 completed\n",
      "[*********************100%***********************]  1 of 1 completed\n",
      "[*********************100%***********************]  1 of 1 completed"
     ]
    },
    {
     "name": "stdout",
     "output_type": "stream",
     "text": [
      "Successfully inserted 40 new records into Products table for the period 16/01/2023 to 22/01/2023\n",
      "Running strategies...\n",
      "Running HY_EQUITY strategy...\n",
      "→ Transaction effectuée : Sell 1577 x PYPL @ 71.22\n",
      "→ Transaction effectuée : Sell 777 x AAPL @ 128.44\n",
      "→ Transaction effectuée : Buy 12843 x NVDA @ 14.60\n",
      "→ Transaction effectuée : Sell 2300 x INTC @ 25.49\n",
      "→ Transaction effectuée : Buy 36 x MSFT @ 235.48\n",
      "Cash restant : 769,202.18\n",
      "\n",
      "=== Simulation pour le lundi 30/01/2023 ===\n",
      "Exécution de la stratégie pour la date historique : 30/01/2023\n",
      "Updating products for historical week: 23/01/2023 to 29/01/2023\n"
     ]
    },
    {
     "name": "stderr",
     "output_type": "stream",
     "text": [
      "\n",
      "[*********************100%***********************]  1 of 1 completed\n",
      "[*********************100%***********************]  1 of 1 completed\n",
      "[*********************100%***********************]  1 of 1 completed\n",
      "[*********************100%***********************]  1 of 1 completed\n",
      "[*********************100%***********************]  1 of 1 completed\n",
      "[*********************100%***********************]  1 of 1 completed\n",
      "[*********************100%***********************]  1 of 1 completed\n",
      "[*********************100%***********************]  1 of 1 completed\n",
      "[*********************100%***********************]  1 of 1 completed\n",
      "[*********************100%***********************]  1 of 1 completed"
     ]
    },
    {
     "name": "stdout",
     "output_type": "stream",
     "text": [
      "Successfully inserted 50 new records into Products table for the period 23/01/2023 to 29/01/2023\n",
      "Running strategies...\n",
      "Running HY_EQUITY strategy...\n",
      "→ Transaction effectuée : Buy 37801 x NVDA @ 20.35\n",
      "→ Transaction effectuée : Sell 577 x PYPL @ 81.83\n",
      "→ Transaction effectuée : Sell 210 x AAPL @ 144.25\n",
      "→ Transaction effectuée : Buy 236 x MSFT @ 243.66\n",
      "→ Transaction effectuée : Buy 90 x INTC @ 27.15\n",
      "Cash restant : 17,575.33\n",
      "\n",
      "=== Simulation pour le lundi 06/02/2023 ===\n",
      "Exécution de la stratégie pour la date historique : 06/02/2023\n",
      "Updating products for historical week: 30/01/2023 to 05/02/2023\n"
     ]
    },
    {
     "name": "stderr",
     "output_type": "stream",
     "text": [
      "\n",
      "[*********************100%***********************]  1 of 1 completed\n",
      "[*********************100%***********************]  1 of 1 completed\n",
      "[*********************100%***********************]  1 of 1 completed\n",
      "[*********************100%***********************]  1 of 1 completed\n",
      "[*********************100%***********************]  1 of 1 completed\n",
      "[*********************100%***********************]  1 of 1 completed\n",
      "[*********************100%***********************]  1 of 1 completed\n",
      "[*********************100%***********************]  1 of 1 completed\n",
      "[*********************100%***********************]  1 of 1 completed\n",
      "[*********************100%***********************]  1 of 1 completed"
     ]
    },
    {
     "name": "stdout",
     "output_type": "stream",
     "text": [
      "Successfully inserted 50 new records into Products table for the period 30/01/2023 to 05/02/2023\n",
      "Running strategies...\n",
      "Running HY_EQUITY strategy...\n",
      "→ Transaction effectuée : Buy 900 x NVDA @ 19.52\n",
      "→ Transaction effectuée : Sell 536 x PYPL @ 81.49\n",
      "→ Transaction effectuée : Sell 243 x AAPL @ 142.63\n",
      "→ Transaction effectuée : Buy 237 x MSFT @ 243.32\n",
      "→ Transaction effectuée : Buy 221 x INTC @ 27.25\n",
      "Cash restant : 14,655.13\n",
      "\n",
      "=== Simulation pour le lundi 13/02/2023 ===\n",
      "Exécution de la stratégie pour la date historique : 13/02/2023\n",
      "Updating products for historical week: 06/02/2023 to 12/02/2023\n"
     ]
    },
    {
     "name": "stderr",
     "output_type": "stream",
     "text": [
      "\n",
      "[*********************100%***********************]  1 of 1 completed\n",
      "[*********************100%***********************]  1 of 1 completed\n",
      "[*********************100%***********************]  1 of 1 completed\n",
      "[*********************100%***********************]  1 of 1 completed\n",
      "[*********************100%***********************]  1 of 1 completed\n",
      "[*********************100%***********************]  1 of 1 completed\n",
      "[*********************100%***********************]  1 of 1 completed\n",
      "[*********************100%***********************]  1 of 1 completed\n",
      "[*********************100%***********************]  1 of 1 completed\n",
      "[*********************100%***********************]  1 of 1 completed"
     ]
    },
    {
     "name": "stdout",
     "output_type": "stream",
     "text": [
      "Successfully inserted 50 new records into Products table for the period 06/02/2023 to 12/02/2023\n",
      "Running strategies...\n",
      "Running HY_EQUITY strategy...\n",
      "→ Transaction effectuée : Buy 750 x NVDA @ 19.52\n",
      "→ Transaction effectuée : Sell 479 x PYPL @ 81.49\n",
      "→ Transaction effectuée : Sell 229 x AAPL @ 142.63\n",
      "→ Transaction effectuée : Buy 247 x MSFT @ 243.32\n",
      "→ Transaction effectuée : Buy 222 x INTC @ 27.25\n",
      "Cash restant : 5,560.85\n",
      "\n",
      "=== Simulation pour le lundi 20/02/2023 ===\n",
      "Exécution de la stratégie pour la date historique : 20/02/2023\n",
      "Updating products for historical week: 13/02/2023 to 19/02/2023\n"
     ]
    },
    {
     "name": "stderr",
     "output_type": "stream",
     "text": [
      "\n",
      "[*********************100%***********************]  1 of 1 completed\n",
      "[*********************100%***********************]  1 of 1 completed\n",
      "[*********************100%***********************]  1 of 1 completed\n",
      "[*********************100%***********************]  1 of 1 completed\n",
      "[*********************100%***********************]  1 of 1 completed\n",
      "[*********************100%***********************]  1 of 1 completed\n",
      "[*********************100%***********************]  1 of 1 completed\n",
      "[*********************100%***********************]  1 of 1 completed\n",
      "[*********************100%***********************]  1 of 1 completed\n",
      "[*********************100%***********************]  1 of 1 completed"
     ]
    },
    {
     "name": "stdout",
     "output_type": "stream",
     "text": [
      "Successfully inserted 50 new records into Products table for the period 13/02/2023 to 19/02/2023\n",
      "Running strategies...\n",
      "Running HY_EQUITY strategy...\n",
      "→ Transaction effectuée : Buy 284 x NVDA @ 19.52\n",
      "→ Transaction effectuée : Sell 429 x PYPL @ 81.49\n",
      "→ Transaction effectuée : Sell 215 x AAPL @ 142.63\n",
      "→ Transaction effectuée : Buy 256 x MSFT @ 243.32\n",
      "→ Transaction effectuée : Buy 122 x INTC @ 27.25\n",
      "Cash restant : 27.17\n",
      "\n",
      "=== Simulation pour le lundi 27/02/2023 ===\n",
      "Exécution de la stratégie pour la date historique : 27/02/2023\n",
      "Updating products for historical week: 20/02/2023 to 26/02/2023\n"
     ]
    },
    {
     "name": "stderr",
     "output_type": "stream",
     "text": [
      "\n",
      "[*********************100%***********************]  1 of 1 completed\n",
      "[*********************100%***********************]  1 of 1 completed\n",
      "[*********************100%***********************]  1 of 1 completed\n",
      "[*********************100%***********************]  1 of 1 completed\n",
      "[*********************100%***********************]  1 of 1 completed\n",
      "[*********************100%***********************]  1 of 1 completed\n",
      "[*********************100%***********************]  1 of 1 completed\n",
      "[*********************100%***********************]  1 of 1 completed\n",
      "[*********************100%***********************]  1 of 1 completed\n",
      "[*********************100%***********************]  1 of 1 completed"
     ]
    },
    {
     "name": "stdout",
     "output_type": "stream",
     "text": [
      "Successfully inserted 40 new records into Products table for the period 20/02/2023 to 26/02/2023\n",
      "Running strategies...\n",
      "Running HY_EQUITY strategy...\n",
      "→ Transaction effectuée : Buy 1 x NVDA @ 23.27\n",
      "→ Transaction effectuée : Sell 697 x PYPL @ 73.55\n",
      "→ Transaction effectuée : Sell 3508 x INTC @ 24.54\n",
      "→ Transaction effectuée : Buy 324 x MSFT @ 245.32\n",
      "→ Transaction effectuée : Sell 144 x AAPL @ 145.25\n",
      "Cash restant : 78,777.39\n",
      "\n",
      "=== Simulation pour le lundi 06/03/2023 ===\n",
      "Exécution de la stratégie pour la date historique : 06/03/2023\n",
      "Updating products for historical week: 27/02/2023 to 05/03/2023\n"
     ]
    },
    {
     "name": "stderr",
     "output_type": "stream",
     "text": [
      "\n",
      "[*********************100%***********************]  1 of 1 completed\n",
      "[*********************100%***********************]  1 of 1 completed\n",
      "[*********************100%***********************]  1 of 1 completed\n",
      "[*********************100%***********************]  1 of 1 completed\n",
      "[*********************100%***********************]  1 of 1 completed\n",
      "[*********************100%***********************]  1 of 1 completed\n",
      "[*********************100%***********************]  1 of 1 completed\n",
      "[*********************100%***********************]  1 of 1 completed\n",
      "[*********************100%***********************]  1 of 1 completed\n",
      "[*********************100%***********************]  1 of 1 completed"
     ]
    },
    {
     "name": "stdout",
     "output_type": "stream",
     "text": [
      "Successfully inserted 50 new records into Products table for the period 27/02/2023 to 05/03/2023\n",
      "Running strategies...\n",
      "Running HY_EQUITY strategy...\n",
      "→ Transaction effectuée : Buy 3396 x NVDA @ 23.20\n",
      "→ Transaction effectuée : Sell 561 x PYPL @ 73.60\n",
      "→ Transaction effectuée : Sell 3433 x INTC @ 24.33\n",
      "→ Transaction effectuée : Buy 345 x MSFT @ 245.52\n",
      "→ Transaction effectuée : Sell 123 x AAPL @ 145.94\n",
      "Cash restant : 58,070.68\n",
      "\n",
      "=== Simulation pour le lundi 13/03/2023 ===\n",
      "Exécution de la stratégie pour la date historique : 13/03/2023\n",
      "Updating products for historical week: 06/03/2023 to 12/03/2023\n"
     ]
    },
    {
     "name": "stderr",
     "output_type": "stream",
     "text": [
      "\n",
      "[*********************100%***********************]  1 of 1 completed\n",
      "[*********************100%***********************]  1 of 1 completed\n",
      "[*********************100%***********************]  1 of 1 completed\n",
      "[*********************100%***********************]  1 of 1 completed\n",
      "[*********************100%***********************]  1 of 1 completed\n",
      "[*********************100%***********************]  1 of 1 completed\n",
      "[*********************100%***********************]  1 of 1 completed\n",
      "[*********************100%***********************]  1 of 1 completed\n",
      "[*********************100%***********************]  1 of 1 completed\n",
      "[*********************100%***********************]  1 of 1 completed"
     ]
    },
    {
     "name": "stdout",
     "output_type": "stream",
     "text": [
      "Successfully inserted 50 new records into Products table for the period 06/03/2023 to 12/03/2023\n",
      "Running strategies...\n",
      "Running HY_EQUITY strategy...\n",
      "→ Transaction effectuée : Buy 2503 x NVDA @ 23.20\n",
      "→ Transaction effectuée : Sell 453 x PYPL @ 73.60\n",
      "→ Transaction effectuée : Sell 3084 x INTC @ 24.33\n",
      "→ Transaction effectuée : Buy 362 x MSFT @ 245.52\n",
      "→ Transaction effectuée : Sell 118 x AAPL @ 145.94\n",
      "Cash restant : 36,734.64\n",
      "\n",
      "=== Simulation pour le lundi 20/03/2023 ===\n",
      "Exécution de la stratégie pour la date historique : 20/03/2023\n",
      "Updating products for historical week: 13/03/2023 to 19/03/2023\n"
     ]
    },
    {
     "name": "stderr",
     "output_type": "stream",
     "text": [
      "\n",
      "[*********************100%***********************]  1 of 1 completed\n",
      "[*********************100%***********************]  1 of 1 completed\n",
      "[*********************100%***********************]  1 of 1 completed\n",
      "[*********************100%***********************]  1 of 1 completed\n",
      "[*********************100%***********************]  1 of 1 completed\n",
      "[*********************100%***********************]  1 of 1 completed\n",
      "[*********************100%***********************]  1 of 1 completed\n",
      "[*********************100%***********************]  1 of 1 completed\n",
      "[*********************100%***********************]  1 of 1 completed\n",
      "[*********************100%***********************]  1 of 1 completed"
     ]
    },
    {
     "name": "stdout",
     "output_type": "stream",
     "text": [
      "Successfully inserted 50 new records into Products table for the period 13/03/2023 to 19/03/2023\n",
      "Running strategies...\n",
      "Running HY_EQUITY strategy...\n",
      "→ Transaction effectuée : Buy 1583 x NVDA @ 23.20\n",
      "→ Transaction effectuée : Sell 365 x PYPL @ 73.60\n",
      "→ Transaction effectuée : Sell 2770 x INTC @ 24.33\n",
      "→ Transaction effectuée : Buy 380 x MSFT @ 245.52\n",
      "→ Transaction effectuée : Sell 114 x AAPL @ 145.94\n",
      "Cash restant : 17,619.64\n",
      "\n",
      "=== Simulation pour le lundi 27/03/2023 ===\n",
      "Exécution de la stratégie pour la date historique : 27/03/2023\n",
      "Updating products for historical week: 20/03/2023 to 26/03/2023\n"
     ]
    },
    {
     "name": "stderr",
     "output_type": "stream",
     "text": [
      "\n",
      "[*********************100%***********************]  1 of 1 completed\n",
      "[*********************100%***********************]  1 of 1 completed\n",
      "[*********************100%***********************]  1 of 1 completed\n",
      "[*********************100%***********************]  1 of 1 completed\n",
      "[*********************100%***********************]  1 of 1 completed\n",
      "[*********************100%***********************]  1 of 1 completed\n",
      "[*********************100%***********************]  1 of 1 completed\n",
      "[*********************100%***********************]  1 of 1 completed\n",
      "[*********************100%***********************]  1 of 1 completed\n",
      "[*********************100%***********************]  1 of 1 completed"
     ]
    },
    {
     "name": "stdout",
     "output_type": "stream",
     "text": [
      "Successfully inserted 50 new records into Products table for the period 20/03/2023 to 26/03/2023\n",
      "Running strategies...\n",
      "Running HY_EQUITY strategy...\n",
      "→ Transaction effectuée : Buy 658 x NVDA @ 26.76\n",
      "→ Transaction effectuée : Sell 290 x PYPL @ 73.88\n",
      "→ Transaction effectuée : Buy 77 x MSFT @ 276.18\n",
      "→ Transaction effectuée : Buy 5 x INTC @ 28.66\n",
      "Cash restant : 26.75\n",
      "\n",
      "=== Simulation pour le lundi 03/04/2023 ===\n",
      "Exécution de la stratégie pour la date historique : 03/04/2023\n",
      "Updating products for historical week: 27/03/2023 to 02/04/2023\n"
     ]
    },
    {
     "name": "stderr",
     "output_type": "stream",
     "text": [
      "\n",
      "[*********************100%***********************]  1 of 1 completed\n",
      "[*********************100%***********************]  1 of 1 completed\n",
      "[*********************100%***********************]  1 of 1 completed\n",
      "[*********************100%***********************]  1 of 1 completed\n",
      "[*********************100%***********************]  1 of 1 completed\n",
      "[*********************100%***********************]  1 of 1 completed\n",
      "[*********************100%***********************]  1 of 1 completed\n",
      "[*********************100%***********************]  1 of 1 completed\n",
      "[*********************100%***********************]  1 of 1 completed\n",
      "[*********************100%***********************]  1 of 1 completed"
     ]
    },
    {
     "name": "stdout",
     "output_type": "stream",
     "text": [
      "Successfully inserted 50 new records into Products table for the period 27/03/2023 to 02/04/2023\n",
      "Running strategies...\n",
      "Running HY_EQUITY strategy...\n",
      "→ Transaction effectuée : Sell 207 x PYPL @ 75.94\n",
      "→ Transaction effectuée : Buy 96 x AAPL @ 163.25\n",
      "Cash restant : 73.98\n",
      "\n",
      "=== Simulation pour le lundi 10/04/2023 ===\n",
      "Exécution de la stratégie pour la date historique : 10/04/2023\n",
      "Updating products for historical week: 03/04/2023 to 09/04/2023\n"
     ]
    },
    {
     "name": "stderr",
     "output_type": "stream",
     "text": [
      "\n",
      "[*********************100%***********************]  1 of 1 completed\n",
      "[*********************100%***********************]  1 of 1 completed\n",
      "[*********************100%***********************]  1 of 1 completed\n",
      "[*********************100%***********************]  1 of 1 completed\n",
      "[*********************100%***********************]  1 of 1 completed\n",
      "[*********************100%***********************]  1 of 1 completed\n",
      "[*********************100%***********************]  1 of 1 completed\n",
      "[*********************100%***********************]  1 of 1 completed\n",
      "[*********************100%***********************]  1 of 1 completed\n",
      "[*********************100%***********************]  1 of 1 completed"
     ]
    },
    {
     "name": "stdout",
     "output_type": "stream",
     "text": [
      "Successfully inserted 40 new records into Products table for the period 03/04/2023 to 09/04/2023\n",
      "Running strategies...\n",
      "Running HY_EQUITY strategy...\n",
      "→ Transaction effectuée : Buy 2 x NVDA @ 27.76\n",
      "→ Transaction effectuée : Sell 172 x PYPL @ 75.94\n",
      "→ Transaction effectuée : Buy 80 x AAPL @ 163.25\n",
      "Cash restant : 19.85\n",
      "\n",
      "=== Simulation pour le lundi 17/04/2023 ===\n",
      "Exécution de la stratégie pour la date historique : 17/04/2023\n",
      "Updating products for historical week: 10/04/2023 to 16/04/2023\n"
     ]
    },
    {
     "name": "stderr",
     "output_type": "stream",
     "text": [
      "\n",
      "[*********************100%***********************]  1 of 1 completed\n",
      "[*********************100%***********************]  1 of 1 completed\n",
      "[*********************100%***********************]  1 of 1 completed\n",
      "[*********************100%***********************]  1 of 1 completed\n",
      "[*********************100%***********************]  1 of 1 completed\n",
      "[*********************100%***********************]  1 of 1 completed\n",
      "[*********************100%***********************]  1 of 1 completed\n",
      "[*********************100%***********************]  1 of 1 completed\n",
      "[*********************100%***********************]  1 of 1 completed\n",
      "[*********************100%***********************]  1 of 1 completed"
     ]
    },
    {
     "name": "stdout",
     "output_type": "stream",
     "text": [
      "Successfully inserted 50 new records into Products table for the period 10/04/2023 to 16/04/2023\n",
      "Running strategies...\n",
      "Running HY_EQUITY strategy...\n",
      "→ Transaction effectuée : Sell 144 x PYPL @ 75.94\n",
      "→ Transaction effectuée : Buy 67 x AAPL @ 163.25\n",
      "Cash restant : 17.22\n",
      "\n",
      "=== Simulation pour le lundi 24/04/2023 ===\n",
      "Exécution de la stratégie pour la date historique : 24/04/2023\n",
      "Updating products for historical week: 17/04/2023 to 23/04/2023\n"
     ]
    },
    {
     "name": "stderr",
     "output_type": "stream",
     "text": [
      "\n",
      "[*********************100%***********************]  1 of 1 completed\n",
      "[*********************100%***********************]  1 of 1 completed\n",
      "[*********************100%***********************]  1 of 1 completed\n",
      "[*********************100%***********************]  1 of 1 completed\n",
      "[*********************100%***********************]  1 of 1 completed\n",
      "[*********************100%***********************]  1 of 1 completed\n",
      "[*********************100%***********************]  1 of 1 completed\n",
      "[*********************100%***********************]  1 of 1 completed\n",
      "[*********************100%***********************]  1 of 1 completed\n",
      "[*********************100%***********************]  1 of 1 completed"
     ]
    },
    {
     "name": "stdout",
     "output_type": "stream",
     "text": [
      "Successfully inserted 50 new records into Products table for the period 17/04/2023 to 23/04/2023\n",
      "Running strategies...\n",
      "Running HY_EQUITY strategy...\n",
      "→ Transaction effectuée : Sell 134 x PYPL @ 74.18\n",
      "→ Transaction effectuée : Buy 336 x INTC @ 29.57\n",
      "Cash restant : 20.60\n",
      "\n",
      "=== Simulation pour le lundi 01/05/2023 ===\n",
      "Exécution de la stratégie pour la date historique : 01/05/2023\n",
      "Updating products for historical week: 24/04/2023 to 30/04/2023\n"
     ]
    },
    {
     "name": "stderr",
     "output_type": "stream",
     "text": [
      "\n",
      "[*********************100%***********************]  1 of 1 completed\n",
      "[*********************100%***********************]  1 of 1 completed\n",
      "[*********************100%***********************]  1 of 1 completed\n",
      "[*********************100%***********************]  1 of 1 completed\n",
      "[*********************100%***********************]  1 of 1 completed\n",
      "[*********************100%***********************]  1 of 1 completed\n",
      "[*********************100%***********************]  1 of 1 completed\n",
      "[*********************100%***********************]  1 of 1 completed\n",
      "[*********************100%***********************]  1 of 1 completed\n",
      "[*********************100%***********************]  1 of 1 completed"
     ]
    },
    {
     "name": "stdout",
     "output_type": "stream",
     "text": [
      "Successfully inserted 50 new records into Products table for the period 24/04/2023 to 30/04/2023\n",
      "Running strategies...\n",
      "Running HY_EQUITY strategy...\n",
      "→ Transaction effectuée : Sell 97 x PYPL @ 76.00\n",
      "→ Transaction effectuée : Buy 243 x INTC @ 30.32\n",
      "Cash restant : 25.95\n",
      "\n",
      "=== Simulation pour le lundi 08/05/2023 ===\n",
      "Exécution de la stratégie pour la date historique : 08/05/2023\n",
      "Updating products for historical week: 01/05/2023 to 07/05/2023\n"
     ]
    },
    {
     "name": "stderr",
     "output_type": "stream",
     "text": [
      "\n",
      "[*********************100%***********************]  1 of 1 completed\n",
      "[*********************100%***********************]  1 of 1 completed\n",
      "[*********************100%***********************]  1 of 1 completed\n",
      "[*********************100%***********************]  1 of 1 completed\n",
      "[*********************100%***********************]  1 of 1 completed\n",
      "[*********************100%***********************]  1 of 1 completed\n",
      "[*********************100%***********************]  1 of 1 completed\n",
      "[*********************100%***********************]  1 of 1 completed\n",
      "[*********************100%***********************]  1 of 1 completed\n",
      "[*********************100%***********************]  1 of 1 completed"
     ]
    },
    {
     "name": "stdout",
     "output_type": "stream",
     "text": [
      "Successfully inserted 50 new records into Products table for the period 01/05/2023 to 07/05/2023\n",
      "Running strategies...\n",
      "Running HY_EQUITY strategy...\n",
      "→ Transaction effectuée : Sell 81 x PYPL @ 76.00\n",
      "→ Transaction effectuée : Buy 203 x INTC @ 30.32\n",
      "Cash restant : 27.92\n",
      "\n",
      "=== Simulation pour le lundi 15/05/2023 ===\n",
      "Exécution de la stratégie pour la date historique : 15/05/2023\n",
      "Updating products for historical week: 08/05/2023 to 14/05/2023\n"
     ]
    },
    {
     "name": "stderr",
     "output_type": "stream",
     "text": [
      "\n",
      "[*********************100%***********************]  1 of 1 completed\n",
      "[*********************100%***********************]  1 of 1 completed\n",
      "[*********************100%***********************]  1 of 1 completed\n",
      "[*********************100%***********************]  1 of 1 completed\n",
      "[*********************100%***********************]  1 of 1 completed\n",
      "[*********************100%***********************]  1 of 1 completed\n",
      "[*********************100%***********************]  1 of 1 completed\n",
      "[*********************100%***********************]  1 of 1 completed\n",
      "[*********************100%***********************]  1 of 1 completed\n",
      "[*********************100%***********************]  1 of 1 completed"
     ]
    },
    {
     "name": "stdout",
     "output_type": "stream",
     "text": [
      "Successfully inserted 50 new records into Products table for the period 08/05/2023 to 14/05/2023\n",
      "Running strategies...\n",
      "Running HY_EQUITY strategy...\n",
      "→ Transaction effectuée : Buy 1 x NVDA @ 27.73\n",
      "→ Transaction effectuée : Sell 67 x PYPL @ 76.00\n",
      "→ Transaction effectuée : Buy 167 x INTC @ 30.32\n",
      "Cash restant : 29.52\n",
      "\n",
      "=== Simulation pour le lundi 22/05/2023 ===\n",
      "Exécution de la stratégie pour la date historique : 22/05/2023\n",
      "Updating products for historical week: 15/05/2023 to 21/05/2023\n"
     ]
    },
    {
     "name": "stderr",
     "output_type": "stream",
     "text": [
      "\n",
      "[*********************100%***********************]  1 of 1 completed\n",
      "[*********************100%***********************]  1 of 1 completed\n",
      "[*********************100%***********************]  1 of 1 completed\n",
      "[*********************100%***********************]  1 of 1 completed\n",
      "[*********************100%***********************]  1 of 1 completed\n",
      "[*********************100%***********************]  1 of 1 completed\n",
      "[*********************100%***********************]  1 of 1 completed\n",
      "[*********************100%***********************]  1 of 1 completed\n",
      "[*********************100%***********************]  1 of 1 completed\n",
      "[*********************100%***********************]  1 of 1 completed"
     ]
    },
    {
     "name": "stdout",
     "output_type": "stream",
     "text": [
      "Successfully inserted 50 new records into Products table for the period 15/05/2023 to 21/05/2023\n",
      "Running strategies...\n",
      "Running HY_EQUITY strategy...\n",
      "→ Transaction effectuée : Buy 1 x NVDA @ 27.73\n",
      "→ Transaction effectuée : Sell 56 x PYPL @ 76.00\n",
      "→ Transaction effectuée : Buy 140 x INTC @ 30.32\n",
      "Cash restant : 13.63\n",
      "\n",
      "=== Simulation pour le lundi 29/05/2023 ===\n",
      "Exécution de la stratégie pour la date historique : 29/05/2023\n",
      "Updating products for historical week: 22/05/2023 to 28/05/2023\n"
     ]
    },
    {
     "name": "stderr",
     "output_type": "stream",
     "text": [
      "\n",
      "[*********************100%***********************]  1 of 1 completed\n",
      "[*********************100%***********************]  1 of 1 completed\n",
      "[*********************100%***********************]  1 of 1 completed\n",
      "[*********************100%***********************]  1 of 1 completed\n",
      "[*********************100%***********************]  1 of 1 completed\n",
      "[*********************100%***********************]  1 of 1 completed\n",
      "[*********************100%***********************]  1 of 1 completed\n",
      "[*********************100%***********************]  1 of 1 completed\n",
      "[*********************100%***********************]  1 of 1 completed\n",
      "[*********************100%***********************]  1 of 1 completed"
     ]
    },
    {
     "name": "stdout",
     "output_type": "stream",
     "text": [
      "Successfully inserted 50 new records into Products table for the period 22/05/2023 to 28/05/2023\n",
      "Running strategies...\n",
      "Running HY_EQUITY strategy...\n",
      "→ Transaction effectuée : Sell 96 x PYPL @ 60.22\n",
      "→ Transaction effectuée : Buy 33 x AAPL @ 173.92\n",
      "→ Transaction effectuée : Buy 1 x INTC @ 28.42\n",
      "Cash restant : 27.01\n",
      "\n",
      "=== Simulation pour le lundi 05/06/2023 ===\n",
      "Exécution de la stratégie pour la date historique : 05/06/2023\n",
      "Updating products for historical week: 29/05/2023 to 04/06/2023\n"
     ]
    },
    {
     "name": "stderr",
     "output_type": "stream",
     "text": [
      "\n",
      "[*********************100%***********************]  1 of 1 completed\n",
      "[*********************100%***********************]  1 of 1 completed\n",
      "[*********************100%***********************]  1 of 1 completed\n",
      "[*********************100%***********************]  1 of 1 completed\n",
      "[*********************100%***********************]  1 of 1 completed\n",
      "[*********************100%***********************]  1 of 1 completed\n",
      "[*********************100%***********************]  1 of 1 completed\n",
      "[*********************100%***********************]  1 of 1 completed\n",
      "[*********************100%***********************]  1 of 1 completed\n",
      "[*********************100%***********************]  1 of 1 completed"
     ]
    },
    {
     "name": "stdout",
     "output_type": "stream",
     "text": [
      "Successfully inserted 40 new records into Products table for the period 29/05/2023 to 04/06/2023\n",
      "Running strategies...\n",
      "Running HY_EQUITY strategy...\n",
      "→ Transaction effectuée : Sell 60 x PYPL @ 61.99\n",
      "→ Transaction effectuée : Buy 21 x AAPL @ 175.72\n",
      "→ Transaction effectuée : Buy 1 x INTC @ 30.81\n",
      "Cash restant : 25.42\n",
      "\n",
      "=== Simulation pour le lundi 12/06/2023 ===\n",
      "Exécution de la stratégie pour la date historique : 12/06/2023\n",
      "Updating products for historical week: 05/06/2023 to 11/06/2023\n"
     ]
    },
    {
     "name": "stderr",
     "output_type": "stream",
     "text": [
      "\n",
      "[*********************100%***********************]  1 of 1 completed\n",
      "[*********************100%***********************]  1 of 1 completed\n",
      "[*********************100%***********************]  1 of 1 completed\n",
      "[*********************100%***********************]  1 of 1 completed\n",
      "[*********************100%***********************]  1 of 1 completed\n",
      "[*********************100%***********************]  1 of 1 completed\n",
      "[*********************100%***********************]  1 of 1 completed\n",
      "[*********************100%***********************]  1 of 1 completed\n",
      "[*********************100%***********************]  1 of 1 completed\n",
      "[*********************100%***********************]  1 of 1 completed"
     ]
    },
    {
     "name": "stdout",
     "output_type": "stream",
     "text": [
      "Successfully inserted 50 new records into Products table for the period 05/06/2023 to 11/06/2023\n",
      "Running strategies...\n",
      "Running HY_EQUITY strategy...\n",
      "→ Transaction effectuée : Sell 40 x PYPL @ 61.99\n",
      "→ Transaction effectuée : Buy 14 x AAPL @ 175.72\n",
      "→ Transaction effectuée : Buy 1 x INTC @ 30.81\n",
      "Cash restant : 14.08\n",
      "\n",
      "=== Simulation pour le lundi 19/06/2023 ===\n",
      "Exécution de la stratégie pour la date historique : 19/06/2023\n",
      "Updating products for historical week: 12/06/2023 to 18/06/2023\n"
     ]
    },
    {
     "name": "stderr",
     "output_type": "stream",
     "text": [
      "\n",
      "[*********************100%***********************]  1 of 1 completed\n",
      "[*********************100%***********************]  1 of 1 completed\n",
      "[*********************100%***********************]  1 of 1 completed\n",
      "[*********************100%***********************]  1 of 1 completed\n",
      "[*********************100%***********************]  1 of 1 completed\n",
      "[*********************100%***********************]  1 of 1 completed\n",
      "[*********************100%***********************]  1 of 1 completed\n",
      "[*********************100%***********************]  1 of 1 completed\n",
      "[*********************100%***********************]  1 of 1 completed\n",
      "[*********************100%***********************]  1 of 1 completed"
     ]
    },
    {
     "name": "stdout",
     "output_type": "stream",
     "text": [
      "Successfully inserted 50 new records into Products table for the period 12/06/2023 to 18/06/2023\n",
      "Running strategies...\n",
      "Running HY_EQUITY strategy...\n",
      "→ Transaction effectuée : Sell 28 x PYPL @ 61.99\n",
      "→ Transaction effectuée : Buy 9 x AAPL @ 175.72\n",
      "→ Transaction effectuée : Buy 5 x INTC @ 30.81\n",
      "Cash restant : 14.23\n",
      "\n",
      "=== Simulation pour le lundi 26/06/2023 ===\n",
      "Exécution de la stratégie pour la date historique : 26/06/2023\n",
      "Updating products for historical week: 19/06/2023 to 25/06/2023\n"
     ]
    },
    {
     "name": "stderr",
     "output_type": "stream",
     "text": [
      "\n",
      "[*********************100%***********************]  1 of 1 completed\n",
      "[*********************100%***********************]  1 of 1 completed\n",
      "[*********************100%***********************]  1 of 1 completed\n",
      "[*********************100%***********************]  1 of 1 completed\n",
      "[*********************100%***********************]  1 of 1 completed\n",
      "[*********************100%***********************]  1 of 1 completed\n",
      "[*********************100%***********************]  1 of 1 completed\n",
      "[*********************100%***********************]  1 of 1 completed\n",
      "[*********************100%***********************]  1 of 1 completed\n",
      "[*********************100%***********************]  1 of 1 completed"
     ]
    },
    {
     "name": "stdout",
     "output_type": "stream",
     "text": [
      "Successfully inserted 40 new records into Products table for the period 19/06/2023 to 25/06/2023\n",
      "Running strategies...\n",
      "Running HY_EQUITY strategy...\n",
      "→ Transaction effectuée : Sell 15 x PYPL @ 66.94\n",
      "→ Transaction effectuée : Buy 5 x AAPL @ 185.07\n",
      "→ Transaction effectuée : Buy 2 x INTC @ 32.34\n",
      "Cash restant : 28.29\n",
      "\n",
      "=== Simulation pour le lundi 03/07/2023 ===\n",
      "Exécution de la stratégie pour la date historique : 03/07/2023\n",
      "Updating products for historical week: 26/06/2023 to 02/07/2023\n"
     ]
    },
    {
     "name": "stderr",
     "output_type": "stream",
     "text": [
      "\n",
      "[*********************100%***********************]  1 of 1 completed\n",
      "[*********************100%***********************]  1 of 1 completed\n",
      "[*********************100%***********************]  1 of 1 completed\n",
      "[*********************100%***********************]  1 of 1 completed\n",
      "[*********************100%***********************]  1 of 1 completed\n",
      "[*********************100%***********************]  1 of 1 completed\n",
      "[*********************100%***********************]  1 of 1 completed\n",
      "[*********************100%***********************]  1 of 1 completed\n",
      "[*********************100%***********************]  1 of 1 completed\n",
      "[*********************100%***********************]  1 of 1 completed"
     ]
    },
    {
     "name": "stdout",
     "output_type": "stream",
     "text": [
      "Successfully inserted 50 new records into Products table for the period 26/06/2023 to 02/07/2023\n",
      "Running strategies...\n",
      "Running HY_EQUITY strategy...\n",
      "→ Transaction effectuée : Sell 12 x PYPL @ 66.73\n",
      "→ Transaction effectuée : Buy 4 x AAPL @ 192.30\n",
      "→ Transaction effectuée : Buy 1 x INTC @ 32.77\n",
      "Cash restant : 27.08\n",
      "\n",
      "=== Simulation pour le lundi 10/07/2023 ===\n",
      "Exécution de la stratégie pour la date historique : 10/07/2023\n",
      "Updating products for historical week: 03/07/2023 to 09/07/2023\n"
     ]
    },
    {
     "name": "stderr",
     "output_type": "stream",
     "text": [
      "\n",
      "[*********************100%***********************]  1 of 1 completed\n",
      "[*********************100%***********************]  1 of 1 completed\n",
      "[*********************100%***********************]  1 of 1 completed\n",
      "[*********************100%***********************]  1 of 1 completed\n",
      "[*********************100%***********************]  1 of 1 completed\n",
      "[*********************100%***********************]  1 of 1 completed\n",
      "[*********************100%***********************]  1 of 1 completed\n",
      "[*********************100%***********************]  1 of 1 completed\n",
      "[*********************100%***********************]  1 of 1 completed\n",
      "[*********************100%***********************]  1 of 1 completed"
     ]
    },
    {
     "name": "stdout",
     "output_type": "stream",
     "text": [
      "Successfully inserted 40 new records into Products table for the period 03/07/2023 to 09/07/2023\n",
      "Running strategies...\n",
      "Running HY_EQUITY strategy...\n",
      "→ Transaction effectuée : Sell 8 x PYPL @ 66.73\n",
      "→ Transaction effectuée : Buy 2 x AAPL @ 192.30\n",
      "→ Transaction effectuée : Buy 5 x INTC @ 32.77\n",
      "Cash restant : 12.47\n",
      "\n",
      "=== Simulation pour le lundi 17/07/2023 ===\n",
      "Exécution de la stratégie pour la date historique : 17/07/2023\n",
      "Updating products for historical week: 10/07/2023 to 16/07/2023\n"
     ]
    },
    {
     "name": "stderr",
     "output_type": "stream",
     "text": [
      "\n",
      "[*********************100%***********************]  1 of 1 completed\n",
      "[*********************100%***********************]  1 of 1 completed\n",
      "[*********************100%***********************]  1 of 1 completed\n",
      "[*********************100%***********************]  1 of 1 completed\n",
      "[*********************100%***********************]  1 of 1 completed\n",
      "[*********************100%***********************]  1 of 1 completed\n",
      "[*********************100%***********************]  1 of 1 completed\n",
      "[*********************100%***********************]  1 of 1 completed\n",
      "[*********************100%***********************]  1 of 1 completed\n",
      "[*********************100%***********************]  1 of 1 completed"
     ]
    },
    {
     "name": "stdout",
     "output_type": "stream",
     "text": [
      "Successfully inserted 50 new records into Products table for the period 10/07/2023 to 16/07/2023\n",
      "Running strategies...\n",
      "Running HY_EQUITY strategy...\n",
      "→ Transaction effectuée : Sell 6 x PYPL @ 66.73\n",
      "→ Transaction effectuée : Buy 2 x AAPL @ 192.30\n",
      "Cash restant : 28.25\n",
      "\n",
      "=== Simulation pour le lundi 24/07/2023 ===\n",
      "Exécution de la stratégie pour la date historique : 24/07/2023\n",
      "Updating products for historical week: 17/07/2023 to 23/07/2023\n"
     ]
    },
    {
     "name": "stderr",
     "output_type": "stream",
     "text": [
      "\n",
      "[*********************100%***********************]  1 of 1 completed\n",
      "[*********************100%***********************]  1 of 1 completed\n",
      "[*********************100%***********************]  1 of 1 completed\n",
      "[*********************100%***********************]  1 of 1 completed\n",
      "[*********************100%***********************]  1 of 1 completed\n",
      "[*********************100%***********************]  1 of 1 completed\n",
      "[*********************100%***********************]  1 of 1 completed\n",
      "[*********************100%***********************]  1 of 1 completed\n",
      "[*********************100%***********************]  1 of 1 completed\n",
      "[*********************100%***********************]  1 of 1 completed"
     ]
    },
    {
     "name": "stdout",
     "output_type": "stream",
     "text": [
      "Successfully inserted 50 new records into Products table for the period 17/07/2023 to 23/07/2023\n",
      "Running strategies...\n",
      "Running HY_EQUITY strategy...\n",
      "→ Transaction effectuée : Sell 3 x PYPL @ 72.99\n",
      "Cash restant : 247.22\n",
      "\n",
      "=== Simulation pour le lundi 31/07/2023 ===\n",
      "Exécution de la stratégie pour la date historique : 31/07/2023\n",
      "Updating products for historical week: 24/07/2023 to 30/07/2023\n"
     ]
    },
    {
     "name": "stderr",
     "output_type": "stream",
     "text": [
      "\n",
      "[*********************100%***********************]  1 of 1 completed\n",
      "[*********************100%***********************]  1 of 1 completed\n",
      "[*********************100%***********************]  1 of 1 completed\n",
      "[*********************100%***********************]  1 of 1 completed\n",
      "[*********************100%***********************]  1 of 1 completed\n",
      "[*********************100%***********************]  1 of 1 completed\n",
      "[*********************100%***********************]  1 of 1 completed\n",
      "[*********************100%***********************]  1 of 1 completed\n",
      "[*********************100%***********************]  1 of 1 completed\n",
      "[*********************100%***********************]  1 of 1 completed"
     ]
    },
    {
     "name": "stdout",
     "output_type": "stream",
     "text": [
      "Successfully inserted 50 new records into Products table for the period 24/07/2023 to 30/07/2023\n",
      "Running strategies...\n",
      "Running HY_EQUITY strategy...\n",
      "→ Transaction effectuée : Buy 5 x NVDA @ 46.72\n",
      "→ Transaction effectuée : Sell 3 x PYPL @ 73.98\n",
      "Cash restant : 235.54\n",
      "\n",
      "=== Simulation pour le lundi 07/08/2023 ===\n",
      "Exécution de la stratégie pour la date historique : 07/08/2023\n",
      "Updating products for historical week: 31/07/2023 to 06/08/2023\n"
     ]
    },
    {
     "name": "stderr",
     "output_type": "stream",
     "text": [
      "\n",
      "[*********************100%***********************]  1 of 1 completed\n",
      "[*********************100%***********************]  1 of 1 completed\n",
      "[*********************100%***********************]  1 of 1 completed\n",
      "[*********************100%***********************]  1 of 1 completed\n",
      "[*********************100%***********************]  1 of 1 completed\n",
      "[*********************100%***********************]  1 of 1 completed\n",
      "[*********************100%***********************]  1 of 1 completed\n",
      "[*********************100%***********************]  1 of 1 completed\n",
      "[*********************100%***********************]  1 of 1 completed\n",
      "[*********************100%***********************]  1 of 1 completed"
     ]
    },
    {
     "name": "stdout",
     "output_type": "stream",
     "text": [
      "Successfully inserted 50 new records into Products table for the period 31/07/2023 to 06/08/2023\n",
      "Running strategies...\n",
      "Running HY_EQUITY strategy...\n",
      "→ Transaction effectuée : Buy 5 x NVDA @ 46.70\n",
      "→ Transaction effectuée : Sell 2 x PYPL @ 75.82\n",
      "Cash restant : 153.66\n",
      "\n",
      "=== Simulation pour le lundi 14/08/2023 ===\n",
      "Exécution de la stratégie pour la date historique : 14/08/2023\n",
      "Updating products for historical week: 07/08/2023 to 13/08/2023\n"
     ]
    },
    {
     "name": "stderr",
     "output_type": "stream",
     "text": [
      "\n",
      "[*********************100%***********************]  1 of 1 completed\n",
      "[*********************100%***********************]  1 of 1 completed\n",
      "[*********************100%***********************]  1 of 1 completed\n",
      "[*********************100%***********************]  1 of 1 completed\n",
      "[*********************100%***********************]  1 of 1 completed\n",
      "[*********************100%***********************]  1 of 1 completed\n",
      "[*********************100%***********************]  1 of 1 completed\n",
      "[*********************100%***********************]  1 of 1 completed\n",
      "[*********************100%***********************]  1 of 1 completed\n",
      "[*********************100%***********************]  1 of 1 completed"
     ]
    },
    {
     "name": "stdout",
     "output_type": "stream",
     "text": [
      "Successfully inserted 50 new records into Products table for the period 07/08/2023 to 13/08/2023\n",
      "Running strategies...\n",
      "Running HY_EQUITY strategy...\n",
      "→ Transaction effectuée : Buy 3 x NVDA @ 46.70\n",
      "→ Transaction effectuée : Sell 1 x PYPL @ 75.82\n",
      "Cash restant : 89.37\n",
      "\n",
      "=== Simulation pour le lundi 21/08/2023 ===\n",
      "Exécution de la stratégie pour la date historique : 21/08/2023\n",
      "Updating products for historical week: 14/08/2023 to 20/08/2023\n"
     ]
    },
    {
     "name": "stderr",
     "output_type": "stream",
     "text": [
      "\n",
      "[*********************100%***********************]  1 of 1 completed\n",
      "[*********************100%***********************]  1 of 1 completed\n",
      "[*********************100%***********************]  1 of 1 completed\n",
      "[*********************100%***********************]  1 of 1 completed\n",
      "[*********************100%***********************]  1 of 1 completed\n",
      "[*********************100%***********************]  1 of 1 completed\n",
      "[*********************100%***********************]  1 of 1 completed\n",
      "[*********************100%***********************]  1 of 1 completed\n",
      "[*********************100%***********************]  1 of 1 completed\n",
      "[*********************100%***********************]  1 of 1 completed"
     ]
    },
    {
     "name": "stdout",
     "output_type": "stream",
     "text": [
      "Successfully inserted 50 new records into Products table for the period 14/08/2023 to 20/08/2023\n",
      "Running strategies...\n",
      "Running HY_EQUITY strategy...\n",
      "→ Transaction effectuée : Buy 1 x NVDA @ 46.70\n",
      "→ Transaction effectuée : Buy 1 x INTC @ 35.06\n",
      "→ Transaction effectuée : Sell 1 x PYPL @ 75.82\n",
      "Cash restant : 83.43\n",
      "\n",
      "=== Simulation pour le lundi 28/08/2023 ===\n",
      "Exécution de la stratégie pour la date historique : 28/08/2023\n",
      "Updating products for historical week: 21/08/2023 to 27/08/2023\n"
     ]
    },
    {
     "name": "stderr",
     "output_type": "stream",
     "text": [
      "\n",
      "[*********************100%***********************]  1 of 1 completed\n",
      "[*********************100%***********************]  1 of 1 completed\n",
      "[*********************100%***********************]  1 of 1 completed\n",
      "[*********************100%***********************]  1 of 1 completed\n",
      "[*********************100%***********************]  1 of 1 completed\n",
      "[*********************100%***********************]  1 of 1 completed\n",
      "[*********************100%***********************]  1 of 1 completed\n",
      "[*********************100%***********************]  1 of 1 completed\n",
      "[*********************100%***********************]  1 of 1 completed\n",
      "[*********************100%***********************]  1 of 1 completed"
     ]
    },
    {
     "name": "stdout",
     "output_type": "stream",
     "text": [
      "Successfully inserted 50 new records into Products table for the period 21/08/2023 to 27/08/2023\n",
      "Running strategies...\n",
      "Running HY_EQUITY strategy...\n",
      "→ Transaction effectuée : Buy 1 x NVDA @ 45.99\n",
      "→ Transaction effectuée : Sell 2 x PYPL @ 61.19\n",
      "→ Transaction effectuée : Buy 4 x INTC @ 32.70\n",
      "Cash restant : 29.00\n",
      "\n",
      "=== Simulation pour le lundi 04/09/2023 ===\n",
      "Exécution de la stratégie pour la date historique : 04/09/2023\n",
      "Updating products for historical week: 28/08/2023 to 03/09/2023\n"
     ]
    },
    {
     "name": "stderr",
     "output_type": "stream",
     "text": [
      "\n",
      "[*********************100%***********************]  1 of 1 completed\n",
      "[*********************100%***********************]  1 of 1 completed\n",
      "[*********************100%***********************]  1 of 1 completed\n",
      "[*********************100%***********************]  1 of 1 completed\n",
      "[*********************100%***********************]  1 of 1 completed\n",
      "[*********************100%***********************]  1 of 1 completed\n",
      "[*********************100%***********************]  1 of 1 completed\n",
      "[*********************100%***********************]  1 of 1 completed\n",
      "[*********************100%***********************]  1 of 1 completed\n",
      "[*********************100%***********************]  1 of 1 completed"
     ]
    },
    {
     "name": "stdout",
     "output_type": "stream",
     "text": [
      "Successfully inserted 50 new records into Products table for the period 28/08/2023 to 03/09/2023\n",
      "Running strategies...\n",
      "Running HY_EQUITY strategy...\n",
      "→ Transaction effectuée : Sell 2 x PYPL @ 62.51\n",
      "→ Transaction effectuée : Buy 4 x INTC @ 34.56\n",
      "Cash restant : 15.78\n",
      "\n",
      "=== Simulation pour le lundi 11/09/2023 ===\n",
      "Exécution de la stratégie pour la date historique : 11/09/2023\n",
      "Updating products for historical week: 04/09/2023 to 10/09/2023\n"
     ]
    },
    {
     "name": "stderr",
     "output_type": "stream",
     "text": [
      "\n",
      "[*********************100%***********************]  1 of 1 completed\n",
      "[*********************100%***********************]  1 of 1 completed\n",
      "[*********************100%***********************]  1 of 1 completed\n",
      "[*********************100%***********************]  1 of 1 completed\n",
      "[*********************100%***********************]  1 of 1 completed\n",
      "[*********************100%***********************]  1 of 1 completed\n",
      "[*********************100%***********************]  1 of 1 completed\n",
      "[*********************100%***********************]  1 of 1 completed\n",
      "[*********************100%***********************]  1 of 1 completed\n",
      "[*********************100%***********************]  1 of 1 completed"
     ]
    },
    {
     "name": "stdout",
     "output_type": "stream",
     "text": [
      "Successfully inserted 40 new records into Products table for the period 04/09/2023 to 10/09/2023\n",
      "Running strategies...\n",
      "Running HY_EQUITY strategy...\n",
      "→ Transaction effectuée : Sell 1 x PYPL @ 62.51\n",
      "→ Transaction effectuée : Buy 2 x INTC @ 34.56\n",
      "Cash restant : 9.16\n",
      "\n",
      "=== Simulation pour le lundi 18/09/2023 ===\n",
      "Exécution de la stratégie pour la date historique : 18/09/2023\n",
      "Updating products for historical week: 11/09/2023 to 17/09/2023\n"
     ]
    },
    {
     "name": "stderr",
     "output_type": "stream",
     "text": [
      "\n",
      "[*********************100%***********************]  1 of 1 completed\n",
      "[*********************100%***********************]  1 of 1 completed\n",
      "[*********************100%***********************]  1 of 1 completed\n",
      "[*********************100%***********************]  1 of 1 completed\n",
      "[*********************100%***********************]  1 of 1 completed\n",
      "[*********************100%***********************]  1 of 1 completed\n",
      "[*********************100%***********************]  1 of 1 completed\n",
      "[*********************100%***********************]  1 of 1 completed\n",
      "[*********************100%***********************]  1 of 1 completed\n",
      "[*********************100%***********************]  1 of 1 completed"
     ]
    },
    {
     "name": "stdout",
     "output_type": "stream",
     "text": [
      "Successfully inserted 50 new records into Products table for the period 11/09/2023 to 17/09/2023\n",
      "Running strategies...\n",
      "Running HY_EQUITY strategy...\n",
      "→ Transaction effectuée : Sell 1 x PYPL @ 62.51\n",
      "→ Transaction effectuée : Buy 2 x INTC @ 34.56\n",
      "Cash restant : 2.55\n",
      "\n",
      "=== Simulation pour le lundi 25/09/2023 ===\n",
      "Exécution de la stratégie pour la date historique : 25/09/2023\n",
      "Updating products for historical week: 18/09/2023 to 24/09/2023\n"
     ]
    },
    {
     "name": "stderr",
     "output_type": "stream",
     "text": [
      "\n",
      "[*********************100%***********************]  1 of 1 completed\n",
      "[*********************100%***********************]  1 of 1 completed\n",
      "[*********************100%***********************]  1 of 1 completed\n",
      "[*********************100%***********************]  1 of 1 completed\n",
      "[*********************100%***********************]  1 of 1 completed\n",
      "[*********************100%***********************]  1 of 1 completed\n",
      "[*********************100%***********************]  1 of 1 completed\n",
      "[*********************100%***********************]  1 of 1 completed\n",
      "[*********************100%***********************]  1 of 1 completed\n",
      "[*********************100%***********************]  1 of 1 completed"
     ]
    },
    {
     "name": "stdout",
     "output_type": "stream",
     "text": [
      "Successfully inserted 50 new records into Products table for the period 18/09/2023 to 24/09/2023\n",
      "Running strategies...\n",
      "Running HY_EQUITY strategy...\n",
      "→ Transaction effectuée : Sell 1 x PYPL @ 57.88\n",
      "→ Transaction effectuée : Buy 1 x INTC @ 33.62\n",
      "Cash restant : 26.81\n",
      "\n",
      "=== Simulation pour le lundi 02/10/2023 ===\n",
      "Exécution de la stratégie pour la date historique : 02/10/2023\n",
      "Updating products for historical week: 25/09/2023 to 01/10/2023\n"
     ]
    },
    {
     "name": "stderr",
     "output_type": "stream",
     "text": [
      "\n",
      "[*********************100%***********************]  1 of 1 completed\n",
      "[*********************100%***********************]  1 of 1 completed\n",
      "[*********************100%***********************]  1 of 1 completed\n",
      "[*********************100%***********************]  1 of 1 completed\n",
      "[*********************100%***********************]  1 of 1 completed\n",
      "[*********************100%***********************]  1 of 1 completed\n",
      "[*********************100%***********************]  1 of 1 completed\n",
      "[*********************100%***********************]  1 of 1 completed\n",
      "[*********************100%***********************]  1 of 1 completed\n",
      "[*********************100%***********************]  1 of 1 completed"
     ]
    },
    {
     "name": "stdout",
     "output_type": "stream",
     "text": [
      "Successfully inserted 50 new records into Products table for the period 25/09/2023 to 01/10/2023\n",
      "Running strategies...\n",
      "Running HY_EQUITY strategy...\n",
      "Cash restant : 26.81\n",
      "\n",
      "=== Simulation pour le lundi 09/10/2023 ===\n",
      "Exécution de la stratégie pour la date historique : 09/10/2023\n",
      "Updating products for historical week: 02/10/2023 to 08/10/2023\n"
     ]
    },
    {
     "name": "stderr",
     "output_type": "stream",
     "text": [
      "\n",
      "[*********************100%***********************]  1 of 1 completed\n",
      "[*********************100%***********************]  1 of 1 completed\n",
      "[*********************100%***********************]  1 of 1 completed\n",
      "[*********************100%***********************]  1 of 1 completed\n",
      "[*********************100%***********************]  1 of 1 completed\n",
      "[*********************100%***********************]  1 of 1 completed\n",
      "[*********************100%***********************]  1 of 1 completed\n",
      "[*********************100%***********************]  1 of 1 completed\n",
      "[*********************100%***********************]  1 of 1 completed\n",
      "[*********************100%***********************]  1 of 1 completed"
     ]
    },
    {
     "name": "stdout",
     "output_type": "stream",
     "text": [
      "Successfully inserted 50 new records into Products table for the period 02/10/2023 to 08/10/2023\n",
      "Running strategies...\n",
      "Running HY_EQUITY strategy...\n",
      "Cash restant : 26.81\n",
      "\n",
      "=== Simulation pour le lundi 16/10/2023 ===\n",
      "Exécution de la stratégie pour la date historique : 16/10/2023\n",
      "Updating products for historical week: 09/10/2023 to 15/10/2023\n"
     ]
    },
    {
     "name": "stderr",
     "output_type": "stream",
     "text": [
      "\n",
      "[*********************100%***********************]  1 of 1 completed\n",
      "[*********************100%***********************]  1 of 1 completed\n",
      "[*********************100%***********************]  1 of 1 completed\n",
      "[*********************100%***********************]  1 of 1 completed\n",
      "[*********************100%***********************]  1 of 1 completed\n",
      "[*********************100%***********************]  1 of 1 completed\n",
      "[*********************100%***********************]  1 of 1 completed\n",
      "[*********************100%***********************]  1 of 1 completed\n",
      "[*********************100%***********************]  1 of 1 completed\n",
      "[*********************100%***********************]  1 of 1 completed"
     ]
    },
    {
     "name": "stdout",
     "output_type": "stream",
     "text": [
      "Successfully inserted 50 new records into Products table for the period 09/10/2023 to 15/10/2023\n",
      "Running strategies...\n",
      "Running HY_EQUITY strategy...\n",
      "Cash restant : 26.81\n",
      "\n",
      "=== Simulation pour le lundi 23/10/2023 ===\n",
      "Exécution de la stratégie pour la date historique : 23/10/2023\n",
      "Updating products for historical week: 16/10/2023 to 22/10/2023\n"
     ]
    },
    {
     "name": "stderr",
     "output_type": "stream",
     "text": [
      "\n",
      "[*********************100%***********************]  1 of 1 completed\n",
      "[*********************100%***********************]  1 of 1 completed\n",
      "[*********************100%***********************]  1 of 1 completed\n",
      "[*********************100%***********************]  1 of 1 completed\n",
      "[*********************100%***********************]  1 of 1 completed\n",
      "[*********************100%***********************]  1 of 1 completed\n",
      "[*********************100%***********************]  1 of 1 completed\n",
      "[*********************100%***********************]  1 of 1 completed\n",
      "[*********************100%***********************]  1 of 1 completed\n",
      "[*********************100%***********************]  1 of 1 completed"
     ]
    },
    {
     "name": "stdout",
     "output_type": "stream",
     "text": [
      "Successfully inserted 50 new records into Products table for the period 16/10/2023 to 22/10/2023\n",
      "Running strategies...\n",
      "Running HY_EQUITY strategy...\n",
      "Cash restant : 26.81\n",
      "\n",
      "=== Simulation pour le lundi 30/10/2023 ===\n",
      "Exécution de la stratégie pour la date historique : 30/10/2023\n",
      "Updating products for historical week: 23/10/2023 to 29/10/2023\n"
     ]
    },
    {
     "name": "stderr",
     "output_type": "stream",
     "text": [
      "\n",
      "[*********************100%***********************]  1 of 1 completed\n",
      "[*********************100%***********************]  1 of 1 completed\n",
      "[*********************100%***********************]  1 of 1 completed\n",
      "[*********************100%***********************]  1 of 1 completed\n",
      "[*********************100%***********************]  1 of 1 completed\n",
      "[*********************100%***********************]  1 of 1 completed\n",
      "[*********************100%***********************]  1 of 1 completed\n",
      "[*********************100%***********************]  1 of 1 completed\n",
      "[*********************100%***********************]  1 of 1 completed\n",
      "[*********************100%***********************]  1 of 1 completed"
     ]
    },
    {
     "name": "stdout",
     "output_type": "stream",
     "text": [
      "Successfully inserted 50 new records into Products table for the period 23/10/2023 to 29/10/2023\n",
      "Running strategies...\n",
      "Running HY_EQUITY strategy...\n",
      "Cash restant : 26.81\n",
      "\n",
      "=== Simulation pour le lundi 06/11/2023 ===\n",
      "Exécution de la stratégie pour la date historique : 06/11/2023\n",
      "Updating products for historical week: 30/10/2023 to 05/11/2023\n"
     ]
    },
    {
     "name": "stderr",
     "output_type": "stream",
     "text": [
      "\n",
      "[*********************100%***********************]  1 of 1 completed\n",
      "[*********************100%***********************]  1 of 1 completed\n",
      "[*********************100%***********************]  1 of 1 completed\n",
      "[*********************100%***********************]  1 of 1 completed\n",
      "[*********************100%***********************]  1 of 1 completed\n",
      "[*********************100%***********************]  1 of 1 completed\n",
      "[*********************100%***********************]  1 of 1 completed\n",
      "[*********************100%***********************]  1 of 1 completed\n",
      "[*********************100%***********************]  1 of 1 completed\n",
      "[*********************100%***********************]  1 of 1 completed"
     ]
    },
    {
     "name": "stdout",
     "output_type": "stream",
     "text": [
      "Successfully inserted 50 new records into Products table for the period 30/10/2023 to 05/11/2023\n",
      "Running strategies...\n",
      "Running HY_EQUITY strategy...\n",
      "Cash restant : 26.81\n",
      "\n",
      "=== Simulation pour le lundi 13/11/2023 ===\n",
      "Exécution de la stratégie pour la date historique : 13/11/2023\n",
      "Updating products for historical week: 06/11/2023 to 12/11/2023\n"
     ]
    },
    {
     "name": "stderr",
     "output_type": "stream",
     "text": [
      "\n",
      "[*********************100%***********************]  1 of 1 completed\n",
      "[*********************100%***********************]  1 of 1 completed\n",
      "[*********************100%***********************]  1 of 1 completed\n",
      "[*********************100%***********************]  1 of 1 completed\n",
      "[*********************100%***********************]  1 of 1 completed\n",
      "[*********************100%***********************]  1 of 1 completed\n",
      "[*********************100%***********************]  1 of 1 completed\n",
      "[*********************100%***********************]  1 of 1 completed\n",
      "[*********************100%***********************]  1 of 1 completed\n",
      "[*********************100%***********************]  1 of 1 completed"
     ]
    },
    {
     "name": "stdout",
     "output_type": "stream",
     "text": [
      "Successfully inserted 50 new records into Products table for the period 06/11/2023 to 12/11/2023\n",
      "Running strategies...\n",
      "Running HY_EQUITY strategy...\n",
      "Cash restant : 26.81\n",
      "\n",
      "=== Simulation pour le lundi 20/11/2023 ===\n",
      "Exécution de la stratégie pour la date historique : 20/11/2023\n",
      "Updating products for historical week: 13/11/2023 to 19/11/2023\n"
     ]
    },
    {
     "name": "stderr",
     "output_type": "stream",
     "text": [
      "\n",
      "[*********************100%***********************]  1 of 1 completed\n",
      "[*********************100%***********************]  1 of 1 completed\n",
      "[*********************100%***********************]  1 of 1 completed\n",
      "[*********************100%***********************]  1 of 1 completed\n",
      "[*********************100%***********************]  1 of 1 completed\n",
      "[*********************100%***********************]  1 of 1 completed\n",
      "[*********************100%***********************]  1 of 1 completed\n",
      "[*********************100%***********************]  1 of 1 completed\n",
      "[*********************100%***********************]  1 of 1 completed\n",
      "\n",
      "1 Failed download:\n",
      "['INTC']: YFRateLimitError('Too Many Requests. Rate limited. Try after a while.')\n"
     ]
    },
    {
     "name": "stdout",
     "output_type": "stream",
     "text": [
      "Failed to fetch data for INTC: Too Many Requests. Rate limited. Try after a while.\n",
      "Successfully inserted 45 new records into Products table for the period 13/11/2023 to 19/11/2023\n",
      "Running strategies...\n",
      "Running HY_EQUITY strategy...\n",
      "Cash restant : 26.81\n",
      "\n",
      "=== Simulation pour le lundi 27/11/2023 ===\n",
      "Exécution de la stratégie pour la date historique : 27/11/2023\n",
      "Updating products for historical week: 20/11/2023 to 26/11/2023\n"
     ]
    },
    {
     "name": "stderr",
     "output_type": "stream",
     "text": [
      "[*********************100%***********************]  1 of 1 completed\n",
      "\n",
      "1 Failed download:\n",
      "['AAPL']: YFRateLimitError('Too Many Requests. Rate limited. Try after a while.')\n"
     ]
    },
    {
     "name": "stdout",
     "output_type": "stream",
     "text": [
      "Failed to fetch data for AAPL: Too Many Requests. Rate limited. Try after a while.\n"
     ]
    },
    {
     "name": "stderr",
     "output_type": "stream",
     "text": [
      "[*********************100%***********************]  1 of 1 completed\n",
      "\n",
      "1 Failed download:\n",
      "['MSFT']: YFRateLimitError('Too Many Requests. Rate limited. Try after a while.')\n"
     ]
    },
    {
     "name": "stdout",
     "output_type": "stream",
     "text": [
      "Failed to fetch data for MSFT: Too Many Requests. Rate limited. Try after a while.\n"
     ]
    },
    {
     "name": "stderr",
     "output_type": "stream",
     "text": [
      "[*********************100%***********************]  1 of 1 completed\n",
      "\n",
      "1 Failed download:\n",
      "['GOOGL']: YFRateLimitError('Too Many Requests. Rate limited. Try after a while.')\n"
     ]
    },
    {
     "name": "stdout",
     "output_type": "stream",
     "text": [
      "Failed to fetch data for GOOGL: Too Many Requests. Rate limited. Try after a while.\n"
     ]
    },
    {
     "name": "stderr",
     "output_type": "stream",
     "text": [
      "[*********************100%***********************]  1 of 1 completed\n",
      "\n",
      "1 Failed download:\n",
      "['AMZN']: YFRateLimitError('Too Many Requests. Rate limited. Try after a while.')\n"
     ]
    },
    {
     "name": "stdout",
     "output_type": "stream",
     "text": [
      "Failed to fetch data for AMZN: Too Many Requests. Rate limited. Try after a while.\n"
     ]
    },
    {
     "name": "stderr",
     "output_type": "stream",
     "text": [
      "[*********************100%***********************]  1 of 1 completed\n",
      "\n",
      "1 Failed download:\n",
      "['META']: YFRateLimitError('Too Many Requests. Rate limited. Try after a while.')\n"
     ]
    },
    {
     "name": "stdout",
     "output_type": "stream",
     "text": [
      "Failed to fetch data for META: Too Many Requests. Rate limited. Try after a while.\n"
     ]
    },
    {
     "name": "stderr",
     "output_type": "stream",
     "text": [
      "[*********************100%***********************]  1 of 1 completed\n",
      "\n",
      "1 Failed download:\n",
      "['TSLA']: YFRateLimitError('Too Many Requests. Rate limited. Try after a while.')\n"
     ]
    },
    {
     "name": "stdout",
     "output_type": "stream",
     "text": [
      "Failed to fetch data for TSLA: Too Many Requests. Rate limited. Try after a while.\n"
     ]
    },
    {
     "name": "stderr",
     "output_type": "stream",
     "text": [
      "[*********************100%***********************]  1 of 1 completed\n",
      "\n",
      "1 Failed download:\n",
      "['NVDA']: YFRateLimitError('Too Many Requests. Rate limited. Try after a while.')\n"
     ]
    },
    {
     "name": "stdout",
     "output_type": "stream",
     "text": [
      "Failed to fetch data for NVDA: Too Many Requests. Rate limited. Try after a while.\n"
     ]
    },
    {
     "name": "stderr",
     "output_type": "stream",
     "text": [
      "[*********************100%***********************]  1 of 1 completed\n",
      "\n",
      "1 Failed download:\n",
      "['PYPL']: YFRateLimitError('Too Many Requests. Rate limited. Try after a while.')\n"
     ]
    },
    {
     "name": "stdout",
     "output_type": "stream",
     "text": [
      "Failed to fetch data for PYPL: Too Many Requests. Rate limited. Try after a while.\n"
     ]
    },
    {
     "name": "stderr",
     "output_type": "stream",
     "text": [
      "[*********************100%***********************]  1 of 1 completed\n",
      "\n",
      "1 Failed download:\n",
      "['ADBE']: YFRateLimitError('Too Many Requests. Rate limited. Try after a while.')\n"
     ]
    },
    {
     "name": "stdout",
     "output_type": "stream",
     "text": [
      "Failed to fetch data for ADBE: Too Many Requests. Rate limited. Try after a while.\n"
     ]
    },
    {
     "name": "stderr",
     "output_type": "stream",
     "text": [
      "[*********************100%***********************]  1 of 1 completed\n",
      "\n",
      "1 Failed download:\n",
      "['INTC']: YFRateLimitError('Too Many Requests. Rate limited. Try after a while.')\n"
     ]
    },
    {
     "name": "stdout",
     "output_type": "stream",
     "text": [
      "Failed to fetch data for INTC: Too Many Requests. Rate limited. Try after a while.\n",
      "No data to update.\n",
      "Running strategies...\n",
      "Running HY_EQUITY strategy...\n",
      "Cash restant : 26.81\n",
      "\n",
      "=== Simulation pour le lundi 04/12/2023 ===\n",
      "Exécution de la stratégie pour la date historique : 04/12/2023\n",
      "Updating products for historical week: 27/11/2023 to 03/12/2023\n"
     ]
    },
    {
     "name": "stderr",
     "output_type": "stream",
     "text": [
      "[*********************100%***********************]  1 of 1 completed\n",
      "\n",
      "1 Failed download:\n",
      "['AAPL']: YFRateLimitError('Too Many Requests. Rate limited. Try after a while.')\n"
     ]
    },
    {
     "name": "stdout",
     "output_type": "stream",
     "text": [
      "Failed to fetch data for AAPL: Too Many Requests. Rate limited. Try after a while.\n"
     ]
    },
    {
     "name": "stderr",
     "output_type": "stream",
     "text": [
      "[*********************100%***********************]  1 of 1 completed\n",
      "\n",
      "1 Failed download:\n",
      "['MSFT']: YFRateLimitError('Too Many Requests. Rate limited. Try after a while.')\n"
     ]
    },
    {
     "name": "stdout",
     "output_type": "stream",
     "text": [
      "Failed to fetch data for MSFT: Too Many Requests. Rate limited. Try after a while.\n"
     ]
    },
    {
     "name": "stderr",
     "output_type": "stream",
     "text": [
      "[*********************100%***********************]  1 of 1 completed\n",
      "\n",
      "1 Failed download:\n",
      "['GOOGL']: YFRateLimitError('Too Many Requests. Rate limited. Try after a while.')\n"
     ]
    },
    {
     "name": "stdout",
     "output_type": "stream",
     "text": [
      "Failed to fetch data for GOOGL: Too Many Requests. Rate limited. Try after a while.\n"
     ]
    },
    {
     "name": "stderr",
     "output_type": "stream",
     "text": [
      "[*********************100%***********************]  1 of 1 completed\n",
      "\n",
      "1 Failed download:\n",
      "['AMZN']: YFRateLimitError('Too Many Requests. Rate limited. Try after a while.')\n"
     ]
    },
    {
     "name": "stdout",
     "output_type": "stream",
     "text": [
      "Failed to fetch data for AMZN: Too Many Requests. Rate limited. Try after a while.\n"
     ]
    },
    {
     "name": "stderr",
     "output_type": "stream",
     "text": [
      "[*********************100%***********************]  1 of 1 completed\n",
      "\n",
      "1 Failed download:\n",
      "['META']: YFRateLimitError('Too Many Requests. Rate limited. Try after a while.')\n"
     ]
    },
    {
     "name": "stdout",
     "output_type": "stream",
     "text": [
      "Failed to fetch data for META: Too Many Requests. Rate limited. Try after a while.\n"
     ]
    },
    {
     "name": "stderr",
     "output_type": "stream",
     "text": [
      "[*********************100%***********************]  1 of 1 completed\n",
      "\n",
      "1 Failed download:\n",
      "['TSLA']: YFRateLimitError('Too Many Requests. Rate limited. Try after a while.')\n"
     ]
    },
    {
     "name": "stdout",
     "output_type": "stream",
     "text": [
      "Failed to fetch data for TSLA: Too Many Requests. Rate limited. Try after a while.\n"
     ]
    },
    {
     "name": "stderr",
     "output_type": "stream",
     "text": [
      "[*********************100%***********************]  1 of 1 completed\n",
      "\n",
      "1 Failed download:\n",
      "['NVDA']: YFRateLimitError('Too Many Requests. Rate limited. Try after a while.')\n"
     ]
    },
    {
     "name": "stdout",
     "output_type": "stream",
     "text": [
      "Failed to fetch data for NVDA: Too Many Requests. Rate limited. Try after a while.\n"
     ]
    },
    {
     "name": "stderr",
     "output_type": "stream",
     "text": [
      "[*********************100%***********************]  1 of 1 completed\n",
      "\n",
      "1 Failed download:\n",
      "['PYPL']: YFRateLimitError('Too Many Requests. Rate limited. Try after a while.')\n"
     ]
    },
    {
     "name": "stdout",
     "output_type": "stream",
     "text": [
      "Failed to fetch data for PYPL: Too Many Requests. Rate limited. Try after a while.\n"
     ]
    },
    {
     "name": "stderr",
     "output_type": "stream",
     "text": [
      "[*********************100%***********************]  1 of 1 completed\n",
      "\n",
      "1 Failed download:\n",
      "['ADBE']: YFRateLimitError('Too Many Requests. Rate limited. Try after a while.')\n"
     ]
    },
    {
     "name": "stdout",
     "output_type": "stream",
     "text": [
      "Failed to fetch data for ADBE: Too Many Requests. Rate limited. Try after a while.\n"
     ]
    },
    {
     "name": "stderr",
     "output_type": "stream",
     "text": [
      "[*********************100%***********************]  1 of 1 completed\n",
      "\n",
      "1 Failed download:\n",
      "['INTC']: YFRateLimitError('Too Many Requests. Rate limited. Try after a while.')\n"
     ]
    },
    {
     "name": "stdout",
     "output_type": "stream",
     "text": [
      "Failed to fetch data for INTC: Too Many Requests. Rate limited. Try after a while.\n",
      "No data to update.\n",
      "Running strategies...\n",
      "Running HY_EQUITY strategy...\n",
      "Cash restant : 26.81\n",
      "\n",
      "=== Simulation pour le lundi 11/12/2023 ===\n",
      "Exécution de la stratégie pour la date historique : 11/12/2023\n",
      "Updating products for historical week: 04/12/2023 to 10/12/2023\n"
     ]
    },
    {
     "name": "stderr",
     "output_type": "stream",
     "text": [
      "[*********************100%***********************]  1 of 1 completed\n",
      "\n",
      "1 Failed download:\n",
      "['AAPL']: YFRateLimitError('Too Many Requests. Rate limited. Try after a while.')\n"
     ]
    },
    {
     "name": "stdout",
     "output_type": "stream",
     "text": [
      "Failed to fetch data for AAPL: Too Many Requests. Rate limited. Try after a while.\n"
     ]
    },
    {
     "name": "stderr",
     "output_type": "stream",
     "text": [
      "[*********************100%***********************]  1 of 1 completed\n",
      "\n",
      "1 Failed download:\n",
      "['MSFT']: YFRateLimitError('Too Many Requests. Rate limited. Try after a while.')\n"
     ]
    },
    {
     "name": "stdout",
     "output_type": "stream",
     "text": [
      "Failed to fetch data for MSFT: Too Many Requests. Rate limited. Try after a while.\n"
     ]
    },
    {
     "name": "stderr",
     "output_type": "stream",
     "text": [
      "[*********************100%***********************]  1 of 1 completed\n",
      "\n",
      "1 Failed download:\n",
      "['GOOGL']: YFRateLimitError('Too Many Requests. Rate limited. Try after a while.')\n"
     ]
    },
    {
     "name": "stdout",
     "output_type": "stream",
     "text": [
      "Failed to fetch data for GOOGL: Too Many Requests. Rate limited. Try after a while.\n"
     ]
    },
    {
     "name": "stderr",
     "output_type": "stream",
     "text": [
      "[*********************100%***********************]  1 of 1 completed\n",
      "\n",
      "1 Failed download:\n",
      "['AMZN']: YFRateLimitError('Too Many Requests. Rate limited. Try after a while.')\n"
     ]
    },
    {
     "name": "stdout",
     "output_type": "stream",
     "text": [
      "Failed to fetch data for AMZN: Too Many Requests. Rate limited. Try after a while.\n"
     ]
    },
    {
     "name": "stderr",
     "output_type": "stream",
     "text": [
      "[*********************100%***********************]  1 of 1 completed\n",
      "\n",
      "1 Failed download:\n",
      "['META']: YFRateLimitError('Too Many Requests. Rate limited. Try after a while.')\n"
     ]
    },
    {
     "name": "stdout",
     "output_type": "stream",
     "text": [
      "Failed to fetch data for META: Too Many Requests. Rate limited. Try after a while.\n"
     ]
    },
    {
     "name": "stderr",
     "output_type": "stream",
     "text": [
      "[*********************100%***********************]  1 of 1 completed\n",
      "\n",
      "1 Failed download:\n",
      "['TSLA']: YFRateLimitError('Too Many Requests. Rate limited. Try after a while.')\n"
     ]
    },
    {
     "name": "stdout",
     "output_type": "stream",
     "text": [
      "Failed to fetch data for TSLA: Too Many Requests. Rate limited. Try after a while.\n"
     ]
    },
    {
     "name": "stderr",
     "output_type": "stream",
     "text": [
      "[*********************100%***********************]  1 of 1 completed\n",
      "\n",
      "1 Failed download:\n",
      "['NVDA']: YFRateLimitError('Too Many Requests. Rate limited. Try after a while.')\n"
     ]
    },
    {
     "name": "stdout",
     "output_type": "stream",
     "text": [
      "Failed to fetch data for NVDA: Too Many Requests. Rate limited. Try after a while.\n"
     ]
    },
    {
     "name": "stderr",
     "output_type": "stream",
     "text": [
      "[*********************100%***********************]  1 of 1 completed\n",
      "\n",
      "1 Failed download:\n",
      "['PYPL']: YFRateLimitError('Too Many Requests. Rate limited. Try after a while.')\n"
     ]
    },
    {
     "name": "stdout",
     "output_type": "stream",
     "text": [
      "Failed to fetch data for PYPL: Too Many Requests. Rate limited. Try after a while.\n"
     ]
    },
    {
     "name": "stderr",
     "output_type": "stream",
     "text": [
      "[*********************100%***********************]  1 of 1 completed\n",
      "\n",
      "1 Failed download:\n",
      "['ADBE']: YFRateLimitError('Too Many Requests. Rate limited. Try after a while.')\n"
     ]
    },
    {
     "name": "stdout",
     "output_type": "stream",
     "text": [
      "Failed to fetch data for ADBE: Too Many Requests. Rate limited. Try after a while.\n"
     ]
    },
    {
     "name": "stderr",
     "output_type": "stream",
     "text": [
      "[*********************100%***********************]  1 of 1 completed\n",
      "\n",
      "1 Failed download:\n",
      "['INTC']: YFRateLimitError('Too Many Requests. Rate limited. Try after a while.')\n"
     ]
    },
    {
     "name": "stdout",
     "output_type": "stream",
     "text": [
      "Failed to fetch data for INTC: Too Many Requests. Rate limited. Try after a while.\n",
      "No data to update.\n",
      "Running strategies...\n",
      "Running HY_EQUITY strategy...\n",
      "Cash restant : 26.81\n",
      "\n",
      "=== Simulation pour le lundi 18/12/2023 ===\n",
      "Exécution de la stratégie pour la date historique : 18/12/2023\n",
      "Updating products for historical week: 11/12/2023 to 17/12/2023\n"
     ]
    },
    {
     "name": "stderr",
     "output_type": "stream",
     "text": [
      "[*********************100%***********************]  1 of 1 completed\n",
      "\n",
      "1 Failed download:\n",
      "['AAPL']: YFRateLimitError('Too Many Requests. Rate limited. Try after a while.')\n"
     ]
    },
    {
     "name": "stdout",
     "output_type": "stream",
     "text": [
      "Failed to fetch data for AAPL: Too Many Requests. Rate limited. Try after a while.\n"
     ]
    },
    {
     "name": "stderr",
     "output_type": "stream",
     "text": [
      "[*********************100%***********************]  1 of 1 completed\n",
      "\n",
      "1 Failed download:\n",
      "['MSFT']: YFRateLimitError('Too Many Requests. Rate limited. Try after a while.')\n"
     ]
    },
    {
     "name": "stdout",
     "output_type": "stream",
     "text": [
      "Failed to fetch data for MSFT: Too Many Requests. Rate limited. Try after a while.\n"
     ]
    },
    {
     "name": "stderr",
     "output_type": "stream",
     "text": [
      "[*********************100%***********************]  1 of 1 completed\n",
      "\n",
      "1 Failed download:\n",
      "['GOOGL']: YFRateLimitError('Too Many Requests. Rate limited. Try after a while.')\n"
     ]
    },
    {
     "name": "stdout",
     "output_type": "stream",
     "text": [
      "Failed to fetch data for GOOGL: Too Many Requests. Rate limited. Try after a while.\n"
     ]
    },
    {
     "name": "stderr",
     "output_type": "stream",
     "text": [
      "[*********************100%***********************]  1 of 1 completed\n",
      "\n",
      "1 Failed download:\n",
      "['AMZN']: YFRateLimitError('Too Many Requests. Rate limited. Try after a while.')\n"
     ]
    },
    {
     "name": "stdout",
     "output_type": "stream",
     "text": [
      "Failed to fetch data for AMZN: Too Many Requests. Rate limited. Try after a while.\n"
     ]
    },
    {
     "name": "stderr",
     "output_type": "stream",
     "text": [
      "[*********************100%***********************]  1 of 1 completed\n",
      "\n",
      "1 Failed download:\n",
      "['META']: YFRateLimitError('Too Many Requests. Rate limited. Try after a while.')\n"
     ]
    },
    {
     "name": "stdout",
     "output_type": "stream",
     "text": [
      "Failed to fetch data for META: Too Many Requests. Rate limited. Try after a while.\n"
     ]
    },
    {
     "name": "stderr",
     "output_type": "stream",
     "text": [
      "[*********************100%***********************]  1 of 1 completed\n",
      "\n",
      "1 Failed download:\n",
      "['TSLA']: YFRateLimitError('Too Many Requests. Rate limited. Try after a while.')\n"
     ]
    },
    {
     "name": "stdout",
     "output_type": "stream",
     "text": [
      "Failed to fetch data for TSLA: Too Many Requests. Rate limited. Try after a while.\n"
     ]
    },
    {
     "name": "stderr",
     "output_type": "stream",
     "text": [
      "[*********************100%***********************]  1 of 1 completed\n",
      "\n",
      "1 Failed download:\n",
      "['NVDA']: YFRateLimitError('Too Many Requests. Rate limited. Try after a while.')\n"
     ]
    },
    {
     "name": "stdout",
     "output_type": "stream",
     "text": [
      "Failed to fetch data for NVDA: Too Many Requests. Rate limited. Try after a while.\n"
     ]
    },
    {
     "name": "stderr",
     "output_type": "stream",
     "text": [
      "[*********************100%***********************]  1 of 1 completed\n",
      "\n",
      "1 Failed download:\n",
      "['PYPL']: YFRateLimitError('Too Many Requests. Rate limited. Try after a while.')\n"
     ]
    },
    {
     "name": "stdout",
     "output_type": "stream",
     "text": [
      "Failed to fetch data for PYPL: Too Many Requests. Rate limited. Try after a while.\n"
     ]
    },
    {
     "name": "stderr",
     "output_type": "stream",
     "text": [
      "[*********************100%***********************]  1 of 1 completed\n",
      "\n",
      "1 Failed download:\n",
      "['ADBE']: YFRateLimitError('Too Many Requests. Rate limited. Try after a while.')\n"
     ]
    },
    {
     "name": "stdout",
     "output_type": "stream",
     "text": [
      "Failed to fetch data for ADBE: Too Many Requests. Rate limited. Try after a while.\n"
     ]
    },
    {
     "name": "stderr",
     "output_type": "stream",
     "text": [
      "[*********************100%***********************]  1 of 1 completed\n",
      "\n",
      "1 Failed download:\n",
      "['INTC']: YFRateLimitError('Too Many Requests. Rate limited. Try after a while.')\n"
     ]
    },
    {
     "name": "stdout",
     "output_type": "stream",
     "text": [
      "Failed to fetch data for INTC: Too Many Requests. Rate limited. Try after a while.\n",
      "No data to update.\n",
      "Running strategies...\n",
      "Running HY_EQUITY strategy...\n",
      "Cash restant : 26.81\n",
      "\n",
      "=== Simulation pour le lundi 25/12/2023 ===\n",
      "Exécution de la stratégie pour la date historique : 25/12/2023\n",
      "Updating products for historical week: 18/12/2023 to 24/12/2023\n"
     ]
    },
    {
     "name": "stderr",
     "output_type": "stream",
     "text": [
      "[*********************100%***********************]  1 of 1 completed\n",
      "\n",
      "1 Failed download:\n",
      "['AAPL']: YFRateLimitError('Too Many Requests. Rate limited. Try after a while.')\n"
     ]
    },
    {
     "name": "stdout",
     "output_type": "stream",
     "text": [
      "Failed to fetch data for AAPL: Too Many Requests. Rate limited. Try after a while.\n"
     ]
    },
    {
     "name": "stderr",
     "output_type": "stream",
     "text": [
      "[*********************100%***********************]  1 of 1 completed\n",
      "\n",
      "1 Failed download:\n",
      "['MSFT']: YFRateLimitError('Too Many Requests. Rate limited. Try after a while.')\n"
     ]
    },
    {
     "name": "stdout",
     "output_type": "stream",
     "text": [
      "Failed to fetch data for MSFT: Too Many Requests. Rate limited. Try after a while.\n"
     ]
    },
    {
     "name": "stderr",
     "output_type": "stream",
     "text": [
      "[*********************100%***********************]  1 of 1 completed\n",
      "\n",
      "1 Failed download:\n",
      "['GOOGL']: YFRateLimitError('Too Many Requests. Rate limited. Try after a while.')\n"
     ]
    },
    {
     "name": "stdout",
     "output_type": "stream",
     "text": [
      "Failed to fetch data for GOOGL: Too Many Requests. Rate limited. Try after a while.\n"
     ]
    },
    {
     "name": "stderr",
     "output_type": "stream",
     "text": [
      "[*********************100%***********************]  1 of 1 completed\n",
      "\n",
      "1 Failed download:\n",
      "['AMZN']: YFRateLimitError('Too Many Requests. Rate limited. Try after a while.')\n"
     ]
    },
    {
     "name": "stdout",
     "output_type": "stream",
     "text": [
      "Failed to fetch data for AMZN: Too Many Requests. Rate limited. Try after a while.\n"
     ]
    },
    {
     "name": "stderr",
     "output_type": "stream",
     "text": [
      "[*********************100%***********************]  1 of 1 completed\n",
      "\n",
      "1 Failed download:\n",
      "['META']: YFRateLimitError('Too Many Requests. Rate limited. Try after a while.')\n"
     ]
    },
    {
     "name": "stdout",
     "output_type": "stream",
     "text": [
      "Failed to fetch data for META: Too Many Requests. Rate limited. Try after a while.\n"
     ]
    },
    {
     "name": "stderr",
     "output_type": "stream",
     "text": [
      "[*********************100%***********************]  1 of 1 completed\n",
      "\n",
      "1 Failed download:\n",
      "['TSLA']: YFRateLimitError('Too Many Requests. Rate limited. Try after a while.')\n"
     ]
    },
    {
     "name": "stdout",
     "output_type": "stream",
     "text": [
      "Failed to fetch data for TSLA: Too Many Requests. Rate limited. Try after a while.\n"
     ]
    },
    {
     "name": "stderr",
     "output_type": "stream",
     "text": [
      "[*********************100%***********************]  1 of 1 completed\n",
      "\n",
      "1 Failed download:\n",
      "['NVDA']: YFRateLimitError('Too Many Requests. Rate limited. Try after a while.')\n"
     ]
    },
    {
     "name": "stdout",
     "output_type": "stream",
     "text": [
      "Failed to fetch data for NVDA: Too Many Requests. Rate limited. Try after a while.\n"
     ]
    },
    {
     "name": "stderr",
     "output_type": "stream",
     "text": [
      "[*********************100%***********************]  1 of 1 completed\n",
      "\n",
      "1 Failed download:\n",
      "['PYPL']: YFRateLimitError('Too Many Requests. Rate limited. Try after a while.')\n"
     ]
    },
    {
     "name": "stdout",
     "output_type": "stream",
     "text": [
      "Failed to fetch data for PYPL: Too Many Requests. Rate limited. Try after a while.\n"
     ]
    },
    {
     "name": "stderr",
     "output_type": "stream",
     "text": [
      "[*********************100%***********************]  1 of 1 completed\n",
      "\n",
      "1 Failed download:\n",
      "['ADBE']: YFRateLimitError('Too Many Requests. Rate limited. Try after a while.')\n"
     ]
    },
    {
     "name": "stdout",
     "output_type": "stream",
     "text": [
      "Failed to fetch data for ADBE: Too Many Requests. Rate limited. Try after a while.\n"
     ]
    },
    {
     "name": "stderr",
     "output_type": "stream",
     "text": [
      "[*********************100%***********************]  1 of 1 completed\n",
      "\n",
      "1 Failed download:\n",
      "['INTC']: YFRateLimitError('Too Many Requests. Rate limited. Try after a while.')\n"
     ]
    },
    {
     "name": "stdout",
     "output_type": "stream",
     "text": [
      "Failed to fetch data for INTC: Too Many Requests. Rate limited. Try after a while.\n",
      "No data to update.\n",
      "Running strategies...\n",
      "Running HY_EQUITY strategy...\n",
      "Cash restant : 26.81\n",
      "\n",
      "Simulation terminée !\n",
      "Nombre de lundis simulés : 52\n",
      "Période couverte : 01/01/2023 au 31/12/2023\n"
     ]
    }
   ],
   "source": [
    "from strategies import RunAllStrat\n",
    "start_date2=\"01/01/2023\"\n",
    "end_date2=\"31/12/2023\"\n",
    "b=RunAllStrat(db_file,start_date2,end_date2,tickers, main_df)\n",
    "b.run()"
   ]
  },
  {
   "cell_type": "code",
   "execution_count": null,
   "metadata": {},
   "outputs": [],
   "source": [
    "import sqlite3\n",
    "\n",
    "db_path = \"Fund.db\"  # adapte si ton fichier a un chemin différent\n",
    "\n",
    "create_history_table_query = \"\"\"\n",
    "CREATE TABLE IF NOT EXISTS Portfolio_History (\n",
    "    HISTORY_ID INTEGER PRIMARY KEY AUTOINCREMENT,\n",
    "    MANAGER_ID INTEGER NOT NULL,\n",
    "    TICKER TEXT NOT NULL,\n",
    "    QUANTITY INTEGER NOT NULL,\n",
    "    DATE_SNAPSHOT DATE NOT NULL,\n",
    "    FOREIGN KEY(MANAGER_ID) REFERENCES Managers(MANAGER_ID) ON DELETE CASCADE\n",
    ");\n",
    "\"\"\"\n",
    "\n",
    "conn = sqlite3.connect(db_path)\n",
    "cursor = conn.cursor()\n",
    "cursor.execute(create_history_table_query)\n",
    "conn.commit()\n",
    "conn.close()\n",
    "\n",
    "print(\"✅ Table Portfolio_History créée avec succès.\")\n"
   ]
  },
  {
   "cell_type": "code",
   "execution_count": null,
   "metadata": {},
   "outputs": [],
   "source": [
    "def rebuild_portfolio_history_by_manager(self, manager_id):\n",
    "    try:\n",
    "        conn = sqlite3.connect(self.db_file)\n",
    "        cursor = conn.cursor()\n",
    "\n",
    "        # 1. Composition initiale : actifs dans Portfolios pour ce manager\n",
    "        cursor.execute(\"\"\"\n",
    "            SELECT TICKER, QUANTITY\n",
    "            FROM Portfolios\n",
    "            WHERE MANAGER_ID = ?\n",
    "        \"\"\", (manager_id,))\n",
    "        initial_assets = cursor.fetchall()\n",
    "        portfolio = {ticker: qty for ticker, qty in initial_assets}\n",
    "\n",
    "        # 2. Récupérer tous les deals du manager, triés par date\n",
    "        cursor.execute(\"\"\"\n",
    "            SELECT EXECUTION_DATE, TICKER, TRADE_TYPE, QUANTITY\n",
    "            FROM Deals\n",
    "            WHERE MANAGER_ID = ?\n",
    "            ORDER BY EXECUTION_DATE ASC\n",
    "        \"\"\", (manager_id,))\n",
    "        deals = cursor.fetchall()\n",
    "\n",
    "        # 3. Appliquer chaque deal et sauvegarder un snapshot\n",
    "        for deal in deals:\n",
    "            date, ticker, trade_type, quantity = deal\n",
    "\n",
    "            if trade_type == 'Buy':\n",
    "                portfolio[ticker] = portfolio.get(ticker, 0) + quantity\n",
    "            elif trade_type == 'Sell':\n",
    "                portfolio[ticker] = max(portfolio.get(ticker, 0) - quantity, 0)\n",
    "\n",
    "            # Retirer les actifs avec 0\n",
    "            portfolio = {k: v for k, v in portfolio.items() if v > 0}\n",
    "\n",
    "            # 4. Insérer un snapshot complet pour cette date\n",
    "            for tick, qty in portfolio.items():\n",
    "                cursor.execute(\"\"\"\n",
    "                    INSERT INTO Portfolio_History (MANAGER_ID, TICKER, QUANTITY, DATE_SNAPSHOT)\n",
    "                    VALUES (?, ?, ?, ?)\n",
    "                \"\"\", (manager_id, tick, qty, date))\n",
    "\n",
    "        conn.commit()\n",
    "        print(f\"📈 Historique reconstruit pour le manager {manager_id}\")\n",
    "    except sqlite3.Error as e:\n",
    "        print(f\"❌ Erreur SQLite : {e}\")\n",
    "    finally:\n",
    "        if conn:\n",
    "            conn.close()\n"
   ]
  },
  {
   "cell_type": "code",
   "execution_count": 13,
   "metadata": {},
   "outputs": [
    {
     "name": "stdout",
     "output_type": "stream",
     "text": [
      "📈 Historique reconstruit pour le manager 1\n"
     ]
    }
   ],
   "source": [
    "db_manager.rebuild_portfolio_history_by_manager(manager_id=1)\n"
   ]
  }
 ],
 "metadata": {
  "kernelspec": {
   "display_name": "Python 3",
   "language": "python",
   "name": "python3"
  },
  "language_info": {
   "codemirror_mode": {
    "name": "ipython",
    "version": 3
   },
   "file_extension": ".py",
   "mimetype": "text/x-python",
   "name": "python",
   "nbconvert_exporter": "python",
   "pygments_lexer": "ipython3",
   "version": "3.12.1"
  }
 },
 "nbformat": 4,
 "nbformat_minor": 2
}
