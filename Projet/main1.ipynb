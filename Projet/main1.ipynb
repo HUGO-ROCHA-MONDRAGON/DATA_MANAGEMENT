{
 "cells": [
  {
   "cell_type": "code",
   "execution_count": 1,
   "metadata": {},
   "outputs": [],
   "source": [
    "import sqlite3\n",
    "import pandas as pd\n",
    "db_file = \"Fund.db\"\n",
    "tickers = ['AAPL', 'MSFT', 'GOOGL', 'AMZN', 'FB', 'TSLA', 'NVDA', 'PYPL', 'ADBE', 'INTC']#tickers contenus dans MAIN_DATA_FRAME\n",
    "\n",
    "start_date = \"02/01/2023\"#toute la periode start date (pour tout telecharger dun coup)\n",
    "end_date = \"31/12/2023\"#pareil"
   ]
  },
  {
   "cell_type": "markdown",
   "metadata": {},
   "source": [
    "## 1. Creation et peuplement de la base"
   ]
  },
  {
   "cell_type": "code",
   "execution_count": 2,
   "metadata": {},
   "outputs": [],
   "source": [
    "from base_builder import DatabaseBuilder"
   ]
  },
  {
   "cell_type": "code",
   "execution_count": 3,
   "metadata": {},
   "outputs": [
    {
     "name": "stdout",
     "output_type": "stream",
     "text": [
      "Tables created successfully.\n",
      "3 clients insérés avec succès dans la table 'Clients'.\n",
      "3 managers insérés avec succès dans la table 'Managers'.\n"
     ]
    }
   ],
   "source": [
    "db_manager = DatabaseBuilder(db_file)\n",
    "db_manager.create_tables()\n",
    "db_manager.insert_clients_data(3)\n",
    "db_manager.insert_managers_data(3)"
   ]
  },
  {
   "cell_type": "markdown",
   "metadata": {},
   "source": [
    "## 2. Collecte et traitement des datas"
   ]
  },
  {
   "cell_type": "code",
   "execution_count": 4,
   "metadata": {},
   "outputs": [],
   "source": [
    "from data_collector import GetData"
   ]
  },
  {
   "cell_type": "code",
   "execution_count": 5,
   "metadata": {},
   "outputs": [
    {
     "name": "stderr",
     "output_type": "stream",
     "text": [
      "[*********************100%***********************]  1 of 1 completed\n",
      "[*********************100%***********************]  1 of 1 completed\n",
      "[*********************100%***********************]  1 of 1 completed\n",
      "[*********************100%***********************]  1 of 1 completed\n",
      "[*********************100%***********************]  1 of 1 completed\n",
      "\n",
      "1 Failed download:\n",
      "['FB']: YFTzMissingError('possibly delisted; no timezone found')\n",
      "[*********************100%***********************]  1 of 1 completed\n",
      "[*********************100%***********************]  1 of 1 completed\n",
      "[*********************100%***********************]  1 of 1 completed\n",
      "[*********************100%***********************]  1 of 1 completed\n",
      "[*********************100%***********************]  1 of 1 completed\n"
     ]
    },
    {
     "data": {
      "text/html": [
       "<div>\n",
       "<style scoped>\n",
       "    .dataframe tbody tr th:only-of-type {\n",
       "        vertical-align: middle;\n",
       "    }\n",
       "\n",
       "    .dataframe tbody tr th {\n",
       "        vertical-align: top;\n",
       "    }\n",
       "\n",
       "    .dataframe thead th {\n",
       "        text-align: right;\n",
       "    }\n",
       "</style>\n",
       "<table border=\"1\" class=\"dataframe\">\n",
       "  <thead>\n",
       "    <tr style=\"text-align: right;\">\n",
       "      <th></th>\n",
       "      <th>IMPORT_DATE</th>\n",
       "      <th>PRICE</th>\n",
       "      <th>TICKER</th>\n",
       "      <th>SECTOR</th>\n",
       "    </tr>\n",
       "  </thead>\n",
       "  <tbody>\n",
       "    <tr>\n",
       "      <th>0</th>\n",
       "      <td>2023-01-03</td>\n",
       "      <td>123.632530</td>\n",
       "      <td>AAPL</td>\n",
       "      <td>Technology</td>\n",
       "    </tr>\n",
       "    <tr>\n",
       "      <th>1</th>\n",
       "      <td>2023-01-04</td>\n",
       "      <td>124.907692</td>\n",
       "      <td>AAPL</td>\n",
       "      <td>Technology</td>\n",
       "    </tr>\n",
       "    <tr>\n",
       "      <th>2</th>\n",
       "      <td>2023-01-05</td>\n",
       "      <td>123.583107</td>\n",
       "      <td>AAPL</td>\n",
       "      <td>Technology</td>\n",
       "    </tr>\n",
       "    <tr>\n",
       "      <th>3</th>\n",
       "      <td>2023-01-06</td>\n",
       "      <td>128.130219</td>\n",
       "      <td>AAPL</td>\n",
       "      <td>Technology</td>\n",
       "    </tr>\n",
       "    <tr>\n",
       "      <th>4</th>\n",
       "      <td>2023-01-09</td>\n",
       "      <td>128.654144</td>\n",
       "      <td>AAPL</td>\n",
       "      <td>Technology</td>\n",
       "    </tr>\n",
       "    <tr>\n",
       "      <th>...</th>\n",
       "      <td>...</td>\n",
       "      <td>...</td>\n",
       "      <td>...</td>\n",
       "      <td>...</td>\n",
       "    </tr>\n",
       "    <tr>\n",
       "      <th>2245</th>\n",
       "      <td>2023-12-22</td>\n",
       "      <td>47.365639</td>\n",
       "      <td>INTC</td>\n",
       "      <td>Technology</td>\n",
       "    </tr>\n",
       "    <tr>\n",
       "      <th>2246</th>\n",
       "      <td>2023-12-26</td>\n",
       "      <td>49.832600</td>\n",
       "      <td>INTC</td>\n",
       "      <td>Technology</td>\n",
       "    </tr>\n",
       "    <tr>\n",
       "      <th>2247</th>\n",
       "      <td>2023-12-27</td>\n",
       "      <td>50.089165</td>\n",
       "      <td>INTC</td>\n",
       "      <td>Technology</td>\n",
       "    </tr>\n",
       "    <tr>\n",
       "      <th>2248</th>\n",
       "      <td>2023-12-28</td>\n",
       "      <td>49.724052</td>\n",
       "      <td>INTC</td>\n",
       "      <td>Technology</td>\n",
       "    </tr>\n",
       "    <tr>\n",
       "      <th>2249</th>\n",
       "      <td>2023-12-29</td>\n",
       "      <td>49.585903</td>\n",
       "      <td>INTC</td>\n",
       "      <td>Technology</td>\n",
       "    </tr>\n",
       "  </tbody>\n",
       "</table>\n",
       "<p>2250 rows × 4 columns</p>\n",
       "</div>"
      ],
      "text/plain": [
       "     IMPORT_DATE       PRICE TICKER      SECTOR\n",
       "0     2023-01-03  123.632530   AAPL  Technology\n",
       "1     2023-01-04  124.907692   AAPL  Technology\n",
       "2     2023-01-05  123.583107   AAPL  Technology\n",
       "3     2023-01-06  128.130219   AAPL  Technology\n",
       "4     2023-01-09  128.654144   AAPL  Technology\n",
       "...          ...         ...    ...         ...\n",
       "2245  2023-12-22   47.365639   INTC  Technology\n",
       "2246  2023-12-26   49.832600   INTC  Technology\n",
       "2247  2023-12-27   50.089165   INTC  Technology\n",
       "2248  2023-12-28   49.724052   INTC  Technology\n",
       "2249  2023-12-29   49.585903   INTC  Technology\n",
       "\n",
       "[2250 rows x 4 columns]"
      ]
     },
     "execution_count": 5,
     "metadata": {},
     "output_type": "execute_result"
    }
   ],
   "source": [
    "gdata = GetData(tickers, start_date, end_date)\n",
    "gdata.main_data_frame()#on cree le dataframe avec TOUS les actifs TOUTE la periode\n",
    "#il manquerait le traitement des datas"
   ]
  },
  {
   "cell_type": "code",
   "execution_count": 6,
   "metadata": {},
   "outputs": [],
   "source": [
    "from base_update import BaseUpdate \n",
    "sub_start_date = \"02/01/2023\"#chaque semaine, les strat lancent la fct et definissent les sub périodes\n",
    "#de cette maniere, products ne contient que la data jusqu'à la date t (no forward looking sur nos strats)\n",
    "sub_end_date = \"31/12/2024\""
   ]
  },
  {
   "cell_type": "code",
   "execution_count": 7,
   "metadata": {},
   "outputs": [
    {
     "name": "stderr",
     "output_type": "stream",
     "text": [
      "[*********************100%***********************]  1 of 1 completed\n",
      "[*********************100%***********************]  1 of 1 completed\n",
      "[*********************100%***********************]  1 of 1 completed\n",
      "[*********************100%***********************]  1 of 1 completed\n",
      "[*********************100%***********************]  1 of 1 completed\n",
      "\n",
      "1 Failed download:\n",
      "['FB']: YFTzMissingError('possibly delisted; no timezone found')\n",
      "[*********************100%***********************]  1 of 1 completed\n",
      "[*********************100%***********************]  1 of 1 completed\n",
      "[*********************100%***********************]  1 of 1 completed\n",
      "[*********************100%***********************]  1 of 1 completed\n",
      "[*********************100%***********************]  1 of 1 completed\n"
     ]
    },
    {
     "name": "stdout",
     "output_type": "stream",
     "text": [
      "Successfully inserted 4509 new records into Products table for the period 02/01/2023 to 31/12/2024\n"
     ]
    }
   ],
   "source": [
    "B_udt = BaseUpdate(tickers, sub_start_date, sub_end_date)\n",
    "B_udt.update_products(db_file)#on met a jour products jusqu'à la data t"
   ]
  },
  {
   "cell_type": "code",
   "execution_count": 8,
   "metadata": {},
   "outputs": [
    {
     "name": "stdout",
     "output_type": "stream",
     "text": [
      "Portfolios mis à jour avecc succés\n"
     ]
    }
   ],
   "source": [
    "from base_update import update_portefeuille1\n",
    "update_portefeuille1(db_file,['AAPL', 'MSFT'],'HY_EQUITY',50)\n"
   ]
  },
  {
   "cell_type": "code",
   "execution_count": 10,
   "metadata": {},
   "outputs": [
    {
     "name": "stderr",
     "output_type": "stream",
     "text": [
      "[*********************100%***********************]  1 of 1 completed"
     ]
    },
    {
     "name": "stdout",
     "output_type": "stream",
     "text": [
      "Updating products for last week: 17/03/2025 to 23/03/2025\n"
     ]
    },
    {
     "name": "stderr",
     "output_type": "stream",
     "text": [
      "\n",
      "[*********************100%***********************]  1 of 1 completed\n",
      "[*********************100%***********************]  1 of 1 completed\n",
      "[*********************100%***********************]  1 of 1 completed\n",
      "[*********************100%***********************]  1 of 1 completed\n",
      "\n",
      "1 Failed download:\n",
      "['FB']: YFTzMissingError('possibly delisted; no timezone found')\n",
      "[*********************100%***********************]  1 of 1 completed\n",
      "[*********************100%***********************]  1 of 1 completed\n",
      "[*********************100%***********************]  1 of 1 completed\n",
      "[*********************100%***********************]  1 of 1 completed\n",
      "[*********************100%***********************]  1 of 1 completed\n"
     ]
    },
    {
     "name": "stdout",
     "output_type": "stream",
     "text": [
      "Successfully inserted 45 new records into Products table for the period 17/03/2025 to 23/03/2025\n",
      "Running strategies...\n",
      "Running HY_EQUITY strategy...\n",
      "✓ Ticker trouvé : AAPL avec Portfolio ID 1, Manager ID 1\n",
      "→ Rendements calculés pour AAPL : [np.float64(0.0673223668868221), np.float64(0.05771664801309688), np.float64(0.020346373981316702), np.float64(0.002788382503769751), np.float64(-0.0321093394752921), np.float64(0.010910188196516676), np.float64(-0.008060917265736543), np.float64(0.038825840574234986), np.float64(0.03694221889144009), np.float64(-0.00042284100768669863), np.float64(0.0007263666813942658), np.float64(0.02247038846386483), np.float64(0.04233516276132937), np.float64(-0.002963871890964578), np.float64(0.05301418077632594), np.float64(0.020770738169256866), np.float64(0.014840906082536626), np.float64(0.03270911576525414), np.float64(-0.005839031712697846), np.float64(-0.0019072808715652342), np.float64(-0.01712083373328502), np.float64(-0.012570204829082443), np.float64(0.02068195858411115), np.float64(0.07415798819290682), np.float64(-0.081655204734768), np.float64(-0.005405782675239256), np.float64(-0.020899701788240493), np.float64(0.040596560116705586), np.float64(-0.03270904908217994), np.float64(0.0030558686378830227), np.float64(0.05110981500544122), np.float64(0.031601725524685945), np.float64(-0.0003658869770313648), np.float64(0.027873261410718442), np.float64(-0.016569065948722404), np.float64(-0.048295486981971524), np.float64(0.02204370007491663), np.float64(0.05919504654315069), np.float64(-0.04284894356788345), np.float64(-0.012808441412387466), np.float64(-0.008851425901183152), np.float64(-0.06094059215322715), np.float64(0.022942413532185835), np.float64(-0.010253598311209658), np.float64(-0.005244246870665307), np.float64(0.018339419984732444), np.float64(-0.0021254813287919496), np.float64(0.07940424773132654), np.float64(0.03287764918037683), np.float64(-0.014969444012484664), np.float64(0.023002421502633933), np.float64(0.09378672264075817), np.float64(-0.016094849967915784), np.float64(0.06138330253729358), np.float64(0.03072598854869493), np.float64(-0.04976402433905577), np.float64(-0.03986968877409066), np.float64(0.07116077364666763), np.float64(0.009433948140403464), np.float64(-0.027863311310916728), np.float64(0.0005395446850756893), np.float64(0.05108169563500774), np.float64(-0.0030923193273166808), np.float64(0.019841245225179497), np.float64(-0.01321362929930791), np.float64(-0.03322199268152205), np.float64(0.011110785837558923), np.float64(0.015103077837869601), np.float64(0.05559662724117113), np.float64(0.02036960068673102), np.float64(0.028775292749360547), np.float64(-0.1654661366404596)]\n",
      "→ Insertion validée : Buy 3 x AAPL @ 131.9557647705078 le 2023-01-11 00:00:00\n",
      "→ Insertion validée : Buy 3 x AAPL @ 139.48817443847656 le 2023-01-23 00:00:00\n",
      "→ Insertion validée : Buy 1 x AAPL @ 143.75848388671875 le 2023-02-01 00:00:00\n",
      "⚠️ Trade ignoré pour AAPL à la date 2023-02-10 00:00:00 (quantité=0, spot=149.50230407714844)\n",
      "→ Insertion validée : Sell 1 x AAPL @ 147.42327880859375 le 2023-02-22 00:00:00\n",
      "⚠️ Trade ignoré pour AAPL à la date 2023-03-03 00:00:00 (quantité=0, spot=149.52210998535156)\n",
      "⚠️ Trade ignoré pour AAPL à la date 2023-03-14 00:00:00 (quantité=0, spot=151.0665283203125)\n",
      "→ Insertion validée : Buy 2 x AAPL @ 157.3432159423828 le 2023-03-23 00:00:00\n",
      "→ Insertion validée : Buy 2 x AAPL @ 164.51095581054688 le 2023-04-03 00:00:00\n",
      "⚠️ Trade ignoré pour AAPL à la date 2023-04-13 00:00:00 (quantité=0, spot=163.90704345703125)\n",
      "⚠️ Trade ignoré pour AAPL à la date 2023-04-24 00:00:00 (quantité=0, spot=163.67935180664062)\n",
      "→ Insertion validée : Buy 1 x AAPL @ 165.77813720703125 le 2023-05-03 00:00:00\n",
      "→ Insertion validée : Buy 2 x AAPL @ 171.0833740234375 le 2023-05-12 00:00:00\n",
      "⚠️ Trade ignoré pour AAPL à la date 2023-05-23 00:00:00 (quantité=0, spot=170.08206176757812)\n",
      "→ Insertion validée : Buy 3 x AAPL @ 179.3911590576172 le 2023-06-02 00:00:00\n",
      "→ Insertion validée : Buy 1 x AAPL @ 181.7308349609375 le 2023-06-13 00:00:00\n",
      "→ Insertion validée : Buy 1 x AAPL @ 185.07179260253906 le 2023-06-23 00:00:00\n",
      "→ Insertion validée : Buy 2 x AAPL @ 189.6817626953125 le 2023-07-05 00:00:00\n",
      "⚠️ Trade ignoré pour AAPL à la date 2023-07-14 00:00:00 (quantité=0, spot=189.04727172851562)\n",
      "⚠️ Trade ignoré pour AAPL à la date 2023-07-25 00:00:00 (quantité=0, spot=191.9520263671875)\n",
      "→ Insertion validée : Sell 1 x AAPL @ 189.52313232421875 le 2023-08-03 00:00:00\n",
      "⚠️ Trade ignoré pour AAPL à la date 2023-08-14 00:00:00 (quantité=0, spot=178.15428161621094)\n",
      "→ Insertion validée : Buy 1 x AAPL @ 179.80218505859375 le 2023-08-23 00:00:00\n",
      "→ Insertion validée : Buy 5 x AAPL @ 188.0814971923828 le 2023-09-01 00:00:00\n",
      "→ Insertion validée : Sell 6 x AAPL @ 172.94247436523438 le 2023-09-13 00:00:00\n",
      "⚠️ Trade ignoré pour AAPL à la date 2023-09-22 00:00:00 (quantité=0, spot=173.51821899414062)\n",
      "→ Insertion validée : Sell 1 x AAPL @ 171.14561462402344 le 2023-10-03 00:00:00\n",
      "→ Insertion validée : Buy 2 x AAPL @ 179.39515686035156 le 2023-10-12 00:00:00\n",
      "→ Insertion validée : Sell 2 x AAPL @ 171.7412567138672 le 2023-10-23 00:00:00\n",
      "⚠️ Trade ignoré pour AAPL à la date 2023-11-01 00:00:00 (quantité=0, spot=172.7042236328125)\n",
      "→ Insertion validée : Buy 3 x AAPL @ 185.2875518798828 le 2023-11-10 00:00:00\n",
      "→ Insertion validée : Buy 2 x AAPL @ 189.5022430419922 le 2023-11-21 00:00:00\n",
      "⚠️ Trade ignoré pour AAPL à la date 2023-12-01 00:00:00 (quantité=0, spot=190.09864807128906)\n",
      "→ Insertion validée : Buy 2 x AAPL @ 193.5479736328125 le 2023-12-12 00:00:00\n",
      "→ Insertion validée : Sell 1 x AAPL @ 193.51812744140625 le 2023-12-21 00:00:00\n",
      "→ Insertion validée : Sell 3 x AAPL @ 183.15037536621094 le 2024-01-03 00:00:00\n",
      "→ Insertion validée : Buy 1 x AAPL @ 184.81040954589844 le 2024-01-12 00:00:00\n",
      "→ Insertion validée : Buy 4 x AAPL @ 193.33921813964844 le 2024-01-24 00:00:00\n",
      "→ Insertion validée : Sell 3 x AAPL @ 184.7408447265625 le 2024-02-02 00:00:00\n",
      "⚠️ Trade ignoré pour AAPL à la date 2024-02-13 00:00:00 (quantité=0, spot=184.1703643798828)\n",
      "⚠️ Trade ignoré pour AAPL à la date 2024-02-23 00:00:00 (quantité=0, spot=181.6622314453125)\n",
      "→ Insertion validée : Sell 4 x AAPL @ 169.32049560546875 le 2024-03-05 00:00:00\n",
      "→ Insertion validée : Buy 1 x AAPL @ 172.1869659423828 le 2024-03-14 00:00:00\n",
      "⚠️ Trade ignoré pour AAPL à la date 2024-03-25 00:00:00 (quantité=0, spot=170.0470733642578)\n",
      "⚠️ Trade ignoré pour AAPL à la date 2024-04-04 00:00:00 (quantité=0, spot=168.026611328125)\n",
      "→ Insertion validée : Buy 1 x AAPL @ 171.87840270996094 le 2024-04-15 00:00:00\n",
      "⚠️ Trade ignoré pour AAPL à la date 2024-04-24 00:00:00 (quantité=0, spot=168.22567749023438)\n",
      "→ Insertion validée : Buy 5 x AAPL @ 182.51817321777344 le 2024-05-03 00:00:00\n",
      "→ Insertion validée : Buy 2 x AAPL @ 186.80215454101562 le 2024-05-14 00:00:00\n",
      "→ Insertion validée : Sell 1 x AAPL @ 186.2540283203125 le 2024-05-23 00:00:00\n",
      "→ Insertion validée : Buy 1 x AAPL @ 193.69898986816406 le 2024-06-04 00:00:00\n",
      "→ Insertion validée : Buy 7 x AAPL @ 213.52236938476562 le 2024-06-13 00:00:00\n",
      "→ Insertion validée : Sell 1 x AAPL @ 208.36968994140625 le 2024-06-25 00:00:00\n",
      "→ Insertion validée : Buy 5 x AAPL @ 225.5818328857422 le 2024-07-05 00:00:00\n",
      "→ Insertion validée : Buy 2 x AAPL @ 234.03343200683594 le 2024-07-16 00:00:00\n",
      "→ Insertion validée : Sell 4 x AAPL @ 216.76148986816406 le 2024-07-25 00:00:00\n",
      "→ Insertion validée : Sell 3 x AAPL @ 208.5690155029297 le 2024-08-05 00:00:00\n",
      "→ Insertion validée : Buy 6 x AAPL @ 221.23309326171875 le 2024-08-14 00:00:00\n",
      "⚠️ Trade ignoré pour AAPL à la date 2024-08-23 00:00:00 (quantité=0, spot=226.3418426513672)\n",
      "→ Insertion validée : Sell 2 x AAPL @ 220.36500549316406 le 2024-09-04 00:00:00\n",
      "⚠️ Trade ignoré pour AAPL à la date 2024-09-13 00:00:00 (quantité=0, spot=222.01136779785156)\n",
      "→ Insertion validée : Buy 4 x AAPL @ 226.8706817626953 le 2024-09-24 00:00:00\n",
      "⚠️ Trade ignoré pour AAPL à la date 2024-10-03 00:00:00 (quantité=0, spot=225.17440795898438)\n",
      "→ Insertion validée : Buy 1 x AAPL @ 230.79205322265625 le 2024-10-14 00:00:00\n",
      "→ Insertion validée : Sell 1 x AAPL @ 230.25323486328125 le 2024-10-23 00:00:00\n",
      "→ Insertion validée : Sell 3 x AAPL @ 222.4204864501953 le 2024-11-01 00:00:00\n",
      "→ Insertion validée : Buy 1 x AAPL @ 223.98373413085938 le 2024-11-12 00:00:00\n",
      "→ Insertion validée : Buy 1 x AAPL @ 228.26902770996094 le 2024-11-21 00:00:00\n",
      "→ Insertion validée : Buy 5 x AAPL @ 242.3834991455078 le 2024-12-03 00:00:00\n",
      "→ Insertion validée : Buy 1 x AAPL @ 247.68768310546875 le 2024-12-12 00:00:00\n",
      "→ Insertion validée : Buy 2 x AAPL @ 254.98965454101562 le 2024-12-23 00:00:00\n",
      "→ Insertion validée : Sell 17 x AAPL @ 215.24000549316406 le 2025-03-19 00:00:00\n",
      "✓ Ticker trouvé : MSFT avec Portfolio ID 2, Manager ID 1\n",
      "→ Rendements calculés pour MSFT : [np.float64(-0.015902957651356076), np.float64(0.017064293815473804), np.float64(0.044248830239869204), np.float64(-0.0056690961842283), np.float64(-0.0706915273288084), np.float64(0.0020410446814464384), np.float64(0.015260746946882033), np.float64(0.04603688070895654), np.float64(0.023737246383505644), np.float64(0.009262560929306943), np.float64(-0.015272422635118077), np.float64(0.1052211411251047), np.float64(0.011656585454590489), np.float64(0.020969518909284463), np.float64(0.0686633033560856), np.float64(-0.0049114907667362345), np.float64(-0.006877500759306456), np.float64(0.0290627275313632), np.float64(0.011632993785378644), np.float64(0.015185267438911843), np.float64(-0.032891988028486474), np.float64(-0.011410054404376133), np.float64(0.01812070177219239), np.float64(0.0271588546593561), np.float64(0.007525126559451498), np.float64(-0.06403899221561105), np.float64(-0.013069133982489845), np.float64(0.03824929295048747), np.float64(0.004851613092827756), np.float64(0.0470155001727347), np.float64(0.06129422523816053), np.float64(0.019491650849193323), np.float64(-0.008839535396054659), np.float64(0.01419517025875271), np.float64(-0.002217012992826822), np.float64(-0.010625184126597182), np.float64(0.055797091923527165), np.float64(0.031491046961074104), np.float64(0.015683964292078852), np.float64(0.001651746344498285), np.float64(0.0020757705045792436), np.float64(-0.011998938511617933), np.float64(0.05752434104505281), np.float64(0.015465154240594518), np.float64(-0.008940966777859296), np.float64(-0.02791875843207078), np.float64(-0.013314689252587908), np.float64(0.0190958066209739), np.float64(0.007302757906685999), np.float64(0.00926544161066093), np.float64(-0.0327552270186292), np.float64(0.04143769176357809), np.float64(0.01893480010769711), np.float64(0.034058737434354516), np.float64(-0.035861390722337974), np.float64(-0.05663774434546832), np.float64(-0.07082553839311356), np.float64(0.04316708511776109), np.float64(-0.010070519324443182), np.float64(-0.01110068346953694), np.float64(0.054359678605495856), np.float64(-0.005030798385473294), np.float64(-0.03603244656723547), np.float64(0.007402758614188741), np.float64(0.0139944077686839), np.float64(-0.03380973318698553), np.float64(0.035670603795723774), np.float64(-0.027054622168468555), np.float64(0.03405279729017831), np.float64(0.027753613219043592), np.float64(-0.026874068406147776), np.float64(-0.11547663883675803)]\n",
      "⚠️ Trade ignoré pour MSFT à la date 2023-01-11 00:00:00 (quantité=0, spot=231.49903869628906)\n",
      "⚠️ Trade ignoré pour MSFT à la date 2023-01-23 00:00:00 (quantité=0, spot=238.18568420410156)\n",
      "→ Insertion validée : Buy 2 x MSFT @ 248.1714324951172 le 2023-02-01 00:00:00\n",
      "⚠️ Trade ignoré pour MSFT à la date 2023-02-10 00:00:00 (quantité=0, spot=258.3339538574219)\n",
      "→ Insertion validée : Sell 3 x MSFT @ 247.57247924804688 le 2023-02-22 00:00:00\n",
      "⚠️ Trade ignoré pour MSFT à la date 2023-03-03 00:00:00 (quantité=0, spot=251.29327392578125)\n",
      "⚠️ Trade ignoré pour MSFT à la date 2023-03-14 00:00:00 (quantité=0, spot=256.70721435546875)\n",
      "→ Insertion validée : Buy 2 x MSFT @ 273.3130798339844 le 2023-03-23 00:00:00\n",
      "→ Insertion validée : Buy 1 x MSFT @ 282.7332458496094 le 2023-04-03 00:00:00\n",
      "⚠️ Trade ignoré pour MSFT à la date 2023-04-13 00:00:00 (quantité=0, spot=285.3023681640625)\n",
      "⚠️ Trade ignoré pour MSFT à la date 2023-04-24 00:00:00 (quantité=0, spot=277.35870361328125)\n",
      "→ Insertion validée : Buy 5 x MSFT @ 299.6344299316406 le 2023-05-03 00:00:00\n",
      "⚠️ Trade ignoré pour MSFT à la date 2023-05-12 00:00:00 (quantité=0, spot=304.1329040527344)\n",
      "→ Insertion validée : Buy 1 x MSFT @ 311.0028381347656 le 2023-05-23 00:00:00\n",
      "→ Insertion validée : Buy 4 x MSFT @ 330.8708190917969 le 2023-06-02 00:00:00\n",
      "⚠️ Trade ignoré pour MSFT à la date 2023-06-13 00:00:00 (quantité=0, spot=329.77587890625)\n",
      "⚠️ Trade ignoré pour MSFT à la date 2023-06-23 00:00:00 (quantité=0, spot=330.4959411621094)\n",
      "→ Insertion validée : Buy 1 x MSFT @ 333.5837097167969 le 2023-07-05 00:00:00\n",
      "⚠️ Trade ignoré pour MSFT à la date 2023-07-14 00:00:00 (quantité=0, spot=340.57794189453125)\n",
      "⚠️ Trade ignoré pour MSFT à la date 2023-07-25 00:00:00 (quantité=0, spot=346.2404479980469)\n",
      "→ Insertion validée : Sell 2 x MSFT @ 322.2489013671875 le 2023-08-03 00:00:00\n",
      "⚠️ Trade ignoré pour MSFT à la date 2023-08-14 00:00:00 (quantité=0, spot=319.66424560546875)\n",
      "→ Insertion validée : Buy 1 x MSFT @ 323.2672424316406 le 2023-08-23 00:00:00\n",
      "→ Insertion validée : Buy 1 x MSFT @ 324.9082946777344 le 2023-09-01 00:00:00\n",
      "⚠️ Trade ignoré pour MSFT à la date 2023-09-13 00:00:00 (quantité=0, spot=332.22381591796875)\n",
      "→ Insertion validée : Sell 4 x MSFT @ 313.39129638671875 le 2023-09-22 00:00:00\n",
      "⚠️ Trade ignoré pour MSFT à la date 2023-10-03 00:00:00 (quantité=0, spot=309.8126220703125)\n",
      "→ Insertion validée : Buy 2 x MSFT @ 327.3797607421875 le 2023-10-12 00:00:00\n",
      "⚠️ Trade ignoré pour MSFT à la date 2023-10-23 00:00:00 (quantité=0, spot=325.560791015625)\n",
      "→ Insertion validée : Buy 3 x MSFT @ 342.11956787109375 le 2023-11-01 00:00:00\n",
      "→ Insertion validée : Buy 4 x MSFT @ 365.4501953125 le 2023-11-10 00:00:00\n",
      "→ Insertion validée : Buy 1 x MSFT @ 369.5599365234375 le 2023-11-21 00:00:00\n",
      "⚠️ Trade ignoré pour MSFT à la date 2023-12-01 00:00:00 (quantité=0, spot=370.98638916015625)\n",
      "→ Insertion validée : Buy 1 x MSFT @ 370.8576354980469 le 2023-12-12 00:00:00\n",
      "⚠️ Trade ignoré pour MSFT à la date 2023-12-21 00:00:00 (quantité=0, spot=370.0254821777344)\n",
      "⚠️ Trade ignoré pour MSFT à la date 2024-01-03 00:00:00 (quantité=0, spot=367.1131896972656)\n",
      "→ Insertion validée : Buy 4 x MSFT @ 384.81500244140625 le 2024-01-12 00:00:00\n",
      "→ Insertion validée : Buy 2 x MSFT @ 398.7724304199219 le 2024-01-24 00:00:00\n",
      "→ Insertion validée : Buy 1 x MSFT @ 407.3509521484375 le 2024-02-02 00:00:00\n",
      "⚠️ Trade ignoré pour MSFT à la date 2024-02-13 00:00:00 (quantité=0, spot=402.4971008300781)\n",
      "⚠️ Trade ignoré pour MSFT à la date 2024-02-23 00:00:00 (quantité=0, spot=407.2309265136719)\n",
      "⚠️ Trade ignoré pour MSFT à la date 2024-03-05 00:00:00 (quantité=0, spot=399.59918212890625)\n",
      "→ Insertion validée : Buy 4 x MSFT @ 421.9981689453125 le 2024-03-14 00:00:00\n",
      "→ Insertion validée : Buy 1 x MSFT @ 419.65606689453125 le 2024-03-25 00:00:00\n",
      "⚠️ Trade ignoré pour MSFT à la date 2024-04-04 00:00:00 (quantité=0, spot=414.71380615234375)\n",
      "→ Insertion validée : Sell 2 x MSFT @ 410.5059509277344 le 2024-04-15 00:00:00\n",
      "→ Insertion validée : Sell 1 x MSFT @ 405.96063232421875 le 2024-04-24 00:00:00\n",
      "→ Insertion validée : Buy 1 x MSFT @ 403.5788269042969 le 2024-05-03 00:00:00\n",
      "⚠️ Trade ignoré pour MSFT à la date 2024-05-14 00:00:00 (quantité=0, spot=413.40380859375)\n",
      "⚠️ Trade ignoré pour MSFT à la date 2024-05-23 00:00:00 (quantité=0, spot=424.5290832519531)\n",
      "→ Insertion validée : Sell 2 x MSFT @ 413.6623229980469 le 2024-06-04 00:00:00\n",
      "→ Insertion validée : Buy 3 x MSFT @ 439.0246887207031 le 2024-06-13 00:00:00\n",
      "→ Insertion validée : Buy 1 x MSFT @ 448.3404541015625 le 2024-06-25 00:00:00\n",
      "→ Insertion validée : Buy 2 x MSFT @ 464.8543395996094 le 2024-07-05 00:00:00\n",
      "→ Insertion validée : Sell 3 x MSFT @ 446.9187316894531 le 2024-07-16 00:00:00\n",
      "→ Insertion validée : Sell 4 x MSFT @ 415.9788513183594 le 2024-07-25 00:00:00\n",
      "→ Insertion validée : Sell 5 x MSFT @ 392.8633728027344 le 2024-08-05 00:00:00\n",
      "→ Insertion validée : Buy 3 x MSFT @ 414.4477233886719 le 2024-08-14 00:00:00\n",
      "⚠️ Trade ignoré pour MSFT à la date 2024-08-23 00:00:00 (quantité=0, spot=415.1250305175781)\n",
      "⚠️ Trade ignoré pour MSFT à la date 2024-09-04 00:00:00 (quantité=0, spot=407.26654052734375)\n",
      "→ Insertion validée : Buy 4 x MSFT @ 428.869873046875 le 2024-09-13 00:00:00\n",
      "⚠️ Trade ignoré pour MSFT à la date 2024-09-24 00:00:00 (quantité=0, spot=427.45556640625)\n",
      "→ Insertion validée : Sell 2 x MSFT @ 414.87603759765625 le 2024-10-03 00:00:00\n",
      "⚠️ Trade ignoré pour MSFT à la date 2024-10-14 00:00:00 (quantité=0, spot=417.46563720703125)\n",
      "→ Insertion validée : Buy 1 x MSFT @ 422.9038391113281 le 2024-10-23 00:00:00\n",
      "→ Insertion validée : Sell 2 x MSFT @ 408.73065185546875 le 2024-11-01 00:00:00\n",
      "→ Insertion validée : Buy 2 x MSFT @ 421.340087890625 le 2024-11-12 00:00:00\n",
      "→ Insertion validée : Sell 2 x MSFT @ 412.0437927246094 le 2024-11-21 00:00:00\n",
      "→ Insertion validée : Buy 2 x MSFT @ 430.3371276855469 le 2024-12-03 00:00:00\n",
      "→ Insertion validée : Buy 2 x MSFT @ 448.6603698730469 le 2024-12-12 00:00:00\n",
      "→ Insertion validée : Sell 2 x MSFT @ 434.3790283203125 le 2024-12-23 00:00:00\n",
      "→ Insertion validée : Sell 9 x MSFT @ 387.82000732421875 le 2025-03-19 00:00:00\n",
      "Empty DataFrame\n",
      "Columns: []\n",
      "Index: []\n"
     ]
    }
   ],
   "source": [
    "from strategies import RunAllStrat\n",
    "start=\"02/01/2023\"\n",
    "end=\"31/01/2026\"\n",
    "b=RunAllStrat(db_file,start,end,tickers)\n",
    "b.check_and_run_strategy()"
   ]
  }
 ],
 "metadata": {
  "kernelspec": {
   "display_name": "Python 3 (ipykernel)",
   "language": "python",
   "name": "python3"
  },
  "language_info": {
   "codemirror_mode": {
    "name": "ipython",
    "version": 3
   },
   "file_extension": ".py",
   "mimetype": "text/x-python",
   "name": "python",
   "nbconvert_exporter": "python",
   "pygments_lexer": "ipython3",
   "version": "3.12.1"
  }
 },
 "nbformat": 4,
 "nbformat_minor": 2
}
