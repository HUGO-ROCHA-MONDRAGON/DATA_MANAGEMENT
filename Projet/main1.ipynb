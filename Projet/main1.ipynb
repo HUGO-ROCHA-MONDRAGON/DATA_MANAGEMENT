{
 "cells": [
  {
   "cell_type": "code",
   "execution_count": 1,
   "metadata": {},
   "outputs": [
    {
     "name": "stdout",
     "output_type": "stream",
     "text": [
      "Requirement already satisfied: pandas in /home/codespace/.local/lib/python3.12/site-packages (from -r requirement.txt (line 1)) (2.2.3)\n",
      "Requirement already satisfied: yfinance in /usr/local/python/3.12.1/lib/python3.12/site-packages (from -r requirement.txt (line 2)) (0.2.55)\n",
      "Requirement already satisfied: faker in /usr/local/python/3.12.1/lib/python3.12/site-packages (from -r requirement.txt (line 3)) (37.1.0)\n",
      "Requirement already satisfied: scipy in /home/codespace/.local/lib/python3.12/site-packages (from -r requirement.txt (line 4)) (1.15.2)\n",
      "Requirement already satisfied: schedule in /usr/local/python/3.12.1/lib/python3.12/site-packages (from -r requirement.txt (line 5)) (1.2.2)\n",
      "Requirement already satisfied: numpy>=1.26.0 in /home/codespace/.local/lib/python3.12/site-packages (from pandas->-r requirement.txt (line 1)) (2.2.4)\n",
      "Requirement already satisfied: python-dateutil>=2.8.2 in /home/codespace/.local/lib/python3.12/site-packages (from pandas->-r requirement.txt (line 1)) (2.9.0.post0)\n",
      "Requirement already satisfied: pytz>=2020.1 in /home/codespace/.local/lib/python3.12/site-packages (from pandas->-r requirement.txt (line 1)) (2025.1)\n",
      "Requirement already satisfied: tzdata>=2022.7 in /home/codespace/.local/lib/python3.12/site-packages (from pandas->-r requirement.txt (line 1)) (2025.1)\n",
      "Requirement already satisfied: requests>=2.31 in /home/codespace/.local/lib/python3.12/site-packages (from yfinance->-r requirement.txt (line 2)) (2.32.3)\n",
      "Requirement already satisfied: multitasking>=0.0.7 in /usr/local/python/3.12.1/lib/python3.12/site-packages (from yfinance->-r requirement.txt (line 2)) (0.0.11)\n",
      "Requirement already satisfied: platformdirs>=2.0.0 in /home/codespace/.local/lib/python3.12/site-packages (from yfinance->-r requirement.txt (line 2)) (4.3.6)\n",
      "Requirement already satisfied: frozendict>=2.3.4 in /usr/local/python/3.12.1/lib/python3.12/site-packages (from yfinance->-r requirement.txt (line 2)) (2.4.6)\n",
      "Requirement already satisfied: peewee>=3.16.2 in /usr/local/python/3.12.1/lib/python3.12/site-packages (from yfinance->-r requirement.txt (line 2)) (3.17.9)\n",
      "Requirement already satisfied: beautifulsoup4>=4.11.1 in /home/codespace/.local/lib/python3.12/site-packages (from yfinance->-r requirement.txt (line 2)) (4.13.3)\n",
      "Requirement already satisfied: soupsieve>1.2 in /home/codespace/.local/lib/python3.12/site-packages (from beautifulsoup4>=4.11.1->yfinance->-r requirement.txt (line 2)) (2.6)\n",
      "Requirement already satisfied: typing-extensions>=4.0.0 in /home/codespace/.local/lib/python3.12/site-packages (from beautifulsoup4>=4.11.1->yfinance->-r requirement.txt (line 2)) (4.12.2)\n",
      "Requirement already satisfied: six>=1.5 in /home/codespace/.local/lib/python3.12/site-packages (from python-dateutil>=2.8.2->pandas->-r requirement.txt (line 1)) (1.17.0)\n",
      "Requirement already satisfied: charset-normalizer<4,>=2 in /home/codespace/.local/lib/python3.12/site-packages (from requests>=2.31->yfinance->-r requirement.txt (line 2)) (3.4.1)\n",
      "Requirement already satisfied: idna<4,>=2.5 in /home/codespace/.local/lib/python3.12/site-packages (from requests>=2.31->yfinance->-r requirement.txt (line 2)) (3.10)\n",
      "Requirement already satisfied: urllib3<3,>=1.21.1 in /home/codespace/.local/lib/python3.12/site-packages (from requests>=2.31->yfinance->-r requirement.txt (line 2)) (2.3.0)\n",
      "Requirement already satisfied: certifi>=2017.4.17 in /home/codespace/.local/lib/python3.12/site-packages (from requests>=2.31->yfinance->-r requirement.txt (line 2)) (2025.1.31)\n",
      "Note: you may need to restart the kernel to use updated packages.\n"
     ]
    }
   ],
   "source": [
    "pip install -r \"requirement.txt\""
   ]
  },
  {
   "cell_type": "code",
   "execution_count": 2,
   "metadata": {},
   "outputs": [],
   "source": [
    "import sqlite3\n",
    "import pandas as pd\n",
    "db_file = \"Fund.db\"\n",
    "tickers = ['AAPL', 'MSFT', 'GOOGL', 'AMZN', 'META', 'TSLA', 'NVDA', 'PYPL', 'ADBE', 'INTC']#tickers contenus dans MAIN_DATA_FRAME\n",
    "\n",
    "start_date = \"01/09/2022\"#toute la periode start date (pour tout telecharger dun coup) + 3 mois avant\n",
    "end_date = \"31/12/2024\"#pareil"
   ]
  },
  {
   "cell_type": "markdown",
   "metadata": {},
   "source": [
    "## 1. Creation et peuplement de la base"
   ]
  },
  {
   "cell_type": "code",
   "execution_count": 3,
   "metadata": {},
   "outputs": [],
   "source": [
    "from base_builder import DatabaseBuilder"
   ]
  },
  {
   "cell_type": "code",
   "execution_count": 4,
   "metadata": {},
   "outputs": [
    {
     "name": "stdout",
     "output_type": "stream",
     "text": [
      "Tables created successfully.\n",
      "12 clients insérés avec succès dans la table 'Clients'.\n",
      "3 managers insérés avec succès dans la table 'Managers'.\n"
     ]
    }
   ],
   "source": [
    "db_manager = DatabaseBuilder(db_file)\n",
    "db_manager.create_tables()\n",
    "db_manager.insert_clients_data(12)\n",
    "db_manager.insert_managers_data(3)"
   ]
  },
  {
   "cell_type": "code",
   "execution_count": 5,
   "metadata": {},
   "outputs": [
    {
     "name": "stdout",
     "output_type": "stream",
     "text": [
      "\n",
      "Résumé des investissements par risk type:\n",
      "--------------------------------------------------\n",
      "Risk Type: HY_EQUITY\n",
      "Nombre de clients: 1\n",
      "Montant total investi: 5,649,334.98 €\n",
      "--------------------------------------------------\n",
      "Risk Type: LOW_RISK\n",
      "Nombre de clients: 7\n",
      "Montant total investi: 33,825,802.20 €\n",
      "--------------------------------------------------\n",
      "Risk Type: LOW_TURNOVER\n",
      "Nombre de clients: 4\n",
      "Montant total investi: 25,881,128.15 €\n",
      "--------------------------------------------------\n",
      "Montants initiaux en cash insérés avec succès dans la table Portfolios.\n"
     ]
    }
   ],
   "source": [
    "db_manager.get_investment_amount_by_risk_type()\n",
    "db_manager.insert_initial_cash_portfolios(start_date)"
   ]
  },
  {
   "cell_type": "markdown",
   "metadata": {},
   "source": [
    "## 2. Collecte et traitement des datas"
   ]
  },
  {
   "cell_type": "code",
   "execution_count": 6,
   "metadata": {},
   "outputs": [],
   "source": [
    "from data_collector import GetData"
   ]
  },
  {
   "cell_type": "code",
   "execution_count": 7,
   "metadata": {},
   "outputs": [
    {
     "name": "stderr",
     "output_type": "stream",
     "text": [
      "[*********************100%***********************]  1 of 1 completed\n",
      "[*********************100%***********************]  1 of 1 completed\n",
      "[*********************100%***********************]  1 of 1 completed\n",
      "[*********************100%***********************]  1 of 1 completed\n",
      "[*********************100%***********************]  1 of 1 completed\n",
      "[*********************100%***********************]  1 of 1 completed\n",
      "[*********************100%***********************]  1 of 1 completed\n",
      "[*********************100%***********************]  1 of 1 completed\n",
      "[*********************100%***********************]  1 of 1 completed\n",
      "[*********************100%***********************]  1 of 1 completed\n"
     ]
    },
    {
     "data": {
      "text/html": [
       "<div>\n",
       "<style scoped>\n",
       "    .dataframe tbody tr th:only-of-type {\n",
       "        vertical-align: middle;\n",
       "    }\n",
       "\n",
       "    .dataframe tbody tr th {\n",
       "        vertical-align: top;\n",
       "    }\n",
       "\n",
       "    .dataframe thead th {\n",
       "        text-align: right;\n",
       "    }\n",
       "</style>\n",
       "<table border=\"1\" class=\"dataframe\">\n",
       "  <thead>\n",
       "    <tr style=\"text-align: right;\">\n",
       "      <th></th>\n",
       "      <th>IMPORT_DATE</th>\n",
       "      <th>PRICE</th>\n",
       "      <th>TICKER</th>\n",
       "      <th>SECTOR</th>\n",
       "    </tr>\n",
       "  </thead>\n",
       "  <tbody>\n",
       "    <tr>\n",
       "      <th>0</th>\n",
       "      <td>2022-09-01</td>\n",
       "      <td>155.885895</td>\n",
       "      <td>AAPL</td>\n",
       "      <td>Technology</td>\n",
       "    </tr>\n",
       "    <tr>\n",
       "      <th>1</th>\n",
       "      <td>2022-09-02</td>\n",
       "      <td>153.764160</td>\n",
       "      <td>AAPL</td>\n",
       "      <td>Technology</td>\n",
       "    </tr>\n",
       "    <tr>\n",
       "      <th>2</th>\n",
       "      <td>2022-09-06</td>\n",
       "      <td>152.500946</td>\n",
       "      <td>AAPL</td>\n",
       "      <td>Technology</td>\n",
       "    </tr>\n",
       "    <tr>\n",
       "      <th>3</th>\n",
       "      <td>2022-09-07</td>\n",
       "      <td>153.912201</td>\n",
       "      <td>AAPL</td>\n",
       "      <td>Technology</td>\n",
       "    </tr>\n",
       "    <tr>\n",
       "      <th>4</th>\n",
       "      <td>2022-09-08</td>\n",
       "      <td>152.431900</td>\n",
       "      <td>AAPL</td>\n",
       "      <td>Technology</td>\n",
       "    </tr>\n",
       "    <tr>\n",
       "      <th>...</th>\n",
       "      <td>...</td>\n",
       "      <td>...</td>\n",
       "      <td>...</td>\n",
       "      <td>...</td>\n",
       "    </tr>\n",
       "    <tr>\n",
       "      <th>5845</th>\n",
       "      <td>2024-12-23</td>\n",
       "      <td>20.200001</td>\n",
       "      <td>INTC</td>\n",
       "      <td>Technology</td>\n",
       "    </tr>\n",
       "    <tr>\n",
       "      <th>5846</th>\n",
       "      <td>2024-12-24</td>\n",
       "      <td>20.400000</td>\n",
       "      <td>INTC</td>\n",
       "      <td>Technology</td>\n",
       "    </tr>\n",
       "    <tr>\n",
       "      <th>5847</th>\n",
       "      <td>2024-12-26</td>\n",
       "      <td>20.440001</td>\n",
       "      <td>INTC</td>\n",
       "      <td>Technology</td>\n",
       "    </tr>\n",
       "    <tr>\n",
       "      <th>5848</th>\n",
       "      <td>2024-12-27</td>\n",
       "      <td>20.299999</td>\n",
       "      <td>INTC</td>\n",
       "      <td>Technology</td>\n",
       "    </tr>\n",
       "    <tr>\n",
       "      <th>5849</th>\n",
       "      <td>2024-12-30</td>\n",
       "      <td>19.820000</td>\n",
       "      <td>INTC</td>\n",
       "      <td>Technology</td>\n",
       "    </tr>\n",
       "  </tbody>\n",
       "</table>\n",
       "<p>5850 rows × 4 columns</p>\n",
       "</div>"
      ],
      "text/plain": [
       "     IMPORT_DATE       PRICE TICKER      SECTOR\n",
       "0     2022-09-01  155.885895   AAPL  Technology\n",
       "1     2022-09-02  153.764160   AAPL  Technology\n",
       "2     2022-09-06  152.500946   AAPL  Technology\n",
       "3     2022-09-07  153.912201   AAPL  Technology\n",
       "4     2022-09-08  152.431900   AAPL  Technology\n",
       "...          ...         ...    ...         ...\n",
       "5845  2024-12-23   20.200001   INTC  Technology\n",
       "5846  2024-12-24   20.400000   INTC  Technology\n",
       "5847  2024-12-26   20.440001   INTC  Technology\n",
       "5848  2024-12-27   20.299999   INTC  Technology\n",
       "5849  2024-12-30   19.820000   INTC  Technology\n",
       "\n",
       "[5850 rows x 4 columns]"
      ]
     },
     "execution_count": 7,
     "metadata": {},
     "output_type": "execute_result"
    }
   ],
   "source": [
    "gdata = GetData(tickers, start_date, end_date)\n",
    "gdata.main_data_frame()#on cree le dataframe avec TOUS les actifs TOUTE la periode\n",
    "#il manquerait le traitement des datas"
   ]
  },
  {
   "cell_type": "markdown",
   "metadata": {},
   "source": [
    "# 3. Periode avant t = 0 (Periode de \"test\")"
   ]
  },
  {
   "cell_type": "markdown",
   "metadata": {},
   "source": [
    "On peuple Products avec des trois mois de donnees avant la periode d'evaluation du fonds (qui commence le 01/01/2023)"
   ]
  },
  {
   "cell_type": "code",
   "execution_count": 8,
   "metadata": {},
   "outputs": [],
   "source": [
    "from base_update import BaseUpdate \n",
    "sub_start_date = \"01/09/2022\"#chaque semaine, les strat lancent la fct et definissent les sub périodes\n",
    "#de cette maniere, products ne contient que la data jusqu'à la date t (no forward looking sur nos strats)\n",
    "sub_end_date = \"29/12/2022\""
   ]
  },
  {
   "cell_type": "code",
   "execution_count": 9,
   "metadata": {},
   "outputs": [
    {
     "name": "stderr",
     "output_type": "stream",
     "text": [
      "[*********************100%***********************]  1 of 1 completed\n",
      "[*********************100%***********************]  1 of 1 completed\n",
      "[*********************100%***********************]  1 of 1 completed\n",
      "[*********************100%***********************]  1 of 1 completed\n",
      "[*********************100%***********************]  1 of 1 completed\n",
      "[*********************100%***********************]  1 of 1 completed\n",
      "[*********************100%***********************]  1 of 1 completed\n",
      "[*********************100%***********************]  1 of 1 completed\n",
      "[*********************100%***********************]  1 of 1 completed\n",
      "[*********************100%***********************]  1 of 1 completed"
     ]
    },
    {
     "name": "stdout",
     "output_type": "stream",
     "text": [
      "Successfully inserted 820 new records into Products table for the period 01/09/2022 to 29/12/2022\n"
     ]
    },
    {
     "name": "stderr",
     "output_type": "stream",
     "text": [
      "\n"
     ]
    }
   ],
   "source": [
    "B_udt = BaseUpdate(tickers, sub_start_date, sub_end_date, db_file)\n",
    "B_udt.update_products()"
   ]
  },
  {
   "cell_type": "markdown",
   "metadata": {},
   "source": [
    "### Initialisation des portefeuilles en fonction du cash initial"
   ]
  },
  {
   "cell_type": "markdown",
   "metadata": {},
   "source": [
    "Pour la strategie HY equity, on prend les 5 tickers les plus performants de la periode (allant du 01/09/2022 au 30/12/2022)"
   ]
  },
  {
   "cell_type": "code",
   "execution_count": 10,
   "metadata": {},
   "outputs": [
    {
     "name": "stdout",
     "output_type": "stream",
     "text": [
      "Cash disponible : 5,649,334.98\n",
      "\n",
      "Tickers sélectionnés pour l'initialisation :\n",
      "AAPL: 151.33 (Rendement: -2.92%)\n",
      "NVDA: 13.48 (Rendement: -3.13%)\n",
      "PYPL: 83.58 (Rendement: -9.80%)\n",
      "INTC: 27.05 (Rendement: -10.48%)\n",
      "MSFT: 227.28 (Rendement: -10.86%)\n",
      "→ Achat de 7466 unités de AAPL @ 151.33\n",
      "→ Achat de 83802 unités de NVDA @ 13.48\n",
      "→ Achat de 13518 unités de PYPL @ 83.58\n",
      "→ Achat de 41770 unités de INTC @ 27.05\n",
      "→ Achat de 4971 unités de MSFT @ 227.28\n",
      "\n",
      "Cash restant : 164.63\n"
     ]
    }
   ],
   "source": [
    "B_udt.initialisation_portefeuille_HY()"
   ]
  },
  {
   "cell_type": "markdown",
   "metadata": {},
   "source": [
    "# 4. Execution des strategies"
   ]
  },
  {
   "cell_type": "code",
   "execution_count": 11,
   "metadata": {},
   "outputs": [
    {
     "name": "stderr",
     "output_type": "stream",
     "text": [
      "[*********************100%***********************]  1 of 1 completed"
     ]
    },
    {
     "name": "stdout",
     "output_type": "stream",
     "text": [
      "\n",
      "Début de la simulation historique du 01/01/2023 au 31/12/2023\n",
      "\n",
      "=== Simulation pour le lundi 02/01/2023 ===\n",
      "Exécution de la stratégie pour la date historique : 02/01/2023\n",
      "Updating products for historical week: 26/12/2022 to 01/01/2023\n"
     ]
    },
    {
     "name": "stderr",
     "output_type": "stream",
     "text": [
      "\n",
      "[*********************100%***********************]  1 of 1 completed\n",
      "[*********************100%***********************]  1 of 1 completed\n",
      "[*********************100%***********************]  1 of 1 completed\n",
      "[*********************100%***********************]  1 of 1 completed\n",
      "[*********************100%***********************]  1 of 1 completed\n",
      "[*********************100%***********************]  1 of 1 completed\n",
      "[*********************100%***********************]  1 of 1 completed\n",
      "[*********************100%***********************]  1 of 1 completed\n",
      "[*********************100%***********************]  1 of 1 completed\n",
      "[*********************100%***********************]  1 of 1 completed"
     ]
    },
    {
     "name": "stdout",
     "output_type": "stream",
     "text": [
      "Successfully inserted 40 new records into Products table for the period 26/12/2022 to 01/01/2023\n",
      "Running strategies...\n",
      "Running HY_EQUITY strategy...\n",
      "→ Transaction effectuée : Sell 2959 x PYPL @ 71.22\n",
      "→ Transaction effectuée : Sell 1144 x AAPL @ 128.44\n",
      "→ Transaction effectuée : Buy 8573 x NVDA @ 14.60\n",
      "→ Transaction effectuée : Sell 2469 x INTC @ 25.49\n",
      "→ Transaction effectuée : Buy 32 x MSFT @ 235.48\n",
      "Cash restant : 288,042.25\n",
      "\n",
      "=== Simulation pour le lundi 09/01/2023 ===\n",
      "Exécution de la stratégie pour la date historique : 09/01/2023\n",
      "Updating products for historical week: 02/01/2023 to 08/01/2023\n"
     ]
    },
    {
     "name": "stderr",
     "output_type": "stream",
     "text": [
      "\n",
      "[*********************100%***********************]  1 of 1 completed\n",
      "[*********************100%***********************]  1 of 1 completed\n",
      "[*********************100%***********************]  1 of 1 completed\n",
      "[*********************100%***********************]  1 of 1 completed\n",
      "[*********************100%***********************]  1 of 1 completed\n",
      "[*********************100%***********************]  1 of 1 completed\n",
      "[*********************100%***********************]  1 of 1 completed\n",
      "[*********************100%***********************]  1 of 1 completed\n",
      "[*********************100%***********************]  1 of 1 completed\n",
      "[*********************100%***********************]  1 of 1 completed"
     ]
    },
    {
     "name": "stdout",
     "output_type": "stream",
     "text": [
      "Successfully inserted 40 new records into Products table for the period 02/01/2023 to 08/01/2023\n",
      "Running strategies...\n",
      "Running HY_EQUITY strategy...\n",
      "→ Transaction effectuée : Sell 2311 x PYPL @ 71.22\n",
      "→ Transaction effectuée : Sell 969 x AAPL @ 128.44\n",
      "→ Transaction effectuée : Buy 9450 x NVDA @ 14.60\n",
      "→ Transaction effectuée : Sell 2323 x INTC @ 25.49\n",
      "→ Transaction effectuée : Buy 32 x MSFT @ 235.48\n",
      "Cash restant : 490,765.98\n",
      "\n",
      "=== Simulation pour le lundi 16/01/2023 ===\n",
      "Exécution de la stratégie pour la date historique : 16/01/2023\n",
      "Updating products for historical week: 09/01/2023 to 15/01/2023\n"
     ]
    },
    {
     "name": "stderr",
     "output_type": "stream",
     "text": [
      "\n",
      "[*********************100%***********************]  1 of 1 completed\n",
      "[*********************100%***********************]  1 of 1 completed\n",
      "[*********************100%***********************]  1 of 1 completed\n",
      "[*********************100%***********************]  1 of 1 completed\n",
      "[*********************100%***********************]  1 of 1 completed\n",
      "[*********************100%***********************]  1 of 1 completed\n",
      "[*********************100%***********************]  1 of 1 completed\n",
      "[*********************100%***********************]  1 of 1 completed\n",
      "[*********************100%***********************]  1 of 1 completed\n",
      "[*********************100%***********************]  1 of 1 completed"
     ]
    },
    {
     "name": "stdout",
     "output_type": "stream",
     "text": [
      "Successfully inserted 50 new records into Products table for the period 09/01/2023 to 15/01/2023\n",
      "Running strategies...\n",
      "Running HY_EQUITY strategy...\n",
      "→ Transaction effectuée : Sell 1805 x PYPL @ 71.22\n",
      "→ Transaction effectuée : Sell 820 x AAPL @ 128.44\n",
      "→ Transaction effectuée : Buy 10417 x NVDA @ 14.60\n",
      "→ Transaction effectuée : Sell 2185 x INTC @ 25.49\n",
      "→ Transaction effectuée : Buy 32 x MSFT @ 235.48\n",
      "Cash restant : 620,678.11\n",
      "\n",
      "=== Simulation pour le lundi 23/01/2023 ===\n",
      "Exécution de la stratégie pour la date historique : 23/01/2023\n",
      "Updating products for historical week: 16/01/2023 to 22/01/2023\n"
     ]
    },
    {
     "name": "stderr",
     "output_type": "stream",
     "text": [
      "\n",
      "[*********************100%***********************]  1 of 1 completed\n",
      "[*********************100%***********************]  1 of 1 completed\n",
      "[*********************100%***********************]  1 of 1 completed\n",
      "[*********************100%***********************]  1 of 1 completed\n",
      "[*********************100%***********************]  1 of 1 completed\n",
      "[*********************100%***********************]  1 of 1 completed\n",
      "[*********************100%***********************]  1 of 1 completed\n",
      "[*********************100%***********************]  1 of 1 completed\n",
      "[*********************100%***********************]  1 of 1 completed\n",
      "[*********************100%***********************]  1 of 1 completed"
     ]
    },
    {
     "name": "stdout",
     "output_type": "stream",
     "text": [
      "Successfully inserted 40 new records into Products table for the period 16/01/2023 to 22/01/2023\n",
      "Running strategies...\n",
      "Running HY_EQUITY strategy...\n",
      "→ Transaction effectuée : Sell 1410 x PYPL @ 71.22\n",
      "→ Transaction effectuée : Sell 695 x AAPL @ 128.44\n",
      "→ Transaction effectuée : Buy 11483 x NVDA @ 14.60\n",
      "→ Transaction effectuée : Sell 2056 x INTC @ 25.49\n",
      "→ Transaction effectuée : Buy 32 x MSFT @ 235.48\n",
      "Cash restant : 687,550.31\n",
      "\n",
      "=== Simulation pour le lundi 30/01/2023 ===\n",
      "Exécution de la stratégie pour la date historique : 30/01/2023\n",
      "Updating products for historical week: 23/01/2023 to 29/01/2023\n"
     ]
    },
    {
     "name": "stderr",
     "output_type": "stream",
     "text": [
      "\n",
      "[*********************100%***********************]  1 of 1 completed\n",
      "[*********************100%***********************]  1 of 1 completed\n",
      "[*********************100%***********************]  1 of 1 completed\n",
      "[*********************100%***********************]  1 of 1 completed\n",
      "[*********************100%***********************]  1 of 1 completed\n",
      "[*********************100%***********************]  1 of 1 completed\n",
      "[*********************100%***********************]  1 of 1 completed\n",
      "[*********************100%***********************]  1 of 1 completed\n",
      "[*********************100%***********************]  1 of 1 completed\n",
      "[*********************100%***********************]  1 of 1 completed"
     ]
    },
    {
     "name": "stdout",
     "output_type": "stream",
     "text": [
      "Successfully inserted 50 new records into Products table for the period 23/01/2023 to 29/01/2023\n",
      "Running strategies...\n",
      "Running HY_EQUITY strategy...\n",
      "→ Transaction effectuée : Buy 33789 x NVDA @ 20.35\n",
      "→ Transaction effectuée : Sell 516 x PYPL @ 81.83\n",
      "→ Transaction effectuée : Sell 188 x AAPL @ 144.25\n",
      "→ Transaction effectuée : Buy 211 x MSFT @ 243.66\n",
      "→ Transaction effectuée : Buy 80 x INTC @ 27.15\n",
      "Cash restant : 15,758.98\n",
      "\n",
      "=== Simulation pour le lundi 06/02/2023 ===\n",
      "Exécution de la stratégie pour la date historique : 06/02/2023\n",
      "Updating products for historical week: 30/01/2023 to 05/02/2023\n"
     ]
    },
    {
     "name": "stderr",
     "output_type": "stream",
     "text": [
      "\n",
      "[*********************100%***********************]  1 of 1 completed\n",
      "[*********************100%***********************]  1 of 1 completed\n",
      "[*********************100%***********************]  1 of 1 completed\n",
      "[*********************100%***********************]  1 of 1 completed\n",
      "[*********************100%***********************]  1 of 1 completed\n",
      "[*********************100%***********************]  1 of 1 completed\n",
      "[*********************100%***********************]  1 of 1 completed\n",
      "[*********************100%***********************]  1 of 1 completed\n",
      "[*********************100%***********************]  1 of 1 completed\n",
      "[*********************100%***********************]  1 of 1 completed"
     ]
    },
    {
     "name": "stdout",
     "output_type": "stream",
     "text": [
      "Successfully inserted 50 new records into Products table for the period 30/01/2023 to 05/02/2023\n",
      "Running strategies...\n",
      "Running HY_EQUITY strategy...\n",
      "→ Transaction effectuée : Buy 807 x NVDA @ 19.52\n",
      "→ Transaction effectuée : Sell 480 x PYPL @ 81.49\n",
      "→ Transaction effectuée : Sell 218 x AAPL @ 142.63\n",
      "→ Transaction effectuée : Buy 212 x MSFT @ 243.32\n",
      "→ Transaction effectuée : Buy 197 x INTC @ 27.25\n",
      "Cash restant : 13,262.04\n",
      "\n",
      "=== Simulation pour le lundi 13/02/2023 ===\n",
      "Exécution de la stratégie pour la date historique : 13/02/2023\n",
      "Updating products for historical week: 06/02/2023 to 12/02/2023\n"
     ]
    },
    {
     "name": "stderr",
     "output_type": "stream",
     "text": [
      "\n",
      "[*********************100%***********************]  1 of 1 completed\n",
      "[*********************100%***********************]  1 of 1 completed\n",
      "[*********************100%***********************]  1 of 1 completed\n",
      "[*********************100%***********************]  1 of 1 completed\n",
      "[*********************100%***********************]  1 of 1 completed\n",
      "[*********************100%***********************]  1 of 1 completed\n",
      "[*********************100%***********************]  1 of 1 completed\n",
      "[*********************100%***********************]  1 of 1 completed\n",
      "[*********************100%***********************]  1 of 1 completed\n",
      "[*********************100%***********************]  1 of 1 completed"
     ]
    },
    {
     "name": "stdout",
     "output_type": "stream",
     "text": [
      "Successfully inserted 50 new records into Products table for the period 06/02/2023 to 12/02/2023\n",
      "Running strategies...\n",
      "Running HY_EQUITY strategy...\n",
      "→ Transaction effectuée : Buy 679 x NVDA @ 19.52\n",
      "→ Transaction effectuée : Sell 429 x PYPL @ 81.49\n",
      "→ Transaction effectuée : Sell 205 x AAPL @ 142.63\n",
      "→ Transaction effectuée : Buy 220 x MSFT @ 243.32\n",
      "→ Transaction effectuée : Buy 199 x INTC @ 27.25\n",
      "Cash restant : 5,252.51\n",
      "\n",
      "=== Simulation pour le lundi 20/02/2023 ===\n",
      "Exécution de la stratégie pour la date historique : 20/02/2023\n",
      "Updating products for historical week: 13/02/2023 to 19/02/2023\n"
     ]
    },
    {
     "name": "stderr",
     "output_type": "stream",
     "text": [
      "\n",
      "[*********************100%***********************]  1 of 1 completed\n",
      "[*********************100%***********************]  1 of 1 completed\n",
      "[*********************100%***********************]  1 of 1 completed\n",
      "[*********************100%***********************]  1 of 1 completed\n",
      "[*********************100%***********************]  1 of 1 completed\n",
      "[*********************100%***********************]  1 of 1 completed\n",
      "[*********************100%***********************]  1 of 1 completed\n",
      "[*********************100%***********************]  1 of 1 completed\n",
      "[*********************100%***********************]  1 of 1 completed\n",
      "[*********************100%***********************]  1 of 1 completed"
     ]
    },
    {
     "name": "stdout",
     "output_type": "stream",
     "text": [
      "Successfully inserted 50 new records into Products table for the period 13/02/2023 to 19/02/2023\n",
      "Running strategies...\n",
      "Running HY_EQUITY strategy...\n",
      "→ Transaction effectuée : Buy 269 x NVDA @ 19.52\n",
      "→ Transaction effectuée : Sell 383 x PYPL @ 81.49\n",
      "→ Transaction effectuée : Sell 192 x AAPL @ 142.63\n",
      "→ Transaction effectuée : Buy 229 x MSFT @ 243.32\n",
      "→ Transaction effectuée : Buy 105 x INTC @ 27.25\n",
      "Cash restant : 15.50\n",
      "\n",
      "=== Simulation pour le lundi 27/02/2023 ===\n",
      "Exécution de la stratégie pour la date historique : 27/02/2023\n",
      "Updating products for historical week: 20/02/2023 to 26/02/2023\n"
     ]
    },
    {
     "name": "stderr",
     "output_type": "stream",
     "text": [
      "\n",
      "[*********************100%***********************]  1 of 1 completed\n",
      "[*********************100%***********************]  1 of 1 completed\n",
      "[*********************100%***********************]  1 of 1 completed\n",
      "[*********************100%***********************]  1 of 1 completed\n",
      "[*********************100%***********************]  1 of 1 completed\n",
      "[*********************100%***********************]  1 of 1 completed\n",
      "[*********************100%***********************]  1 of 1 completed\n",
      "[*********************100%***********************]  1 of 1 completed\n",
      "[*********************100%***********************]  1 of 1 completed\n",
      "[*********************100%***********************]  1 of 1 completed"
     ]
    },
    {
     "name": "stdout",
     "output_type": "stream",
     "text": [
      "Successfully inserted 40 new records into Products table for the period 20/02/2023 to 26/02/2023\n",
      "Running strategies...\n",
      "Running HY_EQUITY strategy...\n",
      "→ Transaction effectuée : Sell 623 x PYPL @ 73.55\n",
      "→ Transaction effectuée : Sell 3136 x INTC @ 24.54\n",
      "→ Transaction effectuée : Buy 289 x MSFT @ 245.32\n",
      "→ Transaction effectuée : Sell 129 x AAPL @ 145.25\n",
      "Cash restant : 70,625.86\n",
      "\n",
      "=== Simulation pour le lundi 06/03/2023 ===\n",
      "Exécution de la stratégie pour la date historique : 06/03/2023\n",
      "Updating products for historical week: 27/02/2023 to 05/03/2023\n"
     ]
    },
    {
     "name": "stderr",
     "output_type": "stream",
     "text": [
      "\n",
      "[*********************100%***********************]  1 of 1 completed\n",
      "[*********************100%***********************]  1 of 1 completed\n",
      "[*********************100%***********************]  1 of 1 completed\n",
      "[*********************100%***********************]  1 of 1 completed\n",
      "[*********************100%***********************]  1 of 1 completed\n",
      "[*********************100%***********************]  1 of 1 completed\n",
      "[*********************100%***********************]  1 of 1 completed\n",
      "[*********************100%***********************]  1 of 1 completed\n",
      "[*********************100%***********************]  1 of 1 completed\n",
      "[*********************100%***********************]  1 of 1 completed"
     ]
    },
    {
     "name": "stdout",
     "output_type": "stream",
     "text": [
      "Successfully inserted 50 new records into Products table for the period 27/02/2023 to 05/03/2023\n",
      "Running strategies...\n",
      "Running HY_EQUITY strategy...\n",
      "→ Transaction effectuée : Buy 3044 x NVDA @ 23.20\n",
      "→ Transaction effectuée : Sell 501 x PYPL @ 73.60\n",
      "→ Transaction effectuée : Sell 3069 x INTC @ 24.33\n",
      "→ Transaction effectuée : Buy 309 x MSFT @ 245.52\n",
      "→ Transaction effectuée : Sell 110 x AAPL @ 145.94\n",
      "Cash restant : 51,752.85\n",
      "\n",
      "=== Simulation pour le lundi 13/03/2023 ===\n",
      "Exécution de la stratégie pour la date historique : 13/03/2023\n",
      "Updating products for historical week: 06/03/2023 to 12/03/2023\n"
     ]
    },
    {
     "name": "stderr",
     "output_type": "stream",
     "text": [
      "\n",
      "[*********************100%***********************]  1 of 1 completed\n",
      "[*********************100%***********************]  1 of 1 completed\n",
      "[*********************100%***********************]  1 of 1 completed\n",
      "[*********************100%***********************]  1 of 1 completed\n",
      "[*********************100%***********************]  1 of 1 completed\n",
      "[*********************100%***********************]  1 of 1 completed\n",
      "[*********************100%***********************]  1 of 1 completed\n",
      "[*********************100%***********************]  1 of 1 completed\n",
      "[*********************100%***********************]  1 of 1 completed\n",
      "[*********************100%***********************]  1 of 1 completed"
     ]
    },
    {
     "name": "stdout",
     "output_type": "stream",
     "text": [
      "Successfully inserted 50 new records into Products table for the period 06/03/2023 to 12/03/2023\n",
      "Running strategies...\n",
      "Running HY_EQUITY strategy...\n",
      "→ Transaction effectuée : Buy 2231 x NVDA @ 23.20\n",
      "→ Transaction effectuée : Sell 405 x PYPL @ 73.60\n",
      "→ Transaction effectuée : Sell 2757 x INTC @ 24.33\n",
      "→ Transaction effectuée : Buy 324 x MSFT @ 245.52\n",
      "→ Transaction effectuée : Sell 106 x AAPL @ 145.94\n",
      "Cash restant : 32,815.22\n",
      "\n",
      "=== Simulation pour le lundi 20/03/2023 ===\n",
      "Exécution de la stratégie pour la date historique : 20/03/2023\n",
      "Updating products for historical week: 13/03/2023 to 19/03/2023\n"
     ]
    },
    {
     "name": "stderr",
     "output_type": "stream",
     "text": [
      "\n",
      "[*********************100%***********************]  1 of 1 completed\n",
      "[*********************100%***********************]  1 of 1 completed\n",
      "[*********************100%***********************]  1 of 1 completed\n",
      "[*********************100%***********************]  1 of 1 completed\n",
      "[*********************100%***********************]  1 of 1 completed\n",
      "[*********************100%***********************]  1 of 1 completed\n",
      "[*********************100%***********************]  1 of 1 completed\n",
      "[*********************100%***********************]  1 of 1 completed\n",
      "[*********************100%***********************]  1 of 1 completed\n",
      "[*********************100%***********************]  1 of 1 completed"
     ]
    },
    {
     "name": "stdout",
     "output_type": "stream",
     "text": [
      "Successfully inserted 50 new records into Products table for the period 13/03/2023 to 19/03/2023\n",
      "Running strategies...\n",
      "Running HY_EQUITY strategy...\n",
      "→ Transaction effectuée : Buy 1414 x NVDA @ 23.20\n",
      "→ Transaction effectuée : Sell 326 x PYPL @ 73.60\n",
      "→ Transaction effectuée : Sell 2477 x INTC @ 24.33\n",
      "→ Transaction effectuée : Buy 340 x MSFT @ 245.52\n",
      "→ Transaction effectuée : Sell 102 x AAPL @ 145.94\n",
      "Cash restant : 15,690.07\n",
      "\n",
      "=== Simulation pour le lundi 27/03/2023 ===\n",
      "Exécution de la stratégie pour la date historique : 27/03/2023\n",
      "Updating products for historical week: 20/03/2023 to 26/03/2023\n"
     ]
    },
    {
     "name": "stderr",
     "output_type": "stream",
     "text": [
      "\n",
      "[*********************100%***********************]  1 of 1 completed\n",
      "[*********************100%***********************]  1 of 1 completed\n",
      "[*********************100%***********************]  1 of 1 completed\n",
      "[*********************100%***********************]  1 of 1 completed\n",
      "[*********************100%***********************]  1 of 1 completed\n",
      "[*********************100%***********************]  1 of 1 completed\n",
      "[*********************100%***********************]  1 of 1 completed\n",
      "[*********************100%***********************]  1 of 1 completed\n",
      "[*********************100%***********************]  1 of 1 completed\n",
      "[*********************100%***********************]  1 of 1 completed"
     ]
    },
    {
     "name": "stdout",
     "output_type": "stream",
     "text": [
      "Successfully inserted 50 new records into Products table for the period 20/03/2023 to 26/03/2023\n",
      "Running strategies...\n",
      "Running HY_EQUITY strategy...\n",
      "→ Transaction effectuée : Buy 586 x NVDA @ 26.76\n",
      "→ Transaction effectuée : Sell 259 x PYPL @ 73.88\n",
      "→ Transaction effectuée : Buy 69 x MSFT @ 276.18\n",
      "→ Transaction effectuée : Buy 3 x INTC @ 28.66\n",
      "Cash restant : 0.46\n",
      "\n",
      "=== Simulation pour le lundi 03/04/2023 ===\n",
      "Exécution de la stratégie pour la date historique : 03/04/2023\n",
      "Updating products for historical week: 27/03/2023 to 02/04/2023\n"
     ]
    },
    {
     "name": "stderr",
     "output_type": "stream",
     "text": [
      "\n",
      "[*********************100%***********************]  1 of 1 completed\n",
      "[*********************100%***********************]  1 of 1 completed\n",
      "[*********************100%***********************]  1 of 1 completed\n",
      "[*********************100%***********************]  1 of 1 completed\n",
      "[*********************100%***********************]  1 of 1 completed\n",
      "[*********************100%***********************]  1 of 1 completed\n",
      "[*********************100%***********************]  1 of 1 completed\n",
      "[*********************100%***********************]  1 of 1 completed\n",
      "[*********************100%***********************]  1 of 1 completed\n",
      "[*********************100%***********************]  1 of 1 completed"
     ]
    },
    {
     "name": "stdout",
     "output_type": "stream",
     "text": [
      "Successfully inserted 50 new records into Products table for the period 27/03/2023 to 02/04/2023\n",
      "Running strategies...\n",
      "Running HY_EQUITY strategy...\n",
      "→ Transaction effectuée : Sell 185 x PYPL @ 75.94\n",
      "→ Transaction effectuée : Buy 86 x AAPL @ 163.25\n",
      "Cash restant : 9.55\n",
      "\n",
      "=== Simulation pour le lundi 10/04/2023 ===\n",
      "Exécution de la stratégie pour la date historique : 10/04/2023\n",
      "Updating products for historical week: 03/04/2023 to 09/04/2023\n"
     ]
    },
    {
     "name": "stderr",
     "output_type": "stream",
     "text": [
      "\n",
      "[*********************100%***********************]  1 of 1 completed\n",
      "[*********************100%***********************]  1 of 1 completed\n",
      "[*********************100%***********************]  1 of 1 completed\n",
      "[*********************100%***********************]  1 of 1 completed\n",
      "[*********************100%***********************]  1 of 1 completed\n",
      "[*********************100%***********************]  1 of 1 completed\n",
      "[*********************100%***********************]  1 of 1 completed\n",
      "[*********************100%***********************]  1 of 1 completed\n",
      "[*********************100%***********************]  1 of 1 completed\n",
      "[*********************100%***********************]  1 of 1 completed"
     ]
    },
    {
     "name": "stdout",
     "output_type": "stream",
     "text": [
      "Successfully inserted 40 new records into Products table for the period 03/04/2023 to 09/04/2023\n",
      "Running strategies...\n",
      "Running HY_EQUITY strategy...\n",
      "→ Transaction effectuée : Sell 154 x PYPL @ 75.94\n",
      "→ Transaction effectuée : Buy 71 x AAPL @ 163.25\n",
      "Cash restant : 113.31\n",
      "\n",
      "=== Simulation pour le lundi 17/04/2023 ===\n",
      "Exécution de la stratégie pour la date historique : 17/04/2023\n",
      "Updating products for historical week: 10/04/2023 to 16/04/2023\n"
     ]
    },
    {
     "name": "stderr",
     "output_type": "stream",
     "text": [
      "\n",
      "[*********************100%***********************]  1 of 1 completed\n",
      "[*********************100%***********************]  1 of 1 completed\n",
      "[*********************100%***********************]  1 of 1 completed\n",
      "[*********************100%***********************]  1 of 1 completed\n",
      "[*********************100%***********************]  1 of 1 completed\n",
      "[*********************100%***********************]  1 of 1 completed\n",
      "[*********************100%***********************]  1 of 1 completed\n",
      "[*********************100%***********************]  1 of 1 completed\n",
      "[*********************100%***********************]  1 of 1 completed\n",
      "[*********************100%***********************]  1 of 1 completed"
     ]
    },
    {
     "name": "stdout",
     "output_type": "stream",
     "text": [
      "Successfully inserted 50 new records into Products table for the period 10/04/2023 to 16/04/2023\n",
      "Running strategies...\n",
      "Running HY_EQUITY strategy...\n",
      "→ Transaction effectuée : Buy 4 x NVDA @ 27.76\n",
      "→ Transaction effectuée : Sell 129 x PYPL @ 75.94\n",
      "→ Transaction effectuée : Buy 60 x AAPL @ 163.25\n",
      "Cash restant : 3.31\n",
      "\n",
      "=== Simulation pour le lundi 24/04/2023 ===\n",
      "Exécution de la stratégie pour la date historique : 24/04/2023\n",
      "Updating products for historical week: 17/04/2023 to 23/04/2023\n"
     ]
    },
    {
     "name": "stderr",
     "output_type": "stream",
     "text": [
      "\n",
      "[*********************100%***********************]  1 of 1 completed\n",
      "[*********************100%***********************]  1 of 1 completed\n",
      "[*********************100%***********************]  1 of 1 completed\n",
      "[*********************100%***********************]  1 of 1 completed\n",
      "[*********************100%***********************]  1 of 1 completed\n",
      "[*********************100%***********************]  1 of 1 completed\n",
      "[*********************100%***********************]  1 of 1 completed\n",
      "[*********************100%***********************]  1 of 1 completed\n",
      "[*********************100%***********************]  1 of 1 completed\n",
      "[*********************100%***********************]  1 of 1 completed"
     ]
    },
    {
     "name": "stdout",
     "output_type": "stream",
     "text": [
      "Successfully inserted 50 new records into Products table for the period 17/04/2023 to 23/04/2023\n",
      "Running strategies...\n",
      "Running HY_EQUITY strategy...\n",
      "→ Transaction effectuée : Sell 119 x PYPL @ 74.18\n",
      "→ Transaction effectuée : Buy 298 x INTC @ 29.57\n",
      "Cash restant : 17.79\n",
      "\n",
      "=== Simulation pour le lundi 01/05/2023 ===\n",
      "Exécution de la stratégie pour la date historique : 01/05/2023\n",
      "Updating products for historical week: 24/04/2023 to 30/04/2023\n"
     ]
    },
    {
     "name": "stderr",
     "output_type": "stream",
     "text": [
      "\n",
      "[*********************100%***********************]  1 of 1 completed\n",
      "[*********************100%***********************]  1 of 1 completed\n",
      "[*********************100%***********************]  1 of 1 completed\n",
      "[*********************100%***********************]  1 of 1 completed\n",
      "[*********************100%***********************]  1 of 1 completed\n",
      "[*********************100%***********************]  1 of 1 completed\n",
      "[*********************100%***********************]  1 of 1 completed\n",
      "[*********************100%***********************]  1 of 1 completed\n",
      "[*********************100%***********************]  1 of 1 completed\n",
      "[*********************100%***********************]  1 of 1 completed"
     ]
    },
    {
     "name": "stdout",
     "output_type": "stream",
     "text": [
      "Successfully inserted 50 new records into Products table for the period 24/04/2023 to 30/04/2023\n",
      "Running strategies...\n",
      "Running HY_EQUITY strategy...\n",
      "→ Transaction effectuée : Sell 87 x PYPL @ 76.00\n",
      "→ Transaction effectuée : Buy 218 x INTC @ 30.32\n",
      "Cash restant : 21.03\n",
      "\n",
      "=== Simulation pour le lundi 08/05/2023 ===\n",
      "Exécution de la stratégie pour la date historique : 08/05/2023\n",
      "Updating products for historical week: 01/05/2023 to 07/05/2023\n"
     ]
    },
    {
     "name": "stderr",
     "output_type": "stream",
     "text": [
      "\n",
      "[*********************100%***********************]  1 of 1 completed\n",
      "[*********************100%***********************]  1 of 1 completed\n",
      "[*********************100%***********************]  1 of 1 completed\n",
      "[*********************100%***********************]  1 of 1 completed\n",
      "[*********************100%***********************]  1 of 1 completed\n",
      "[*********************100%***********************]  1 of 1 completed\n",
      "[*********************100%***********************]  1 of 1 completed\n",
      "[*********************100%***********************]  1 of 1 completed\n",
      "[*********************100%***********************]  1 of 1 completed\n",
      "[*********************100%***********************]  1 of 1 completed"
     ]
    },
    {
     "name": "stdout",
     "output_type": "stream",
     "text": [
      "Successfully inserted 50 new records into Products table for the period 01/05/2023 to 07/05/2023\n",
      "Running strategies...\n",
      "Running HY_EQUITY strategy...\n",
      "→ Transaction effectuée : Sell 72 x PYPL @ 76.00\n",
      "→ Transaction effectuée : Buy 181 x INTC @ 30.32\n",
      "Cash restant : 5.94\n",
      "\n",
      "=== Simulation pour le lundi 15/05/2023 ===\n",
      "Exécution de la stratégie pour la date historique : 15/05/2023\n",
      "Updating products for historical week: 08/05/2023 to 14/05/2023\n"
     ]
    },
    {
     "name": "stderr",
     "output_type": "stream",
     "text": [
      "\n",
      "[*********************100%***********************]  1 of 1 completed\n",
      "[*********************100%***********************]  1 of 1 completed\n",
      "[*********************100%***********************]  1 of 1 completed\n",
      "[*********************100%***********************]  1 of 1 completed\n",
      "[*********************100%***********************]  1 of 1 completed\n",
      "[*********************100%***********************]  1 of 1 completed\n",
      "[*********************100%***********************]  1 of 1 completed\n",
      "[*********************100%***********************]  1 of 1 completed\n",
      "[*********************100%***********************]  1 of 1 completed\n",
      "[*********************100%***********************]  1 of 1 completed"
     ]
    },
    {
     "name": "stdout",
     "output_type": "stream",
     "text": [
      "Successfully inserted 50 new records into Products table for the period 08/05/2023 to 14/05/2023\n",
      "Running strategies...\n",
      "Running HY_EQUITY strategy...\n",
      "→ Transaction effectuée : Sell 60 x PYPL @ 76.00\n",
      "→ Transaction effectuée : Buy 150 x INTC @ 30.32\n",
      "Cash restant : 18.63\n",
      "\n",
      "=== Simulation pour le lundi 22/05/2023 ===\n",
      "Exécution de la stratégie pour la date historique : 22/05/2023\n",
      "Updating products for historical week: 15/05/2023 to 21/05/2023\n"
     ]
    },
    {
     "name": "stderr",
     "output_type": "stream",
     "text": [
      "\n",
      "[*********************100%***********************]  1 of 1 completed\n",
      "[*********************100%***********************]  1 of 1 completed\n",
      "[*********************100%***********************]  1 of 1 completed\n",
      "[*********************100%***********************]  1 of 1 completed\n",
      "[*********************100%***********************]  1 of 1 completed\n",
      "[*********************100%***********************]  1 of 1 completed\n",
      "[*********************100%***********************]  1 of 1 completed\n",
      "[*********************100%***********************]  1 of 1 completed\n",
      "[*********************100%***********************]  1 of 1 completed\n",
      "[*********************100%***********************]  1 of 1 completed"
     ]
    },
    {
     "name": "stdout",
     "output_type": "stream",
     "text": [
      "Successfully inserted 50 new records into Products table for the period 15/05/2023 to 21/05/2023\n",
      "Running strategies...\n",
      "Running HY_EQUITY strategy...\n",
      "→ Transaction effectuée : Sell 50 x PYPL @ 76.00\n",
      "→ Transaction effectuée : Buy 125 x INTC @ 30.32\n",
      "Cash restant : 29.21\n",
      "\n",
      "=== Simulation pour le lundi 29/05/2023 ===\n",
      "Exécution de la stratégie pour la date historique : 29/05/2023\n",
      "Updating products for historical week: 22/05/2023 to 28/05/2023\n"
     ]
    },
    {
     "name": "stderr",
     "output_type": "stream",
     "text": [
      "\n",
      "[*********************100%***********************]  1 of 1 completed\n",
      "[*********************100%***********************]  1 of 1 completed\n",
      "[*********************100%***********************]  1 of 1 completed\n",
      "[*********************100%***********************]  1 of 1 completed\n",
      "[*********************100%***********************]  1 of 1 completed\n",
      "[*********************100%***********************]  1 of 1 completed\n",
      "[*********************100%***********************]  1 of 1 completed\n",
      "[*********************100%***********************]  1 of 1 completed\n",
      "[*********************100%***********************]  1 of 1 completed\n",
      "[*********************100%***********************]  1 of 1 completed"
     ]
    },
    {
     "name": "stdout",
     "output_type": "stream",
     "text": [
      "Successfully inserted 50 new records into Products table for the period 22/05/2023 to 28/05/2023\n",
      "Running strategies...\n",
      "Running HY_EQUITY strategy...\n",
      "→ Transaction effectuée : Sell 86 x PYPL @ 60.22\n",
      "→ Transaction effectuée : Buy 29 x AAPL @ 173.92\n",
      "→ Transaction effectuée : Buy 5 x INTC @ 28.42\n",
      "Cash restant : 22.38\n",
      "\n",
      "=== Simulation pour le lundi 05/06/2023 ===\n",
      "Exécution de la stratégie pour la date historique : 05/06/2023\n",
      "Updating products for historical week: 29/05/2023 to 04/06/2023\n"
     ]
    },
    {
     "name": "stderr",
     "output_type": "stream",
     "text": [
      "\n",
      "[*********************100%***********************]  1 of 1 completed\n",
      "[*********************100%***********************]  1 of 1 completed\n",
      "[*********************100%***********************]  1 of 1 completed\n",
      "[*********************100%***********************]  1 of 1 completed\n",
      "[*********************100%***********************]  1 of 1 completed\n",
      "[*********************100%***********************]  1 of 1 completed\n",
      "[*********************100%***********************]  1 of 1 completed\n",
      "[*********************100%***********************]  1 of 1 completed\n",
      "[*********************100%***********************]  1 of 1 completed\n",
      "[*********************100%***********************]  1 of 1 completed"
     ]
    },
    {
     "name": "stdout",
     "output_type": "stream",
     "text": [
      "Successfully inserted 40 new records into Products table for the period 29/05/2023 to 04/06/2023\n",
      "Running strategies...\n",
      "Running HY_EQUITY strategy...\n",
      "→ Transaction effectuée : Sell 54 x PYPL @ 61.99\n",
      "→ Transaction effectuée : Buy 19 x AAPL @ 175.72\n",
      "→ Transaction effectuée : Buy 1 x INTC @ 30.81\n",
      "Cash restant : 0.29\n",
      "\n",
      "=== Simulation pour le lundi 12/06/2023 ===\n",
      "Exécution de la stratégie pour la date historique : 12/06/2023\n",
      "Updating products for historical week: 05/06/2023 to 11/06/2023\n"
     ]
    },
    {
     "name": "stderr",
     "output_type": "stream",
     "text": [
      "\n",
      "[*********************100%***********************]  1 of 1 completed\n",
      "[*********************100%***********************]  1 of 1 completed\n",
      "[*********************100%***********************]  1 of 1 completed\n",
      "[*********************100%***********************]  1 of 1 completed\n",
      "[*********************100%***********************]  1 of 1 completed\n",
      "[*********************100%***********************]  1 of 1 completed\n",
      "[*********************100%***********************]  1 of 1 completed\n",
      "[*********************100%***********************]  1 of 1 completed\n",
      "[*********************100%***********************]  1 of 1 completed\n",
      "[*********************100%***********************]  1 of 1 completed"
     ]
    },
    {
     "name": "stdout",
     "output_type": "stream",
     "text": [
      "Successfully inserted 50 new records into Products table for the period 05/06/2023 to 11/06/2023\n",
      "Running strategies...\n",
      "Running HY_EQUITY strategy...\n",
      "→ Transaction effectuée : Sell 36 x PYPL @ 61.99\n",
      "→ Transaction effectuée : Buy 12 x AAPL @ 175.72\n",
      "→ Transaction effectuée : Buy 4 x INTC @ 30.81\n",
      "Cash restant : 0.01\n",
      "\n",
      "=== Simulation pour le lundi 19/06/2023 ===\n",
      "Exécution de la stratégie pour la date historique : 19/06/2023\n",
      "Updating products for historical week: 12/06/2023 to 18/06/2023\n"
     ]
    },
    {
     "name": "stderr",
     "output_type": "stream",
     "text": [
      "\n",
      "[*********************100%***********************]  1 of 1 completed\n",
      "[*********************100%***********************]  1 of 1 completed\n",
      "[*********************100%***********************]  1 of 1 completed\n",
      "[*********************100%***********************]  1 of 1 completed\n",
      "[*********************100%***********************]  1 of 1 completed\n",
      "[*********************100%***********************]  1 of 1 completed\n",
      "[*********************100%***********************]  1 of 1 completed\n",
      "[*********************100%***********************]  1 of 1 completed\n",
      "[*********************100%***********************]  1 of 1 completed\n",
      "[*********************100%***********************]  1 of 1 completed"
     ]
    },
    {
     "name": "stdout",
     "output_type": "stream",
     "text": [
      "Successfully inserted 50 new records into Products table for the period 12/06/2023 to 18/06/2023\n",
      "Running strategies...\n",
      "Running HY_EQUITY strategy...\n",
      "→ Transaction effectuée : Sell 25 x PYPL @ 61.99\n",
      "→ Transaction effectuée : Buy 8 x AAPL @ 175.72\n",
      "→ Transaction effectuée : Buy 4 x INTC @ 30.81\n",
      "Cash restant : 20.72\n",
      "\n",
      "=== Simulation pour le lundi 26/06/2023 ===\n",
      "Exécution de la stratégie pour la date historique : 26/06/2023\n",
      "Updating products for historical week: 19/06/2023 to 25/06/2023\n"
     ]
    },
    {
     "name": "stderr",
     "output_type": "stream",
     "text": [
      "\n",
      "[*********************100%***********************]  1 of 1 completed\n",
      "[*********************100%***********************]  1 of 1 completed\n",
      "[*********************100%***********************]  1 of 1 completed\n",
      "[*********************100%***********************]  1 of 1 completed\n",
      "[*********************100%***********************]  1 of 1 completed\n",
      "[*********************100%***********************]  1 of 1 completed\n",
      "[*********************100%***********************]  1 of 1 completed\n",
      "[*********************100%***********************]  1 of 1 completed\n",
      "[*********************100%***********************]  1 of 1 completed\n",
      "[*********************100%***********************]  1 of 1 completed"
     ]
    },
    {
     "name": "stdout",
     "output_type": "stream",
     "text": [
      "Successfully inserted 40 new records into Products table for the period 19/06/2023 to 25/06/2023\n",
      "Running strategies...\n",
      "Running HY_EQUITY strategy...\n",
      "→ Transaction effectuée : Sell 14 x PYPL @ 66.94\n",
      "→ Transaction effectuée : Buy 5 x AAPL @ 185.07\n",
      "→ Transaction effectuée : Buy 1 x INTC @ 32.34\n",
      "Cash restant : 0.18\n",
      "\n",
      "=== Simulation pour le lundi 03/07/2023 ===\n",
      "Exécution de la stratégie pour la date historique : 03/07/2023\n",
      "Updating products for historical week: 26/06/2023 to 02/07/2023\n"
     ]
    },
    {
     "name": "stderr",
     "output_type": "stream",
     "text": [
      "\n",
      "[*********************100%***********************]  1 of 1 completed\n",
      "[*********************100%***********************]  1 of 1 completed\n",
      "[*********************100%***********************]  1 of 1 completed\n",
      "[*********************100%***********************]  1 of 1 completed\n",
      "[*********************100%***********************]  1 of 1 completed\n",
      "[*********************100%***********************]  1 of 1 completed\n",
      "[*********************100%***********************]  1 of 1 completed\n",
      "[*********************100%***********************]  1 of 1 completed\n",
      "[*********************100%***********************]  1 of 1 completed\n",
      "[*********************100%***********************]  1 of 1 completed"
     ]
    },
    {
     "name": "stdout",
     "output_type": "stream",
     "text": [
      "Successfully inserted 50 new records into Products table for the period 26/06/2023 to 02/07/2023\n",
      "Running strategies...\n",
      "Running HY_EQUITY strategy...\n",
      "→ Transaction effectuée : Sell 10 x PYPL @ 66.73\n",
      "→ Transaction effectuée : Buy 3 x AAPL @ 192.30\n",
      "→ Transaction effectuée : Buy 2 x INTC @ 32.77\n",
      "Cash restant : 25.04\n",
      "\n",
      "=== Simulation pour le lundi 10/07/2023 ===\n",
      "Exécution de la stratégie pour la date historique : 10/07/2023\n",
      "Updating products for historical week: 03/07/2023 to 09/07/2023\n"
     ]
    },
    {
     "name": "stderr",
     "output_type": "stream",
     "text": [
      "\n",
      "[*********************100%***********************]  1 of 1 completed\n",
      "[*********************100%***********************]  1 of 1 completed\n",
      "[*********************100%***********************]  1 of 1 completed\n",
      "[*********************100%***********************]  1 of 1 completed\n",
      "[*********************100%***********************]  1 of 1 completed\n",
      "[*********************100%***********************]  1 of 1 completed\n",
      "[*********************100%***********************]  1 of 1 completed\n",
      "[*********************100%***********************]  1 of 1 completed\n",
      "[*********************100%***********************]  1 of 1 completed\n",
      "[*********************100%***********************]  1 of 1 completed"
     ]
    },
    {
     "name": "stdout",
     "output_type": "stream",
     "text": [
      "Successfully inserted 40 new records into Products table for the period 03/07/2023 to 09/07/2023\n",
      "Running strategies...\n",
      "Running HY_EQUITY strategy...\n",
      "→ Transaction effectuée : Sell 8 x PYPL @ 66.73\n",
      "→ Transaction effectuée : Buy 2 x AAPL @ 192.30\n",
      "→ Transaction effectuée : Buy 5 x INTC @ 32.77\n",
      "Cash restant : 10.42\n",
      "\n",
      "=== Simulation pour le lundi 17/07/2023 ===\n",
      "Exécution de la stratégie pour la date historique : 17/07/2023\n",
      "Updating products for historical week: 10/07/2023 to 16/07/2023\n"
     ]
    },
    {
     "name": "stderr",
     "output_type": "stream",
     "text": [
      "\n",
      "[*********************100%***********************]  1 of 1 completed\n",
      "[*********************100%***********************]  1 of 1 completed\n",
      "[*********************100%***********************]  1 of 1 completed\n",
      "[*********************100%***********************]  1 of 1 completed\n",
      "[*********************100%***********************]  1 of 1 completed\n",
      "[*********************100%***********************]  1 of 1 completed\n",
      "[*********************100%***********************]  1 of 1 completed\n",
      "[*********************100%***********************]  1 of 1 completed\n",
      "[*********************100%***********************]  1 of 1 completed\n",
      "[*********************100%***********************]  1 of 1 completed"
     ]
    },
    {
     "name": "stdout",
     "output_type": "stream",
     "text": [
      "Successfully inserted 50 new records into Products table for the period 10/07/2023 to 16/07/2023\n",
      "Running strategies...\n",
      "Running HY_EQUITY strategy...\n",
      "→ Transaction effectuée : Sell 5 x PYPL @ 66.73\n",
      "→ Transaction effectuée : Buy 1 x AAPL @ 192.30\n",
      "→ Transaction effectuée : Buy 4 x INTC @ 32.77\n",
      "Cash restant : 20.69\n",
      "\n",
      "=== Simulation pour le lundi 24/07/2023 ===\n",
      "Exécution de la stratégie pour la date historique : 24/07/2023\n",
      "Updating products for historical week: 17/07/2023 to 23/07/2023\n"
     ]
    },
    {
     "name": "stderr",
     "output_type": "stream",
     "text": [
      "\n",
      "[*********************100%***********************]  1 of 1 completed\n",
      "[*********************100%***********************]  1 of 1 completed\n",
      "[*********************100%***********************]  1 of 1 completed\n",
      "[*********************100%***********************]  1 of 1 completed\n",
      "[*********************100%***********************]  1 of 1 completed\n",
      "[*********************100%***********************]  1 of 1 completed\n",
      "[*********************100%***********************]  1 of 1 completed\n",
      "[*********************100%***********************]  1 of 1 completed\n",
      "[*********************100%***********************]  1 of 1 completed\n",
      "[*********************100%***********************]  1 of 1 completed"
     ]
    },
    {
     "name": "stdout",
     "output_type": "stream",
     "text": [
      "Successfully inserted 50 new records into Products table for the period 17/07/2023 to 23/07/2023\n",
      "Running strategies...\n",
      "Running HY_EQUITY strategy...\n",
      "→ Transaction effectuée : Sell 3 x PYPL @ 72.99\n",
      "Cash restant : 239.66\n",
      "\n",
      "=== Simulation pour le lundi 31/07/2023 ===\n",
      "Exécution de la stratégie pour la date historique : 31/07/2023\n",
      "Updating products for historical week: 24/07/2023 to 30/07/2023\n"
     ]
    },
    {
     "name": "stderr",
     "output_type": "stream",
     "text": [
      "\n",
      "[*********************100%***********************]  1 of 1 completed\n",
      "[*********************100%***********************]  1 of 1 completed\n",
      "[*********************100%***********************]  1 of 1 completed\n",
      "[*********************100%***********************]  1 of 1 completed\n",
      "[*********************100%***********************]  1 of 1 completed\n",
      "[*********************100%***********************]  1 of 1 completed\n",
      "[*********************100%***********************]  1 of 1 completed\n",
      "[*********************100%***********************]  1 of 1 completed\n",
      "[*********************100%***********************]  1 of 1 completed\n",
      "[*********************100%***********************]  1 of 1 completed"
     ]
    },
    {
     "name": "stdout",
     "output_type": "stream",
     "text": [
      "Successfully inserted 50 new records into Products table for the period 24/07/2023 to 30/07/2023\n",
      "Running strategies...\n",
      "Running HY_EQUITY strategy...\n",
      "→ Transaction effectuée : Buy 5 x NVDA @ 46.72\n",
      "→ Transaction effectuée : Sell 2 x PYPL @ 73.98\n",
      "Cash restant : 154.00\n",
      "\n",
      "=== Simulation pour le lundi 07/08/2023 ===\n",
      "Exécution de la stratégie pour la date historique : 07/08/2023\n",
      "Updating products for historical week: 31/07/2023 to 06/08/2023\n"
     ]
    },
    {
     "name": "stderr",
     "output_type": "stream",
     "text": [
      "\n",
      "[*********************100%***********************]  1 of 1 completed\n",
      "[*********************100%***********************]  1 of 1 completed\n",
      "[*********************100%***********************]  1 of 1 completed\n",
      "[*********************100%***********************]  1 of 1 completed\n",
      "[*********************100%***********************]  1 of 1 completed\n",
      "[*********************100%***********************]  1 of 1 completed\n",
      "[*********************100%***********************]  1 of 1 completed\n",
      "[*********************100%***********************]  1 of 1 completed\n",
      "[*********************100%***********************]  1 of 1 completed\n",
      "[*********************100%***********************]  1 of 1 completed"
     ]
    },
    {
     "name": "stdout",
     "output_type": "stream",
     "text": [
      "Successfully inserted 50 new records into Products table for the period 31/07/2023 to 06/08/2023\n",
      "Running strategies...\n",
      "Running HY_EQUITY strategy...\n",
      "→ Transaction effectuée : Buy 3 x NVDA @ 46.70\n",
      "→ Transaction effectuée : Sell 2 x PYPL @ 75.82\n",
      "Cash restant : 165.52\n",
      "\n",
      "=== Simulation pour le lundi 14/08/2023 ===\n",
      "Exécution de la stratégie pour la date historique : 14/08/2023\n",
      "Updating products for historical week: 07/08/2023 to 13/08/2023\n"
     ]
    },
    {
     "name": "stderr",
     "output_type": "stream",
     "text": [
      "\n",
      "[*********************100%***********************]  1 of 1 completed\n",
      "[*********************100%***********************]  1 of 1 completed\n",
      "[*********************100%***********************]  1 of 1 completed\n",
      "[*********************100%***********************]  1 of 1 completed\n",
      "[*********************100%***********************]  1 of 1 completed\n",
      "[*********************100%***********************]  1 of 1 completed\n",
      "[*********************100%***********************]  1 of 1 completed\n",
      "[*********************100%***********************]  1 of 1 completed\n",
      "[*********************100%***********************]  1 of 1 completed\n",
      "[*********************100%***********************]  1 of 1 completed"
     ]
    },
    {
     "name": "stdout",
     "output_type": "stream",
     "text": [
      "Successfully inserted 50 new records into Products table for the period 07/08/2023 to 13/08/2023\n",
      "Running strategies...\n",
      "Running HY_EQUITY strategy...\n",
      "→ Transaction effectuée : Buy 3 x NVDA @ 46.70\n",
      "→ Transaction effectuée : Sell 1 x PYPL @ 75.82\n",
      "Cash restant : 101.23\n",
      "\n",
      "=== Simulation pour le lundi 21/08/2023 ===\n",
      "Exécution de la stratégie pour la date historique : 21/08/2023\n",
      "Updating products for historical week: 14/08/2023 to 20/08/2023\n"
     ]
    },
    {
     "name": "stderr",
     "output_type": "stream",
     "text": [
      "\n",
      "[*********************100%***********************]  1 of 1 completed\n",
      "[*********************100%***********************]  1 of 1 completed\n",
      "[*********************100%***********************]  1 of 1 completed\n",
      "[*********************100%***********************]  1 of 1 completed\n",
      "[*********************100%***********************]  1 of 1 completed\n",
      "[*********************100%***********************]  1 of 1 completed\n",
      "[*********************100%***********************]  1 of 1 completed\n",
      "[*********************100%***********************]  1 of 1 completed\n",
      "[*********************100%***********************]  1 of 1 completed\n",
      "[*********************100%***********************]  1 of 1 completed"
     ]
    },
    {
     "name": "stdout",
     "output_type": "stream",
     "text": [
      "Successfully inserted 50 new records into Products table for the period 14/08/2023 to 20/08/2023\n",
      "Running strategies...\n",
      "Running HY_EQUITY strategy...\n",
      "→ Transaction effectuée : Buy 2 x NVDA @ 46.70\n",
      "→ Transaction effectuée : Sell 1 x PYPL @ 75.82\n",
      "Cash restant : 83.65\n",
      "\n",
      "=== Simulation pour le lundi 28/08/2023 ===\n",
      "Exécution de la stratégie pour la date historique : 28/08/2023\n",
      "Updating products for historical week: 21/08/2023 to 27/08/2023\n"
     ]
    },
    {
     "name": "stderr",
     "output_type": "stream",
     "text": [
      "\n",
      "[*********************100%***********************]  1 of 1 completed\n",
      "[*********************100%***********************]  1 of 1 completed\n",
      "[*********************100%***********************]  1 of 1 completed\n",
      "[*********************100%***********************]  1 of 1 completed\n",
      "[*********************100%***********************]  1 of 1 completed\n",
      "[*********************100%***********************]  1 of 1 completed\n",
      "[*********************100%***********************]  1 of 1 completed\n",
      "[*********************100%***********************]  1 of 1 completed\n",
      "[*********************100%***********************]  1 of 1 completed\n",
      "[*********************100%***********************]  1 of 1 completed"
     ]
    },
    {
     "name": "stdout",
     "output_type": "stream",
     "text": [
      "Successfully inserted 50 new records into Products table for the period 21/08/2023 to 27/08/2023\n",
      "Running strategies...\n",
      "Running HY_EQUITY strategy...\n",
      "→ Transaction effectuée : Buy 1 x NVDA @ 45.99\n",
      "→ Transaction effectuée : Sell 2 x PYPL @ 61.19\n",
      "→ Transaction effectuée : Buy 4 x INTC @ 32.70\n",
      "Cash restant : 29.22\n",
      "\n",
      "=== Simulation pour le lundi 04/09/2023 ===\n",
      "Exécution de la stratégie pour la date historique : 04/09/2023\n",
      "Updating products for historical week: 28/08/2023 to 03/09/2023\n"
     ]
    },
    {
     "name": "stderr",
     "output_type": "stream",
     "text": [
      "\n",
      "[*********************100%***********************]  1 of 1 completed\n",
      "[*********************100%***********************]  1 of 1 completed\n",
      "[*********************100%***********************]  1 of 1 completed\n",
      "[*********************100%***********************]  1 of 1 completed\n",
      "[*********************100%***********************]  1 of 1 completed\n",
      "[*********************100%***********************]  1 of 1 completed\n",
      "[*********************100%***********************]  1 of 1 completed\n",
      "[*********************100%***********************]  1 of 1 completed\n",
      "[*********************100%***********************]  1 of 1 completed\n",
      "[*********************100%***********************]  1 of 1 completed"
     ]
    },
    {
     "name": "stdout",
     "output_type": "stream",
     "text": [
      "Successfully inserted 50 new records into Products table for the period 28/08/2023 to 03/09/2023\n",
      "Running strategies...\n",
      "Running HY_EQUITY strategy...\n",
      "→ Transaction effectuée : Sell 1 x PYPL @ 62.51\n",
      "→ Transaction effectuée : Buy 2 x INTC @ 34.56\n",
      "Cash restant : 22.61\n",
      "\n",
      "=== Simulation pour le lundi 11/09/2023 ===\n",
      "Exécution de la stratégie pour la date historique : 11/09/2023\n",
      "Updating products for historical week: 04/09/2023 to 10/09/2023\n"
     ]
    },
    {
     "name": "stderr",
     "output_type": "stream",
     "text": [
      "\n",
      "[*********************100%***********************]  1 of 1 completed\n",
      "[*********************100%***********************]  1 of 1 completed\n",
      "[*********************100%***********************]  1 of 1 completed\n",
      "[*********************100%***********************]  1 of 1 completed\n",
      "[*********************100%***********************]  1 of 1 completed\n",
      "[*********************100%***********************]  1 of 1 completed\n",
      "[*********************100%***********************]  1 of 1 completed\n",
      "[*********************100%***********************]  1 of 1 completed\n",
      "[*********************100%***********************]  1 of 1 completed\n",
      "[*********************100%***********************]  1 of 1 completed"
     ]
    },
    {
     "name": "stdout",
     "output_type": "stream",
     "text": [
      "Successfully inserted 40 new records into Products table for the period 04/09/2023 to 10/09/2023\n",
      "Running strategies...\n",
      "Running HY_EQUITY strategy...\n",
      "→ Transaction effectuée : Sell 1 x PYPL @ 62.51\n",
      "→ Transaction effectuée : Buy 2 x INTC @ 34.56\n",
      "Cash restant : 15.99\n",
      "\n",
      "=== Simulation pour le lundi 18/09/2023 ===\n",
      "Exécution de la stratégie pour la date historique : 18/09/2023\n",
      "Updating products for historical week: 11/09/2023 to 17/09/2023\n"
     ]
    },
    {
     "name": "stderr",
     "output_type": "stream",
     "text": [
      "\n",
      "[*********************100%***********************]  1 of 1 completed\n",
      "[*********************100%***********************]  1 of 1 completed\n",
      "[*********************100%***********************]  1 of 1 completed\n",
      "[*********************100%***********************]  1 of 1 completed\n",
      "[*********************100%***********************]  1 of 1 completed\n",
      "[*********************100%***********************]  1 of 1 completed\n",
      "[*********************100%***********************]  1 of 1 completed\n",
      "[*********************100%***********************]  1 of 1 completed\n",
      "[*********************100%***********************]  1 of 1 completed\n",
      "[*********************100%***********************]  1 of 1 completed"
     ]
    },
    {
     "name": "stdout",
     "output_type": "stream",
     "text": [
      "Successfully inserted 50 new records into Products table for the period 11/09/2023 to 17/09/2023\n",
      "Running strategies...\n",
      "Running HY_EQUITY strategy...\n",
      "→ Transaction effectuée : Sell 1 x PYPL @ 62.51\n",
      "→ Transaction effectuée : Buy 2 x INTC @ 34.56\n",
      "Cash restant : 9.38\n",
      "\n",
      "=== Simulation pour le lundi 25/09/2023 ===\n",
      "Exécution de la stratégie pour la date historique : 25/09/2023\n",
      "Updating products for historical week: 18/09/2023 to 24/09/2023\n"
     ]
    },
    {
     "name": "stderr",
     "output_type": "stream",
     "text": [
      "\n",
      "[*********************100%***********************]  1 of 1 completed\n",
      "[*********************100%***********************]  1 of 1 completed\n",
      "[*********************100%***********************]  1 of 1 completed\n",
      "[*********************100%***********************]  1 of 1 completed\n",
      "[*********************100%***********************]  1 of 1 completed\n",
      "[*********************100%***********************]  1 of 1 completed\n",
      "[*********************100%***********************]  1 of 1 completed\n",
      "[*********************100%***********************]  1 of 1 completed\n",
      "[*********************100%***********************]  1 of 1 completed\n",
      "[*********************100%***********************]  1 of 1 completed"
     ]
    },
    {
     "name": "stdout",
     "output_type": "stream",
     "text": [
      "Successfully inserted 50 new records into Products table for the period 18/09/2023 to 24/09/2023\n",
      "Running strategies...\n",
      "Running HY_EQUITY strategy...\n",
      "→ Transaction effectuée : Sell 1 x PYPL @ 57.88\n",
      "→ Transaction effectuée : Buy 2 x INTC @ 33.62\n",
      "Cash restant : 0.03\n",
      "\n",
      "=== Simulation pour le lundi 02/10/2023 ===\n",
      "Exécution de la stratégie pour la date historique : 02/10/2023\n",
      "Updating products for historical week: 25/09/2023 to 01/10/2023\n"
     ]
    },
    {
     "name": "stderr",
     "output_type": "stream",
     "text": [
      "\n",
      "[*********************100%***********************]  1 of 1 completed\n",
      "[*********************100%***********************]  1 of 1 completed\n",
      "[*********************100%***********************]  1 of 1 completed\n",
      "[*********************100%***********************]  1 of 1 completed\n",
      "[*********************100%***********************]  1 of 1 completed\n",
      "[*********************100%***********************]  1 of 1 completed\n",
      "[*********************100%***********************]  1 of 1 completed\n",
      "[*********************100%***********************]  1 of 1 completed\n",
      "[*********************100%***********************]  1 of 1 completed\n",
      "[*********************100%***********************]  1 of 1 completed"
     ]
    },
    {
     "name": "stdout",
     "output_type": "stream",
     "text": [
      "Successfully inserted 50 new records into Products table for the period 25/09/2023 to 01/10/2023\n",
      "Running strategies...\n",
      "Running HY_EQUITY strategy...\n",
      "Cash restant : 0.03\n",
      "\n",
      "=== Simulation pour le lundi 09/10/2023 ===\n",
      "Exécution de la stratégie pour la date historique : 09/10/2023\n",
      "Updating products for historical week: 02/10/2023 to 08/10/2023\n"
     ]
    },
    {
     "name": "stderr",
     "output_type": "stream",
     "text": [
      "\n",
      "[*********************100%***********************]  1 of 1 completed\n",
      "[*********************100%***********************]  1 of 1 completed\n",
      "[*********************100%***********************]  1 of 1 completed\n",
      "[*********************100%***********************]  1 of 1 completed\n",
      "[*********************100%***********************]  1 of 1 completed\n",
      "[*********************100%***********************]  1 of 1 completed\n",
      "[*********************100%***********************]  1 of 1 completed\n",
      "[*********************100%***********************]  1 of 1 completed\n",
      "[*********************100%***********************]  1 of 1 completed\n",
      "[*********************100%***********************]  1 of 1 completed"
     ]
    },
    {
     "name": "stdout",
     "output_type": "stream",
     "text": [
      "Successfully inserted 50 new records into Products table for the period 02/10/2023 to 08/10/2023\n",
      "Running strategies...\n",
      "Running HY_EQUITY strategy...\n",
      "Cash restant : 0.03\n",
      "\n",
      "=== Simulation pour le lundi 16/10/2023 ===\n",
      "Exécution de la stratégie pour la date historique : 16/10/2023\n",
      "Updating products for historical week: 09/10/2023 to 15/10/2023\n"
     ]
    },
    {
     "name": "stderr",
     "output_type": "stream",
     "text": [
      "\n",
      "[*********************100%***********************]  1 of 1 completed\n",
      "[*********************100%***********************]  1 of 1 completed\n",
      "[*********************100%***********************]  1 of 1 completed\n",
      "[*********************100%***********************]  1 of 1 completed\n",
      "[*********************100%***********************]  1 of 1 completed\n",
      "[*********************100%***********************]  1 of 1 completed\n",
      "[*********************100%***********************]  1 of 1 completed\n",
      "[*********************100%***********************]  1 of 1 completed\n",
      "[*********************100%***********************]  1 of 1 completed\n",
      "[*********************100%***********************]  1 of 1 completed"
     ]
    },
    {
     "name": "stdout",
     "output_type": "stream",
     "text": [
      "Successfully inserted 50 new records into Products table for the period 09/10/2023 to 15/10/2023\n",
      "Running strategies...\n",
      "Running HY_EQUITY strategy...\n",
      "Cash restant : 0.03\n",
      "\n",
      "=== Simulation pour le lundi 23/10/2023 ===\n",
      "Exécution de la stratégie pour la date historique : 23/10/2023\n",
      "Updating products for historical week: 16/10/2023 to 22/10/2023\n"
     ]
    },
    {
     "name": "stderr",
     "output_type": "stream",
     "text": [
      "\n",
      "[*********************100%***********************]  1 of 1 completed\n",
      "[*********************100%***********************]  1 of 1 completed\n",
      "[*********************100%***********************]  1 of 1 completed\n",
      "[*********************100%***********************]  1 of 1 completed\n",
      "[*********************100%***********************]  1 of 1 completed\n",
      "[*********************100%***********************]  1 of 1 completed\n",
      "[*********************100%***********************]  1 of 1 completed\n",
      "[*********************100%***********************]  1 of 1 completed\n",
      "[*********************100%***********************]  1 of 1 completed\n",
      "[*********************100%***********************]  1 of 1 completed"
     ]
    },
    {
     "name": "stdout",
     "output_type": "stream",
     "text": [
      "Successfully inserted 50 new records into Products table for the period 16/10/2023 to 22/10/2023\n",
      "Running strategies...\n",
      "Running HY_EQUITY strategy...\n",
      "Cash restant : 0.03\n",
      "\n",
      "=== Simulation pour le lundi 30/10/2023 ===\n",
      "Exécution de la stratégie pour la date historique : 30/10/2023\n",
      "Updating products for historical week: 23/10/2023 to 29/10/2023\n"
     ]
    },
    {
     "name": "stderr",
     "output_type": "stream",
     "text": [
      "\n",
      "[*********************100%***********************]  1 of 1 completed\n",
      "[*********************100%***********************]  1 of 1 completed\n",
      "[*********************100%***********************]  1 of 1 completed\n",
      "[*********************100%***********************]  1 of 1 completed\n",
      "[*********************100%***********************]  1 of 1 completed\n",
      "[*********************100%***********************]  1 of 1 completed\n",
      "[*********************100%***********************]  1 of 1 completed\n",
      "[*********************100%***********************]  1 of 1 completed\n",
      "[*********************100%***********************]  1 of 1 completed\n",
      "[*********************100%***********************]  1 of 1 completed"
     ]
    },
    {
     "name": "stdout",
     "output_type": "stream",
     "text": [
      "Successfully inserted 50 new records into Products table for the period 23/10/2023 to 29/10/2023\n",
      "Running strategies...\n",
      "Running HY_EQUITY strategy...\n",
      "Cash restant : 0.03\n",
      "\n",
      "=== Simulation pour le lundi 06/11/2023 ===\n",
      "Exécution de la stratégie pour la date historique : 06/11/2023\n",
      "Updating products for historical week: 30/10/2023 to 05/11/2023\n"
     ]
    },
    {
     "name": "stderr",
     "output_type": "stream",
     "text": [
      "\n",
      "[*********************100%***********************]  1 of 1 completed\n",
      "[*********************100%***********************]  1 of 1 completed\n",
      "[*********************100%***********************]  1 of 1 completed\n",
      "[*********************100%***********************]  1 of 1 completed\n",
      "[*********************100%***********************]  1 of 1 completed\n",
      "[*********************100%***********************]  1 of 1 completed\n",
      "[*********************100%***********************]  1 of 1 completed\n",
      "[*********************100%***********************]  1 of 1 completed\n",
      "[*********************100%***********************]  1 of 1 completed\n",
      "[*********************100%***********************]  1 of 1 completed"
     ]
    },
    {
     "name": "stdout",
     "output_type": "stream",
     "text": [
      "Successfully inserted 50 new records into Products table for the period 30/10/2023 to 05/11/2023\n",
      "Running strategies...\n",
      "Running HY_EQUITY strategy...\n",
      "Cash restant : 0.03\n",
      "\n",
      "=== Simulation pour le lundi 13/11/2023 ===\n",
      "Exécution de la stratégie pour la date historique : 13/11/2023\n",
      "Updating products for historical week: 06/11/2023 to 12/11/2023\n"
     ]
    },
    {
     "name": "stderr",
     "output_type": "stream",
     "text": [
      "\n",
      "[*********************100%***********************]  1 of 1 completed\n",
      "[*********************100%***********************]  1 of 1 completed\n",
      "[*********************100%***********************]  1 of 1 completed\n",
      "[*********************100%***********************]  1 of 1 completed\n",
      "[*********************100%***********************]  1 of 1 completed\n",
      "[*********************100%***********************]  1 of 1 completed\n",
      "[*********************100%***********************]  1 of 1 completed\n",
      "[*********************100%***********************]  1 of 1 completed\n",
      "[*********************100%***********************]  1 of 1 completed\n",
      "[*********************100%***********************]  1 of 1 completed"
     ]
    },
    {
     "name": "stdout",
     "output_type": "stream",
     "text": [
      "Successfully inserted 50 new records into Products table for the period 06/11/2023 to 12/11/2023\n",
      "Running strategies...\n",
      "Running HY_EQUITY strategy...\n",
      "Cash restant : 0.03\n",
      "\n",
      "=== Simulation pour le lundi 20/11/2023 ===\n",
      "Exécution de la stratégie pour la date historique : 20/11/2023\n",
      "Updating products for historical week: 13/11/2023 to 19/11/2023\n"
     ]
    },
    {
     "name": "stderr",
     "output_type": "stream",
     "text": [
      "\n",
      "[*********************100%***********************]  1 of 1 completed\n",
      "[*********************100%***********************]  1 of 1 completed\n",
      "[*********************100%***********************]  1 of 1 completed\n",
      "[*********************100%***********************]  1 of 1 completed\n",
      "[*********************100%***********************]  1 of 1 completed\n",
      "[*********************100%***********************]  1 of 1 completed\n",
      "[*********************100%***********************]  1 of 1 completed\n",
      "[*********************100%***********************]  1 of 1 completed\n",
      "[*********************100%***********************]  1 of 1 completed\n",
      "[*********************100%***********************]  1 of 1 completed"
     ]
    },
    {
     "name": "stdout",
     "output_type": "stream",
     "text": [
      "Successfully inserted 50 new records into Products table for the period 13/11/2023 to 19/11/2023\n",
      "Running strategies...\n",
      "Running HY_EQUITY strategy...\n",
      "Cash restant : 0.03\n",
      "\n",
      "=== Simulation pour le lundi 27/11/2023 ===\n",
      "Exécution de la stratégie pour la date historique : 27/11/2023\n",
      "Updating products for historical week: 20/11/2023 to 26/11/2023\n"
     ]
    },
    {
     "name": "stderr",
     "output_type": "stream",
     "text": [
      "\n",
      "[*********************100%***********************]  1 of 1 completed\n",
      "[*********************100%***********************]  1 of 1 completed\n",
      "[*********************100%***********************]  1 of 1 completed\n",
      "\n",
      "1 Failed download:\n",
      "['AMZN']: YFRateLimitError('Too Many Requests. Rate limited. Try after a while.')\n"
     ]
    },
    {
     "name": "stdout",
     "output_type": "stream",
     "text": [
      "Failed to fetch data for AMZN: Too Many Requests. Rate limited. Try after a while.\n"
     ]
    },
    {
     "name": "stderr",
     "output_type": "stream",
     "text": [
      "[*********************100%***********************]  1 of 1 completed\n",
      "\n",
      "1 Failed download:\n",
      "['META']: YFRateLimitError('Too Many Requests. Rate limited. Try after a while.')\n"
     ]
    },
    {
     "name": "stdout",
     "output_type": "stream",
     "text": [
      "Failed to fetch data for META: Too Many Requests. Rate limited. Try after a while.\n"
     ]
    },
    {
     "name": "stderr",
     "output_type": "stream",
     "text": [
      "[*********************100%***********************]  1 of 1 completed\n",
      "\n",
      "1 Failed download:\n",
      "['TSLA']: YFRateLimitError('Too Many Requests. Rate limited. Try after a while.')\n"
     ]
    },
    {
     "name": "stdout",
     "output_type": "stream",
     "text": [
      "Failed to fetch data for TSLA: Too Many Requests. Rate limited. Try after a while.\n"
     ]
    },
    {
     "name": "stderr",
     "output_type": "stream",
     "text": [
      "[*********************100%***********************]  1 of 1 completed\n",
      "\n",
      "1 Failed download:\n",
      "['NVDA']: YFRateLimitError('Too Many Requests. Rate limited. Try after a while.')\n"
     ]
    },
    {
     "name": "stdout",
     "output_type": "stream",
     "text": [
      "Failed to fetch data for NVDA: Too Many Requests. Rate limited. Try after a while.\n"
     ]
    },
    {
     "name": "stderr",
     "output_type": "stream",
     "text": [
      "[*********************100%***********************]  1 of 1 completed\n",
      "\n",
      "1 Failed download:\n",
      "['PYPL']: YFRateLimitError('Too Many Requests. Rate limited. Try after a while.')\n"
     ]
    },
    {
     "name": "stdout",
     "output_type": "stream",
     "text": [
      "Failed to fetch data for PYPL: Too Many Requests. Rate limited. Try after a while.\n"
     ]
    },
    {
     "name": "stderr",
     "output_type": "stream",
     "text": [
      "[*********************100%***********************]  1 of 1 completed\n",
      "\n",
      "1 Failed download:\n",
      "['ADBE']: YFRateLimitError('Too Many Requests. Rate limited. Try after a while.')\n"
     ]
    },
    {
     "name": "stdout",
     "output_type": "stream",
     "text": [
      "Failed to fetch data for ADBE: Too Many Requests. Rate limited. Try after a while.\n"
     ]
    },
    {
     "name": "stderr",
     "output_type": "stream",
     "text": [
      "[*********************100%***********************]  1 of 1 completed\n",
      "\n",
      "1 Failed download:\n",
      "['INTC']: YFRateLimitError('Too Many Requests. Rate limited. Try after a while.')\n"
     ]
    },
    {
     "name": "stdout",
     "output_type": "stream",
     "text": [
      "Failed to fetch data for INTC: Too Many Requests. Rate limited. Try after a while.\n",
      "Successfully inserted 12 new records into Products table for the period 20/11/2023 to 26/11/2023\n",
      "Running strategies...\n",
      "Running HY_EQUITY strategy...\n",
      "Cash restant : 0.03\n",
      "\n",
      "=== Simulation pour le lundi 04/12/2023 ===\n",
      "Exécution de la stratégie pour la date historique : 04/12/2023\n",
      "Updating products for historical week: 27/11/2023 to 03/12/2023\n"
     ]
    },
    {
     "name": "stderr",
     "output_type": "stream",
     "text": [
      "[*********************100%***********************]  1 of 1 completed\n",
      "\n",
      "1 Failed download:\n",
      "['AAPL']: YFRateLimitError('Too Many Requests. Rate limited. Try after a while.')\n"
     ]
    },
    {
     "name": "stdout",
     "output_type": "stream",
     "text": [
      "Failed to fetch data for AAPL: Too Many Requests. Rate limited. Try after a while.\n"
     ]
    },
    {
     "name": "stderr",
     "output_type": "stream",
     "text": [
      "[*********************100%***********************]  1 of 1 completed\n",
      "\n",
      "1 Failed download:\n",
      "['MSFT']: YFRateLimitError('Too Many Requests. Rate limited. Try after a while.')\n"
     ]
    },
    {
     "name": "stdout",
     "output_type": "stream",
     "text": [
      "Failed to fetch data for MSFT: Too Many Requests. Rate limited. Try after a while.\n"
     ]
    },
    {
     "name": "stderr",
     "output_type": "stream",
     "text": [
      "[*********************100%***********************]  1 of 1 completed\n",
      "\n",
      "1 Failed download:\n",
      "['GOOGL']: YFRateLimitError('Too Many Requests. Rate limited. Try after a while.')\n"
     ]
    },
    {
     "name": "stdout",
     "output_type": "stream",
     "text": [
      "Failed to fetch data for GOOGL: Too Many Requests. Rate limited. Try after a while.\n"
     ]
    },
    {
     "name": "stderr",
     "output_type": "stream",
     "text": [
      "[*********************100%***********************]  1 of 1 completed\n",
      "\n",
      "1 Failed download:\n",
      "['AMZN']: YFRateLimitError('Too Many Requests. Rate limited. Try after a while.')\n"
     ]
    },
    {
     "name": "stdout",
     "output_type": "stream",
     "text": [
      "Failed to fetch data for AMZN: Too Many Requests. Rate limited. Try after a while.\n"
     ]
    },
    {
     "name": "stderr",
     "output_type": "stream",
     "text": [
      "[*********************100%***********************]  1 of 1 completed\n",
      "\n",
      "1 Failed download:\n",
      "['META']: YFRateLimitError('Too Many Requests. Rate limited. Try after a while.')\n"
     ]
    },
    {
     "name": "stdout",
     "output_type": "stream",
     "text": [
      "Failed to fetch data for META: Too Many Requests. Rate limited. Try after a while.\n"
     ]
    },
    {
     "name": "stderr",
     "output_type": "stream",
     "text": [
      "[*********************100%***********************]  1 of 1 completed\n",
      "\n",
      "1 Failed download:\n",
      "['TSLA']: YFRateLimitError('Too Many Requests. Rate limited. Try after a while.')\n"
     ]
    },
    {
     "name": "stdout",
     "output_type": "stream",
     "text": [
      "Failed to fetch data for TSLA: Too Many Requests. Rate limited. Try after a while.\n"
     ]
    },
    {
     "name": "stderr",
     "output_type": "stream",
     "text": [
      "[*********************100%***********************]  1 of 1 completed\n",
      "\n",
      "1 Failed download:\n",
      "['NVDA']: YFRateLimitError('Too Many Requests. Rate limited. Try after a while.')\n"
     ]
    },
    {
     "name": "stdout",
     "output_type": "stream",
     "text": [
      "Failed to fetch data for NVDA: Too Many Requests. Rate limited. Try after a while.\n"
     ]
    },
    {
     "name": "stderr",
     "output_type": "stream",
     "text": [
      "[*********************100%***********************]  1 of 1 completed\n",
      "\n",
      "1 Failed download:\n",
      "['PYPL']: YFRateLimitError('Too Many Requests. Rate limited. Try after a while.')\n"
     ]
    },
    {
     "name": "stdout",
     "output_type": "stream",
     "text": [
      "Failed to fetch data for PYPL: Too Many Requests. Rate limited. Try after a while.\n"
     ]
    },
    {
     "name": "stderr",
     "output_type": "stream",
     "text": [
      "[*********************100%***********************]  1 of 1 completed\n",
      "\n",
      "1 Failed download:\n",
      "['ADBE']: YFRateLimitError('Too Many Requests. Rate limited. Try after a while.')\n"
     ]
    },
    {
     "name": "stdout",
     "output_type": "stream",
     "text": [
      "Failed to fetch data for ADBE: Too Many Requests. Rate limited. Try after a while.\n"
     ]
    },
    {
     "name": "stderr",
     "output_type": "stream",
     "text": [
      "[*********************100%***********************]  1 of 1 completed\n",
      "\n",
      "1 Failed download:\n",
      "['INTC']: YFRateLimitError('Too Many Requests. Rate limited. Try after a while.')\n"
     ]
    },
    {
     "name": "stdout",
     "output_type": "stream",
     "text": [
      "Failed to fetch data for INTC: Too Many Requests. Rate limited. Try after a while.\n",
      "No data to update.\n",
      "Running strategies...\n",
      "Running HY_EQUITY strategy...\n",
      "Cash restant : 0.03\n",
      "\n",
      "=== Simulation pour le lundi 11/12/2023 ===\n",
      "Exécution de la stratégie pour la date historique : 11/12/2023\n",
      "Updating products for historical week: 04/12/2023 to 10/12/2023\n"
     ]
    },
    {
     "name": "stderr",
     "output_type": "stream",
     "text": [
      "[*********************100%***********************]  1 of 1 completed\n",
      "\n",
      "1 Failed download:\n",
      "['AAPL']: YFRateLimitError('Too Many Requests. Rate limited. Try after a while.')\n"
     ]
    },
    {
     "name": "stdout",
     "output_type": "stream",
     "text": [
      "Failed to fetch data for AAPL: Too Many Requests. Rate limited. Try after a while.\n"
     ]
    },
    {
     "name": "stderr",
     "output_type": "stream",
     "text": [
      "[*********************100%***********************]  1 of 1 completed\n",
      "\n",
      "1 Failed download:\n",
      "['MSFT']: YFRateLimitError('Too Many Requests. Rate limited. Try after a while.')\n"
     ]
    },
    {
     "name": "stdout",
     "output_type": "stream",
     "text": [
      "Failed to fetch data for MSFT: Too Many Requests. Rate limited. Try after a while.\n"
     ]
    },
    {
     "name": "stderr",
     "output_type": "stream",
     "text": [
      "[*********************100%***********************]  1 of 1 completed\n",
      "\n",
      "1 Failed download:\n",
      "['GOOGL']: YFRateLimitError('Too Many Requests. Rate limited. Try after a while.')\n"
     ]
    },
    {
     "name": "stdout",
     "output_type": "stream",
     "text": [
      "Failed to fetch data for GOOGL: Too Many Requests. Rate limited. Try after a while.\n"
     ]
    },
    {
     "name": "stderr",
     "output_type": "stream",
     "text": [
      "[*********************100%***********************]  1 of 1 completed\n",
      "\n",
      "1 Failed download:\n",
      "['AMZN']: YFRateLimitError('Too Many Requests. Rate limited. Try after a while.')\n"
     ]
    },
    {
     "name": "stdout",
     "output_type": "stream",
     "text": [
      "Failed to fetch data for AMZN: Too Many Requests. Rate limited. Try after a while.\n"
     ]
    },
    {
     "name": "stderr",
     "output_type": "stream",
     "text": [
      "[*********************100%***********************]  1 of 1 completed\n",
      "\n",
      "1 Failed download:\n",
      "['META']: YFRateLimitError('Too Many Requests. Rate limited. Try after a while.')\n"
     ]
    },
    {
     "name": "stdout",
     "output_type": "stream",
     "text": [
      "Failed to fetch data for META: Too Many Requests. Rate limited. Try after a while.\n"
     ]
    },
    {
     "name": "stderr",
     "output_type": "stream",
     "text": [
      "[*********************100%***********************]  1 of 1 completed\n",
      "\n",
      "1 Failed download:\n",
      "['TSLA']: YFRateLimitError('Too Many Requests. Rate limited. Try after a while.')\n"
     ]
    },
    {
     "name": "stdout",
     "output_type": "stream",
     "text": [
      "Failed to fetch data for TSLA: Too Many Requests. Rate limited. Try after a while.\n"
     ]
    },
    {
     "name": "stderr",
     "output_type": "stream",
     "text": [
      "[*********************100%***********************]  1 of 1 completed\n",
      "\n",
      "1 Failed download:\n",
      "['NVDA']: YFRateLimitError('Too Many Requests. Rate limited. Try after a while.')\n"
     ]
    },
    {
     "name": "stdout",
     "output_type": "stream",
     "text": [
      "Failed to fetch data for NVDA: Too Many Requests. Rate limited. Try after a while.\n"
     ]
    },
    {
     "name": "stderr",
     "output_type": "stream",
     "text": [
      "[*********************100%***********************]  1 of 1 completed\n",
      "\n",
      "1 Failed download:\n",
      "['PYPL']: YFRateLimitError('Too Many Requests. Rate limited. Try after a while.')\n"
     ]
    },
    {
     "name": "stdout",
     "output_type": "stream",
     "text": [
      "Failed to fetch data for PYPL: Too Many Requests. Rate limited. Try after a while.\n"
     ]
    },
    {
     "name": "stderr",
     "output_type": "stream",
     "text": [
      "[*********************100%***********************]  1 of 1 completed\n",
      "\n",
      "1 Failed download:\n",
      "['ADBE']: YFRateLimitError('Too Many Requests. Rate limited. Try after a while.')\n"
     ]
    },
    {
     "name": "stdout",
     "output_type": "stream",
     "text": [
      "Failed to fetch data for ADBE: Too Many Requests. Rate limited. Try after a while.\n"
     ]
    },
    {
     "name": "stderr",
     "output_type": "stream",
     "text": [
      "[*********************100%***********************]  1 of 1 completed\n",
      "\n",
      "1 Failed download:\n",
      "['INTC']: YFRateLimitError('Too Many Requests. Rate limited. Try after a while.')\n"
     ]
    },
    {
     "name": "stdout",
     "output_type": "stream",
     "text": [
      "Failed to fetch data for INTC: Too Many Requests. Rate limited. Try after a while.\n",
      "No data to update.\n",
      "Running strategies...\n",
      "Running HY_EQUITY strategy...\n",
      "Cash restant : 0.03\n",
      "\n",
      "=== Simulation pour le lundi 18/12/2023 ===\n",
      "Exécution de la stratégie pour la date historique : 18/12/2023\n",
      "Updating products for historical week: 11/12/2023 to 17/12/2023\n"
     ]
    },
    {
     "name": "stderr",
     "output_type": "stream",
     "text": [
      "[*********************100%***********************]  1 of 1 completed\n",
      "\n",
      "1 Failed download:\n",
      "['AAPL']: YFRateLimitError('Too Many Requests. Rate limited. Try after a while.')\n"
     ]
    },
    {
     "name": "stdout",
     "output_type": "stream",
     "text": [
      "Failed to fetch data for AAPL: Too Many Requests. Rate limited. Try after a while.\n"
     ]
    },
    {
     "name": "stderr",
     "output_type": "stream",
     "text": [
      "[*********************100%***********************]  1 of 1 completed\n",
      "\n",
      "1 Failed download:\n",
      "['MSFT']: YFRateLimitError('Too Many Requests. Rate limited. Try after a while.')\n"
     ]
    },
    {
     "name": "stdout",
     "output_type": "stream",
     "text": [
      "Failed to fetch data for MSFT: Too Many Requests. Rate limited. Try after a while.\n"
     ]
    },
    {
     "name": "stderr",
     "output_type": "stream",
     "text": [
      "[*********************100%***********************]  1 of 1 completed\n",
      "\n",
      "1 Failed download:\n",
      "['GOOGL']: YFRateLimitError('Too Many Requests. Rate limited. Try after a while.')\n"
     ]
    },
    {
     "name": "stdout",
     "output_type": "stream",
     "text": [
      "Failed to fetch data for GOOGL: Too Many Requests. Rate limited. Try after a while.\n"
     ]
    },
    {
     "name": "stderr",
     "output_type": "stream",
     "text": [
      "[*********************100%***********************]  1 of 1 completed\n",
      "\n",
      "1 Failed download:\n",
      "['AMZN']: YFRateLimitError('Too Many Requests. Rate limited. Try after a while.')\n"
     ]
    },
    {
     "name": "stdout",
     "output_type": "stream",
     "text": [
      "Failed to fetch data for AMZN: Too Many Requests. Rate limited. Try after a while.\n"
     ]
    },
    {
     "name": "stderr",
     "output_type": "stream",
     "text": [
      "[*********************100%***********************]  1 of 1 completed\n",
      "\n",
      "1 Failed download:\n",
      "['META']: YFRateLimitError('Too Many Requests. Rate limited. Try after a while.')\n"
     ]
    },
    {
     "name": "stdout",
     "output_type": "stream",
     "text": [
      "Failed to fetch data for META: Too Many Requests. Rate limited. Try after a while.\n"
     ]
    },
    {
     "name": "stderr",
     "output_type": "stream",
     "text": [
      "[*********************100%***********************]  1 of 1 completed\n",
      "\n",
      "1 Failed download:\n",
      "['TSLA']: YFRateLimitError('Too Many Requests. Rate limited. Try after a while.')\n"
     ]
    },
    {
     "name": "stdout",
     "output_type": "stream",
     "text": [
      "Failed to fetch data for TSLA: Too Many Requests. Rate limited. Try after a while.\n"
     ]
    },
    {
     "name": "stderr",
     "output_type": "stream",
     "text": [
      "[*********************100%***********************]  1 of 1 completed\n",
      "\n",
      "1 Failed download:\n",
      "['NVDA']: YFRateLimitError('Too Many Requests. Rate limited. Try after a while.')\n"
     ]
    },
    {
     "name": "stdout",
     "output_type": "stream",
     "text": [
      "Failed to fetch data for NVDA: Too Many Requests. Rate limited. Try after a while.\n"
     ]
    },
    {
     "name": "stderr",
     "output_type": "stream",
     "text": [
      "[*********************100%***********************]  1 of 1 completed\n",
      "\n",
      "1 Failed download:\n",
      "['PYPL']: YFRateLimitError('Too Many Requests. Rate limited. Try after a while.')\n"
     ]
    },
    {
     "name": "stdout",
     "output_type": "stream",
     "text": [
      "Failed to fetch data for PYPL: Too Many Requests. Rate limited. Try after a while.\n"
     ]
    },
    {
     "name": "stderr",
     "output_type": "stream",
     "text": [
      "[*********************100%***********************]  1 of 1 completed\n",
      "\n",
      "1 Failed download:\n",
      "['ADBE']: YFRateLimitError('Too Many Requests. Rate limited. Try after a while.')\n"
     ]
    },
    {
     "name": "stdout",
     "output_type": "stream",
     "text": [
      "Failed to fetch data for ADBE: Too Many Requests. Rate limited. Try after a while.\n"
     ]
    },
    {
     "name": "stderr",
     "output_type": "stream",
     "text": [
      "[*********************100%***********************]  1 of 1 completed\n",
      "\n",
      "1 Failed download:\n",
      "['INTC']: YFRateLimitError('Too Many Requests. Rate limited. Try after a while.')\n"
     ]
    },
    {
     "name": "stdout",
     "output_type": "stream",
     "text": [
      "Failed to fetch data for INTC: Too Many Requests. Rate limited. Try after a while.\n",
      "No data to update.\n",
      "Running strategies...\n",
      "Running HY_EQUITY strategy...\n",
      "Cash restant : 0.03\n",
      "\n",
      "=== Simulation pour le lundi 25/12/2023 ===\n",
      "Exécution de la stratégie pour la date historique : 25/12/2023\n",
      "Updating products for historical week: 18/12/2023 to 24/12/2023\n"
     ]
    },
    {
     "name": "stderr",
     "output_type": "stream",
     "text": [
      "[*********************100%***********************]  1 of 1 completed\n",
      "\n",
      "1 Failed download:\n",
      "['AAPL']: YFRateLimitError('Too Many Requests. Rate limited. Try after a while.')\n"
     ]
    },
    {
     "name": "stdout",
     "output_type": "stream",
     "text": [
      "Failed to fetch data for AAPL: Too Many Requests. Rate limited. Try after a while.\n"
     ]
    },
    {
     "name": "stderr",
     "output_type": "stream",
     "text": [
      "[*********************100%***********************]  1 of 1 completed\n",
      "\n",
      "1 Failed download:\n",
      "['MSFT']: YFRateLimitError('Too Many Requests. Rate limited. Try after a while.')\n"
     ]
    },
    {
     "name": "stdout",
     "output_type": "stream",
     "text": [
      "Failed to fetch data for MSFT: Too Many Requests. Rate limited. Try after a while.\n"
     ]
    },
    {
     "name": "stderr",
     "output_type": "stream",
     "text": [
      "[*********************100%***********************]  1 of 1 completed\n",
      "\n",
      "1 Failed download:\n",
      "['GOOGL']: YFRateLimitError('Too Many Requests. Rate limited. Try after a while.')\n"
     ]
    },
    {
     "name": "stdout",
     "output_type": "stream",
     "text": [
      "Failed to fetch data for GOOGL: Too Many Requests. Rate limited. Try after a while.\n"
     ]
    },
    {
     "name": "stderr",
     "output_type": "stream",
     "text": [
      "[*********************100%***********************]  1 of 1 completed\n",
      "\n",
      "1 Failed download:\n",
      "['AMZN']: YFRateLimitError('Too Many Requests. Rate limited. Try after a while.')\n"
     ]
    },
    {
     "name": "stdout",
     "output_type": "stream",
     "text": [
      "Failed to fetch data for AMZN: Too Many Requests. Rate limited. Try after a while.\n"
     ]
    },
    {
     "name": "stderr",
     "output_type": "stream",
     "text": [
      "[*********************100%***********************]  1 of 1 completed\n",
      "\n",
      "1 Failed download:\n",
      "['META']: YFRateLimitError('Too Many Requests. Rate limited. Try after a while.')\n"
     ]
    },
    {
     "name": "stdout",
     "output_type": "stream",
     "text": [
      "Failed to fetch data for META: Too Many Requests. Rate limited. Try after a while.\n"
     ]
    },
    {
     "name": "stderr",
     "output_type": "stream",
     "text": [
      "[*********************100%***********************]  1 of 1 completed\n",
      "\n",
      "1 Failed download:\n",
      "['TSLA']: YFRateLimitError('Too Many Requests. Rate limited. Try after a while.')\n"
     ]
    },
    {
     "name": "stdout",
     "output_type": "stream",
     "text": [
      "Failed to fetch data for TSLA: Too Many Requests. Rate limited. Try after a while.\n"
     ]
    },
    {
     "name": "stderr",
     "output_type": "stream",
     "text": [
      "[*********************100%***********************]  1 of 1 completed\n",
      "\n",
      "1 Failed download:\n",
      "['NVDA']: YFRateLimitError('Too Many Requests. Rate limited. Try after a while.')\n"
     ]
    },
    {
     "name": "stdout",
     "output_type": "stream",
     "text": [
      "Failed to fetch data for NVDA: Too Many Requests. Rate limited. Try after a while.\n"
     ]
    },
    {
     "name": "stderr",
     "output_type": "stream",
     "text": [
      "[*********************100%***********************]  1 of 1 completed\n",
      "\n",
      "1 Failed download:\n",
      "['PYPL']: YFRateLimitError('Too Many Requests. Rate limited. Try after a while.')\n"
     ]
    },
    {
     "name": "stdout",
     "output_type": "stream",
     "text": [
      "Failed to fetch data for PYPL: Too Many Requests. Rate limited. Try after a while.\n"
     ]
    },
    {
     "name": "stderr",
     "output_type": "stream",
     "text": [
      "[*********************100%***********************]  1 of 1 completed\n",
      "\n",
      "1 Failed download:\n",
      "['ADBE']: YFRateLimitError('Too Many Requests. Rate limited. Try after a while.')\n"
     ]
    },
    {
     "name": "stdout",
     "output_type": "stream",
     "text": [
      "Failed to fetch data for ADBE: Too Many Requests. Rate limited. Try after a while.\n"
     ]
    },
    {
     "name": "stderr",
     "output_type": "stream",
     "text": [
      "[*********************100%***********************]  1 of 1 completed\n",
      "\n",
      "1 Failed download:\n",
      "['INTC']: YFRateLimitError('Too Many Requests. Rate limited. Try after a while.')\n"
     ]
    },
    {
     "name": "stdout",
     "output_type": "stream",
     "text": [
      "Failed to fetch data for INTC: Too Many Requests. Rate limited. Try after a while.\n",
      "No data to update.\n",
      "Running strategies...\n",
      "Running HY_EQUITY strategy...\n",
      "Cash restant : 0.03\n",
      "\n",
      "Simulation terminée !\n",
      "Nombre de lundis simulés : 52\n",
      "Période couverte : 01/01/2023 au 31/12/2023\n"
     ]
    }
   ],
   "source": [
    "from strategies import RunAllStrat\n",
    "start_date2=\"01/01/2023\"\n",
    "end_date2=\"31/12/2023\"\n",
    "b=RunAllStrat(db_file,start_date2,end_date2,tickers)\n",
    "b.run()"
   ]
  },
  {
   "cell_type": "markdown",
   "metadata": {},
   "source": [
    "# Reconstruction de la composition des portefeuilles "
   ]
  },
  {
   "cell_type": "code",
   "execution_count": 12,
   "metadata": {},
   "outputs": [
    {
     "name": "stdout",
     "output_type": "stream",
     "text": [
      "✅ Historique reconstruit pour RISK_TYPE = 'HY_EQUITY'\n"
     ]
    }
   ],
   "source": [
    "db_manager.rebuild_portfolio_history_by_risk_type(\"HY_EQUITY\")"
   ]
  },
  {
   "cell_type": "markdown",
   "metadata": {},
   "source": [
    "# Visualisation des performances des portefeuilles"
   ]
  },
  {
   "cell_type": "code",
   "execution_count": 14,
   "metadata": {},
   "outputs": [],
   "source": [
    "from Performance import PortfolioAnalyzer"
   ]
  },
  {
   "cell_type": "code",
   "execution_count": 15,
   "metadata": {},
   "outputs": [
    {
     "data": {
      "image/png": "[encoded data removed]",
      "text/plain": [
       "<Figure size 1200x600 with 1 Axes>"
      ]
     },
     "metadata": {},
     "output_type": "display_data"
    },
    {
     "name": "stdout",
     "output_type": "stream",
     "text": [
      "           Performance Totale (%)  Volatilité Annuelle (%)  Sharpe Ratio  \\\n",
      "HY_EQUITY                  -26.44                    91.74          0.58   \n",
      "\n",
      "           Max Drawdown (%)  CAGR (%)  Meilleure Perf Hebdo (%)  \\\n",
      "HY_EQUITY            -77.61    -29.16                     18.72   \n",
      "\n",
      "           Pire Perf Hebdo (%)  \n",
      "HY_EQUITY                -77.2  \n",
      "Le portefeuille HY_EQUITY du manager Scott Rodriguez affiche la performance totale la plus élevée (-26.44%).\n",
      "Le portefeuille HY_EQUITY du manager Scott Rodriguez a la volatilité annuelle la plus faible (91.74%), illustrant une meilleure stabilité.\n",
      "Le portefeuille HY_EQUITY du manager Scott Rodriguez présente le meilleur Sharpe Ratio (0.58), indiquant le couple rendement/risque le plus efficace.\n",
      "Le portefeuille HY_EQUITY du manager Scott Rodriguez présente le plus faible drawdown (-77.61%), signe d'une bonne résistance en période de baisse.\n",
      "Le portefeuille HY_EQUITY du manager Scott Rodriguez affiche le meilleur taux de croissance annualisé (-29.16%).\n",
      "Le portefeuille HY_EQUITY du manager Scott Rodriguez a enregistré la meilleure performance hebdomadaire (18.72%).\n",
      "Le portefeuille HY_EQUITY du manager Scott Rodriguez a subi la pire performance hebdomadaire (-77.2%).\n"
     ]
    }
   ],
   "source": [
    "analyzer = PortfolioAnalyzer(\"Fund.db\")\n",
    "analyzer.plot_portfolio_performance()\n",
    "metrics_df = analyzer.compute_portfolio_metrics()\n",
    "print(metrics_df)\n",
    "analyzer.describe_best_portfolios()\n"
   ]
  }
 ],
 "metadata": {
  "kernelspec": {
   "display_name": "Python 3",
   "language": "python",
   "name": "python3"
  },
  "language_info": {
   "codemirror_mode": {
    "name": "ipython",
    "version": 3
   },
   "file_extension": ".py",
   "mimetype": "text/x-python",
   "name": "python",
   "nbconvert_exporter": "python",
   "pygments_lexer": "ipython3",
   "version": "3.12.1"
  }
 },
 "nbformat": 4,
 "nbformat_minor": 2
}
