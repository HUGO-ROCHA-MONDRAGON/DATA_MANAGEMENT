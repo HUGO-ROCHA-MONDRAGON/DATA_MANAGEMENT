{
 "cells": [
  {
   "cell_type": "code",
   "execution_count": 1,
   "metadata": {},
   "outputs": [
    {
     "name": "stdout",
     "output_type": "stream",
     "text": [
      "Requirement already satisfied: pandas in /home/codespace/.local/lib/python3.12/site-packages (from -r requirement.txt (line 1)) (2.2.3)\n",
      "Collecting yfinance (from -r requirement.txt (line 2))\n",
      "  Downloading yfinance-0.2.55-py2.py3-none-any.whl.metadata (5.8 kB)\n",
      "Requirement already satisfied: faker in /home/codespace/.python/current/lib/python3.12/site-packages (from -r requirement.txt (line 3)) (37.0.2)\n",
      "Requirement already satisfied: scipy in /home/codespace/.local/lib/python3.12/site-packages (from -r requirement.txt (line 4)) (1.14.1)\n",
      "Collecting schedule (from -r requirement.txt (line 5))\n",
      "  Downloading schedule-1.2.2-py3-none-any.whl.metadata (3.8 kB)\n",
      "Requirement already satisfied: numpy>=1.26.0 in /home/codespace/.local/lib/python3.12/site-packages (from pandas->-r requirement.txt (line 1)) (2.2.0)\n",
      "Requirement already satisfied: python-dateutil>=2.8.2 in /home/codespace/.local/lib/python3.12/site-packages (from pandas->-r requirement.txt (line 1)) (2.9.0.post0)\n",
      "Requirement already satisfied: pytz>=2020.1 in /home/codespace/.local/lib/python3.12/site-packages (from pandas->-r requirement.txt (line 1)) (2024.2)\n",
      "Requirement already satisfied: tzdata>=2022.7 in /home/codespace/.local/lib/python3.12/site-packages (from pandas->-r requirement.txt (line 1)) (2024.2)\n",
      "Requirement already satisfied: requests>=2.31 in /home/codespace/.local/lib/python3.12/site-packages (from yfinance->-r requirement.txt (line 2)) (2.32.3)\n",
      "Collecting multitasking>=0.0.7 (from yfinance->-r requirement.txt (line 2))\n",
      "  Downloading multitasking-0.0.11-py3-none-any.whl.metadata (5.5 kB)\n",
      "Requirement already satisfied: platformdirs>=2.0.0 in /home/codespace/.local/lib/python3.12/site-packages (from yfinance->-r requirement.txt (line 2)) (4.3.6)\n",
      "Collecting frozendict>=2.3.4 (from yfinance->-r requirement.txt (line 2))\n",
      "  Downloading frozendict-2.4.6-py312-none-any.whl.metadata (23 kB)\n",
      "Collecting peewee>=3.16.2 (from yfinance->-r requirement.txt (line 2))\n",
      "  Downloading peewee-3.17.9.tar.gz (3.0 MB)\n",
      "\u001b[2K     \u001b[90m━━━━━━━━━━━━━━━━━━━━━━━━━━━━━━━━━━━━━━━━\u001b[0m \u001b[32m3.0/3.0 MB\u001b[0m \u001b[31m29.3 MB/s\u001b[0m eta \u001b[36m0:00:00\u001b[0m\n",
      "\u001b[?25h  Installing build dependencies ... \u001b[?25ldone\n",
      "\u001b[?25h  Getting requirements to build wheel ... \u001b[?25ldone\n",
      "\u001b[?25h  Preparing metadata (pyproject.toml) ... \u001b[?25ldone\n",
      "\u001b[?25hRequirement already satisfied: beautifulsoup4>=4.11.1 in /home/codespace/.local/lib/python3.12/site-packages (from yfinance->-r requirement.txt (line 2)) (4.12.3)\n",
      "Requirement already satisfied: soupsieve>1.2 in /home/codespace/.local/lib/python3.12/site-packages (from beautifulsoup4>=4.11.1->yfinance->-r requirement.txt (line 2)) (2.6)\n",
      "Requirement already satisfied: six>=1.5 in /home/codespace/.local/lib/python3.12/site-packages (from python-dateutil>=2.8.2->pandas->-r requirement.txt (line 1)) (1.17.0)\n",
      "Requirement already satisfied: charset-normalizer<4,>=2 in /home/codespace/.local/lib/python3.12/site-packages (from requests>=2.31->yfinance->-r requirement.txt (line 2)) (3.4.0)\n",
      "Requirement already satisfied: idna<4,>=2.5 in /home/codespace/.local/lib/python3.12/site-packages (from requests>=2.31->yfinance->-r requirement.txt (line 2)) (3.10)\n",
      "Requirement already satisfied: urllib3<3,>=1.21.1 in /home/codespace/.local/lib/python3.12/site-packages (from requests>=2.31->yfinance->-r requirement.txt (line 2)) (2.2.3)\n",
      "Requirement already satisfied: certifi>=2017.4.17 in /home/codespace/.local/lib/python3.12/site-packages (from requests>=2.31->yfinance->-r requirement.txt (line 2)) (2024.8.30)\n",
      "Downloading yfinance-0.2.55-py2.py3-none-any.whl (109 kB)\n",
      "Downloading schedule-1.2.2-py3-none-any.whl (12 kB)\n",
      "Downloading frozendict-2.4.6-py312-none-any.whl (16 kB)\n",
      "Downloading multitasking-0.0.11-py3-none-any.whl (8.5 kB)\n",
      "Building wheels for collected packages: peewee\n",
      "  Building wheel for peewee (pyproject.toml) ... \u001b[?25ldone\n",
      "\u001b[?25h  Created wheel for peewee: filename=peewee-3.17.9-cp312-cp312-linux_x86_64.whl size=1029265 sha256=ff3a4f1246e7c794f1909d35bd92c5dbc1058a93891f825e877aaced6cb57cd8\n",
      "  Stored in directory: /home/codespace/.cache/pip/wheels/43/ef/2d/2c51d496bf084945ffdf838b4cc8767b8ba1cc20eb41588831\n",
      "Successfully built peewee\n",
      "Installing collected packages: peewee, multitasking, schedule, frozendict, yfinance\n",
      "Successfully installed frozendict-2.4.6 multitasking-0.0.11 peewee-3.17.9 schedule-1.2.2 yfinance-0.2.55\n",
      "\n",
      "\u001b[1m[\u001b[0m\u001b[34;49mnotice\u001b[0m\u001b[1;39;49m]\u001b[0m\u001b[39;49m A new release of pip is available: \u001b[0m\u001b[31;49m24.3.1\u001b[0m\u001b[39;49m -> \u001b[0m\u001b[32;49m25.0.1\u001b[0m\n",
      "\u001b[1m[\u001b[0m\u001b[34;49mnotice\u001b[0m\u001b[1;39;49m]\u001b[0m\u001b[39;49m To update, run: \u001b[0m\u001b[32;49mpip install --upgrade pip\u001b[0m\n",
      "Note: you may need to restart the kernel to use updated packages.\n"
     ]
    }
   ],
   "source": [
    "pip install -r \"requirement.txt\""
   ]
  },
  {
   "cell_type": "code",
   "execution_count": 2,
   "metadata": {},
   "outputs": [],
   "source": [
    "import sqlite3\n",
    "import pandas as pd\n",
    "db_file = \"Fund.db\"\n",
    "tickers = ['AAPL', 'MSFT', 'GOOGL', 'AMZN', 'FB', 'TSLA', 'NVDA', 'PYPL', 'ADBE', 'INTC']#tickers contenus dans MAIN_DATA_FRAME\n",
    "\n",
    "start_date = \"02/01/2023\"#toute la periode start date (pour tout telecharger dun coup)\n",
    "end_date = \"31/12/2024\"#pareil"
   ]
  },
  {
   "cell_type": "markdown",
   "metadata": {},
   "source": [
    "## 1. Creation et peuplement de la base"
   ]
  },
  {
   "cell_type": "code",
   "execution_count": 3,
   "metadata": {},
   "outputs": [],
   "source": [
    "from base_builder import DatabaseBuilder"
   ]
  },
  {
   "cell_type": "code",
   "execution_count": 4,
   "metadata": {},
   "outputs": [
    {
     "name": "stdout",
     "output_type": "stream",
     "text": [
      "Tables created successfully.\n",
      "3 clients insérés avec succès dans la table 'Clients'.\n",
      "3 managers insérés avec succès dans la table 'Managers'.\n"
     ]
    }
   ],
   "source": [
    "db_manager = DatabaseBuilder(db_file)\n",
    "db_manager.create_tables()\n",
    "db_manager.insert_clients_data(3)\n",
    "db_manager.insert_managers_data(3)"
   ]
  },
  {
   "cell_type": "markdown",
   "metadata": {},
   "source": [
    "## 2. Collecte et traitement des datas"
   ]
  },
  {
   "cell_type": "code",
   "execution_count": 5,
   "metadata": {},
   "outputs": [],
   "source": [
    "from data_collector import GetData"
   ]
  },
  {
   "cell_type": "code",
   "execution_count": 6,
   "metadata": {},
   "outputs": [
    {
     "name": "stderr",
     "output_type": "stream",
     "text": [
      "[*********************100%***********************]  1 of 1 completed\n",
      "[*********************100%***********************]  1 of 1 completed\n",
      "[*********************100%***********************]  1 of 1 completed\n",
      "[*********************100%***********************]  1 of 1 completed\n",
      "[*********************100%***********************]  1 of 1 completed\n",
      "\n",
      "1 Failed download:\n",
      "['FB']: YFTzMissingError('possibly delisted; no timezone found')\n",
      "[*********************100%***********************]  1 of 1 completed\n",
      "[*********************100%***********************]  1 of 1 completed\n",
      "[*********************100%***********************]  1 of 1 completed\n",
      "[*********************100%***********************]  1 of 1 completed\n",
      "[*********************100%***********************]  1 of 1 completed\n"
     ]
    },
    {
     "data": {
      "text/html": [
       "<div>\n",
       "<style scoped>\n",
       "    .dataframe tbody tr th:only-of-type {\n",
       "        vertical-align: middle;\n",
       "    }\n",
       "\n",
       "    .dataframe tbody tr th {\n",
       "        vertical-align: top;\n",
       "    }\n",
       "\n",
       "    .dataframe thead th {\n",
       "        text-align: right;\n",
       "    }\n",
       "</style>\n",
       "<table border=\"1\" class=\"dataframe\">\n",
       "  <thead>\n",
       "    <tr style=\"text-align: right;\">\n",
       "      <th></th>\n",
       "      <th>IMPORT_DATE</th>\n",
       "      <th>PRICE</th>\n",
       "      <th>TICKER</th>\n",
       "      <th>SECTOR</th>\n",
       "    </tr>\n",
       "  </thead>\n",
       "  <tbody>\n",
       "    <tr>\n",
       "      <th>0</th>\n",
       "      <td>2023-01-03</td>\n",
       "      <td>123.632523</td>\n",
       "      <td>AAPL</td>\n",
       "      <td>Technology</td>\n",
       "    </tr>\n",
       "    <tr>\n",
       "      <th>1</th>\n",
       "      <td>2023-01-04</td>\n",
       "      <td>124.907707</td>\n",
       "      <td>AAPL</td>\n",
       "      <td>Technology</td>\n",
       "    </tr>\n",
       "    <tr>\n",
       "      <th>2</th>\n",
       "      <td>2023-01-05</td>\n",
       "      <td>123.583092</td>\n",
       "      <td>AAPL</td>\n",
       "      <td>Technology</td>\n",
       "    </tr>\n",
       "    <tr>\n",
       "      <th>3</th>\n",
       "      <td>2023-01-06</td>\n",
       "      <td>128.130234</td>\n",
       "      <td>AAPL</td>\n",
       "      <td>Technology</td>\n",
       "    </tr>\n",
       "    <tr>\n",
       "      <th>4</th>\n",
       "      <td>2023-01-09</td>\n",
       "      <td>128.654144</td>\n",
       "      <td>AAPL</td>\n",
       "      <td>Technology</td>\n",
       "    </tr>\n",
       "    <tr>\n",
       "      <th>...</th>\n",
       "      <td>...</td>\n",
       "      <td>...</td>\n",
       "      <td>...</td>\n",
       "      <td>...</td>\n",
       "    </tr>\n",
       "    <tr>\n",
       "      <th>4504</th>\n",
       "      <td>2024-12-23</td>\n",
       "      <td>20.200001</td>\n",
       "      <td>INTC</td>\n",
       "      <td>Technology</td>\n",
       "    </tr>\n",
       "    <tr>\n",
       "      <th>4505</th>\n",
       "      <td>2024-12-24</td>\n",
       "      <td>20.400000</td>\n",
       "      <td>INTC</td>\n",
       "      <td>Technology</td>\n",
       "    </tr>\n",
       "    <tr>\n",
       "      <th>4506</th>\n",
       "      <td>2024-12-26</td>\n",
       "      <td>20.440001</td>\n",
       "      <td>INTC</td>\n",
       "      <td>Technology</td>\n",
       "    </tr>\n",
       "    <tr>\n",
       "      <th>4507</th>\n",
       "      <td>2024-12-27</td>\n",
       "      <td>20.299999</td>\n",
       "      <td>INTC</td>\n",
       "      <td>Technology</td>\n",
       "    </tr>\n",
       "    <tr>\n",
       "      <th>4508</th>\n",
       "      <td>2024-12-30</td>\n",
       "      <td>19.820000</td>\n",
       "      <td>INTC</td>\n",
       "      <td>Technology</td>\n",
       "    </tr>\n",
       "  </tbody>\n",
       "</table>\n",
       "<p>4509 rows × 4 columns</p>\n",
       "</div>"
      ],
      "text/plain": [
       "     IMPORT_DATE       PRICE TICKER      SECTOR\n",
       "0     2023-01-03  123.632523   AAPL  Technology\n",
       "1     2023-01-04  124.907707   AAPL  Technology\n",
       "2     2023-01-05  123.583092   AAPL  Technology\n",
       "3     2023-01-06  128.130234   AAPL  Technology\n",
       "4     2023-01-09  128.654144   AAPL  Technology\n",
       "...          ...         ...    ...         ...\n",
       "4504  2024-12-23   20.200001   INTC  Technology\n",
       "4505  2024-12-24   20.400000   INTC  Technology\n",
       "4506  2024-12-26   20.440001   INTC  Technology\n",
       "4507  2024-12-27   20.299999   INTC  Technology\n",
       "4508  2024-12-30   19.820000   INTC  Technology\n",
       "\n",
       "[4509 rows x 4 columns]"
      ]
     },
     "execution_count": 6,
     "metadata": {},
     "output_type": "execute_result"
    }
   ],
   "source": [
    "gdata = GetData(tickers, start_date, end_date)\n",
    "gdata.main_data_frame()#on cree le dataframe avec TOUS les actifs TOUTE la periode\n",
    "#il manquerait le traitement des datas"
   ]
  },
  {
   "cell_type": "code",
   "execution_count": 7,
   "metadata": {},
   "outputs": [],
   "source": [
    "from base_update import BaseUpdate \n",
    "sub_start_date = \"01/01/2023\"#chaque semaine, les strat lancent la fct et definissent les sub périodes\n",
    "#de cette maniere, products ne contient que la data jusqu'à la date t (no forward looking sur nos strats)\n",
    "sub_end_date = \"31/12/2023\""
   ]
  },
  {
   "cell_type": "code",
   "execution_count": 8,
   "metadata": {},
   "outputs": [
    {
     "name": "stderr",
     "output_type": "stream",
     "text": [
      "[*********************100%***********************]  1 of 1 completed"
     ]
    },
    {
     "name": "stderr",
     "output_type": "stream",
     "text": [
      "\n",
      "[*********************100%***********************]  1 of 1 completed\n",
      "[*********************100%***********************]  1 of 1 completed\n",
      "[*********************100%***********************]  1 of 1 completed\n",
      "[*********************100%***********************]  1 of 1 completed\n",
      "\n",
      "1 Failed download:\n",
      "['FB']: YFTzMissingError('possibly delisted; no timezone found')\n",
      "[*********************100%***********************]  1 of 1 completed\n",
      "[*********************100%***********************]  1 of 1 completed\n",
      "[*********************100%***********************]  1 of 1 completed\n",
      "[*********************100%***********************]  1 of 1 completed\n",
      "[*********************100%***********************]  1 of 1 completed\n"
     ]
    },
    {
     "name": "stdout",
     "output_type": "stream",
     "text": [
      "Successfully inserted 2250 new records into Products table for the period 01/01/2023 to 31/12/2023\n"
     ]
    }
   ],
   "source": [
    "B_udt = BaseUpdate(tickers, sub_start_date, sub_end_date)\n",
    "B_udt.update_products(db_file)#on met a jour products jusqu'à la data t"
   ]
  },
  {
   "cell_type": "code",
   "execution_count": 9,
   "metadata": {},
   "outputs": [
    {
     "name": "stdout",
     "output_type": "stream",
     "text": [
      "Portfolios mis à jour avecc succés\n"
     ]
    }
   ],
   "source": [
    "from base_update import update_portefeuille1\n",
    "update_portefeuille1(db_file,['AAPL', 'MSFT'],'HY_EQUITY',50)\n"
   ]
  },
  {
   "cell_type": "code",
   "execution_count": 10,
   "metadata": {},
   "outputs": [
    {
     "name": "stderr",
     "output_type": "stream",
     "text": [
      "[*********************100%***********************]  1 of 1 completed"
     ]
    },
    {
     "name": "stdout",
     "output_type": "stream",
     "text": [
      "\n",
      "Début de la simulation historique du 31/12/2023 au 15/01/2024\n",
      "\n",
      "=== Simulation pour le lundi 01/01/2024 ===\n",
      "Exécution de la stratégie pour la date historique : 01/01/2024\n",
      "Updating products for historical week: 25/12/2023 to 31/12/2023\n"
     ]
    },
    {
     "name": "stderr",
     "output_type": "stream",
     "text": [
      "\n",
      "[*********************100%***********************]  1 of 1 completed\n",
      "[*********************100%***********************]  1 of 1 completed\n",
      "[*********************100%***********************]  1 of 1 completed\n",
      "[*********************100%***********************]  1 of 1 completed\n",
      "\n",
      "1 Failed download:\n",
      "['FB']: YFTzMissingError('possibly delisted; no timezone found')\n",
      "[*********************100%***********************]  1 of 1 completed\n",
      "[*********************100%***********************]  1 of 1 completed\n",
      "[*********************100%***********************]  1 of 1 completed\n",
      "[*********************100%***********************]  1 of 1 completed\n",
      "[*********************100%***********************]  1 of 1 completed\n",
      "[*********************100%***********************]  1 of 1 completed"
     ]
    },
    {
     "name": "stdout",
     "output_type": "stream",
     "text": [
      "Successfully inserted 36 new records into Products table for the period 25/12/2023 to 31/12/2023\n",
      "Running strategies...\n",
      "Running HY_EQUITY strategy...\n",
      "✓ Ticker trouvé : AAPL avec Le risque HY_EQUITY, Manager ID 1\n",
      "Erreur lors du traitement de AAPL: table Deals has no column named RISK_TYPE\n",
      "✓ Ticker trouvé : MSFT avec Le risque HY_EQUITY, Manager ID 1\n",
      "Erreur lors du traitement de MSFT: table Deals has no column named RISK_TYPE\n",
      "Risk types disponibles dans la base : [('HY_EQUITY',)]\n",
      "\n",
      "=== Simulation pour le lundi 08/01/2024 ===\n",
      "Exécution de la stratégie pour la date historique : 08/01/2024\n",
      "Updating products for historical week: 01/01/2024 to 07/01/2024\n"
     ]
    },
    {
     "name": "stderr",
     "output_type": "stream",
     "text": [
      "\n",
      "[*********************100%***********************]  1 of 1 completed\n",
      "[*********************100%***********************]  1 of 1 completed\n",
      "[*********************100%***********************]  1 of 1 completed\n",
      "[*********************100%***********************]  1 of 1 completed\n",
      "\n",
      "1 Failed download:\n",
      "['FB']: YFTzMissingError('possibly delisted; no timezone found')\n",
      "[*********************100%***********************]  1 of 1 completed\n",
      "[*********************100%***********************]  1 of 1 completed\n",
      "[*********************100%***********************]  1 of 1 completed\n",
      "[*********************100%***********************]  1 of 1 completed\n",
      "[*********************100%***********************]  1 of 1 completed\n",
      "[*********************100%***********************]  1 of 1 completed"
     ]
    },
    {
     "name": "stdout",
     "output_type": "stream",
     "text": [
      "Successfully inserted 36 new records into Products table for the period 01/01/2024 to 07/01/2024\n",
      "Running strategies...\n",
      "Running HY_EQUITY strategy...\n",
      "✓ Ticker trouvé : AAPL avec Le risque HY_EQUITY, Manager ID 1\n",
      "Erreur lors du traitement de AAPL: table Deals has no column named RISK_TYPE\n",
      "✓ Ticker trouvé : MSFT avec Le risque HY_EQUITY, Manager ID 1\n",
      "Erreur lors du traitement de MSFT: table Deals has no column named RISK_TYPE\n",
      "Risk types disponibles dans la base : [('HY_EQUITY',)]\n",
      "\n",
      "=== Simulation pour le lundi 15/01/2024 ===\n",
      "Exécution de la stratégie pour la date historique : 15/01/2024\n",
      "Updating products for historical week: 08/01/2024 to 14/01/2024\n"
     ]
    },
    {
     "name": "stderr",
     "output_type": "stream",
     "text": [
      "\n",
      "[*********************100%***********************]  1 of 1 completed\n",
      "[*********************100%***********************]  1 of 1 completed\n",
      "[*********************100%***********************]  1 of 1 completed\n",
      "[*********************100%***********************]  1 of 1 completed\n",
      "\n",
      "1 Failed download:\n",
      "['FB']: YFTzMissingError('possibly delisted; no timezone found')\n",
      "[*********************100%***********************]  1 of 1 completed\n",
      "[*********************100%***********************]  1 of 1 completed\n",
      "[*********************100%***********************]  1 of 1 completed\n",
      "[*********************100%***********************]  1 of 1 completed\n",
      "[*********************100%***********************]  1 of 1 completed"
     ]
    },
    {
     "name": "stdout",
     "output_type": "stream",
     "text": [
      "Successfully inserted 45 new records into Products table for the period 08/01/2024 to 14/01/2024\n",
      "Running strategies...\n",
      "Running HY_EQUITY strategy...\n",
      "✓ Ticker trouvé : AAPL avec Le risque HY_EQUITY, Manager ID 1\n",
      "Erreur lors du traitement de AAPL: table Deals has no column named RISK_TYPE\n",
      "✓ Ticker trouvé : MSFT avec Le risque HY_EQUITY, Manager ID 1\n",
      "Erreur lors du traitement de MSFT: table Deals has no column named RISK_TYPE\n",
      "Risk types disponibles dans la base : [('HY_EQUITY',)]\n",
      "\n",
      "Simulation terminée !\n",
      "Nombre de lundis simulés : 3\n",
      "Période couverte : 31/12/2023 au 15/01/2024\n"
     ]
    },
    {
     "name": "stderr",
     "output_type": "stream",
     "text": [
      "\n"
     ]
    }
   ],
   "source": [
    "from strategies import RunAllStrat\n",
    "start_date2=\"31/12/2023\"\n",
    "end_date2=\"15/01/2024\"\n",
    "b=RunAllStrat(db_file,start_date2,end_date2,tickers)\n",
    "b.run()"
   ]
  },
  {
   "cell_type": "code",
   "execution_count": null,
   "metadata": {},
   "outputs": [],
   "source": [
    "import sqlite3\n",
    "\n",
    "db_path = \"Fund.db\"  # adapte si ton fichier a un chemin différent\n",
    "\n",
    "create_history_table_query = \"\"\"\n",
    "CREATE TABLE IF NOT EXISTS Portfolio_History (\n",
    "    HISTORY_ID INTEGER PRIMARY KEY AUTOINCREMENT,\n",
    "    MANAGER_ID INTEGER NOT NULL,\n",
    "    TICKER TEXT NOT NULL,\n",
    "    QUANTITY INTEGER NOT NULL,\n",
    "    DATE_SNAPSHOT DATE NOT NULL,\n",
    "    FOREIGN KEY(MANAGER_ID) REFERENCES Managers(MANAGER_ID) ON DELETE CASCADE\n",
    ");\n",
    "\"\"\"\n",
    "\n",
    "conn = sqlite3.connect(db_path)\n",
    "cursor = conn.cursor()\n",
    "cursor.execute(create_history_table_query)\n",
    "conn.commit()\n",
    "conn.close()\n",
    "\n",
    "print(\"✅ Table Portfolio_History créée avec succès.\")\n"
   ]
  },
  {
   "cell_type": "code",
   "execution_count": null,
   "metadata": {},
   "outputs": [],
   "source": [
    "def rebuild_portfolio_history_by_manager(self, manager_id):\n",
    "    try:\n",
    "        conn = sqlite3.connect(self.db_file)\n",
    "        cursor = conn.cursor()\n",
    "\n",
    "        # 1. Composition initiale : actifs dans Portfolios pour ce manager\n",
    "        cursor.execute(\"\"\"\n",
    "            SELECT TICKER, QUANTITY\n",
    "            FROM Portfolios\n",
    "            WHERE MANAGER_ID = ?\n",
    "        \"\"\", (manager_id,))\n",
    "        initial_assets = cursor.fetchall()\n",
    "        portfolio = {ticker: qty for ticker, qty in initial_assets}\n",
    "\n",
    "        # 2. Récupérer tous les deals du manager, triés par date\n",
    "        cursor.execute(\"\"\"\n",
    "            SELECT EXECUTION_DATE, TICKER, TRADE_TYPE, QUANTITY\n",
    "            FROM Deals\n",
    "            WHERE MANAGER_ID = ?\n",
    "            ORDER BY EXECUTION_DATE ASC\n",
    "        \"\"\", (manager_id,))\n",
    "        deals = cursor.fetchall()\n",
    "\n",
    "        # 3. Appliquer chaque deal et sauvegarder un snapshot\n",
    "        for deal in deals:\n",
    "            date, ticker, trade_type, quantity = deal\n",
    "\n",
    "            if trade_type == 'Buy':\n",
    "                portfolio[ticker] = portfolio.get(ticker, 0) + quantity\n",
    "            elif trade_type == 'Sell':\n",
    "                portfolio[ticker] = max(portfolio.get(ticker, 0) - quantity, 0)\n",
    "\n",
    "            # Retirer les actifs avec 0\n",
    "            portfolio = {k: v for k, v in portfolio.items() if v > 0}\n",
    "\n",
    "            # 4. Insérer un snapshot complet pour cette date\n",
    "            for tick, qty in portfolio.items():\n",
    "                cursor.execute(\"\"\"\n",
    "                    INSERT INTO Portfolio_History (MANAGER_ID, TICKER, QUANTITY, DATE_SNAPSHOT)\n",
    "                    VALUES (?, ?, ?, ?)\n",
    "                \"\"\", (manager_id, tick, qty, date))\n",
    "\n",
    "        conn.commit()\n",
    "        print(f\"📈 Historique reconstruit pour le manager {manager_id}\")\n",
    "    except sqlite3.Error as e:\n",
    "        print(f\"❌ Erreur SQLite : {e}\")\n",
    "    finally:\n",
    "        if conn:\n",
    "            conn.close()\n"
   ]
  },
  {
   "cell_type": "code",
   "execution_count": 13,
   "metadata": {},
   "outputs": [
    {
     "name": "stdout",
     "output_type": "stream",
     "text": [
      "📈 Historique reconstruit pour le manager 1\n"
     ]
    }
   ],
   "source": [
    "db_manager.rebuild_portfolio_history_by_manager(manager_id=1)\n"
   ]
  }
 ],
 "metadata": {
  "kernelspec": {
   "display_name": "Python 3",
   "language": "python",
   "name": "python3"
  },
  "language_info": {
   "codemirror_mode": {
    "name": "ipython",
    "version": 3
   },
   "file_extension": ".py",
   "mimetype": "text/x-python",
   "name": "python",
   "nbconvert_exporter": "python",
   "pygments_lexer": "ipython3",
   "version": "3.12.1"
  }
 },
 "nbformat": 4,
 "nbformat_minor": 2
}
