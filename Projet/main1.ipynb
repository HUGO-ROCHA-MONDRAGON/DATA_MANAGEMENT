{
 "cells": [
  {
   "cell_type": "code",
   "execution_count": 10,
   "metadata": {},
   "outputs": [],
   "source": [
    "import sqlite3\n",
    "import pandas as pd\n",
    "db_file = \"Fund.db\"\n",
    "tickers = ['AAPL', 'MSFT', 'GOOGL', 'AMZN', 'FB', 'TSLA', 'NVDA', 'PYPL', 'ADBE', 'INTC']#tickers contenus dans MAIN_DATA_FRAME\n",
    "\n",
    "start_date = \"02/01/2023\"#toute la periode start date (pour tout telecharger dun coup)\n",
    "end_date = \"31/12/2024\"#pareil"
   ]
  },
  {
   "cell_type": "markdown",
   "metadata": {},
   "source": [
    "## 1. Creation et peuplement de la base"
   ]
  },
  {
   "cell_type": "code",
   "execution_count": 11,
   "metadata": {},
   "outputs": [],
   "source": [
    "from base_builder import DatabaseBuilder"
   ]
  },
  {
   "cell_type": "code",
   "execution_count": 12,
   "metadata": {},
   "outputs": [
    {
     "name": "stdout",
     "output_type": "stream",
     "text": [
      "Tables created successfully.\n",
      "3 clients insérés avec succès dans la table 'Clients'.\n",
      "3 managers insérés avec succès dans la table 'Managers'.\n"
     ]
    }
   ],
   "source": [
    "db_manager = DatabaseBuilder(db_file)\n",
    "db_manager.create_tables()\n",
    "db_manager.insert_clients_data(3)\n",
    "db_manager.insert_managers_data(3)"
   ]
  },
  {
   "cell_type": "markdown",
   "metadata": {},
   "source": [
    "## 2. Collecte et traitement des datas"
   ]
  },
  {
   "cell_type": "code",
   "execution_count": 13,
   "metadata": {},
   "outputs": [],
   "source": [
    "from data_collector import GetData"
   ]
  },
  {
   "cell_type": "code",
   "execution_count": 14,
   "metadata": {},
   "outputs": [
    {
     "name": "stderr",
     "output_type": "stream",
     "text": [
      "[*********************100%***********************]  1 of 1 completed"
     ]
    },
    {
     "name": "stderr",
     "output_type": "stream",
     "text": [
      "\n",
      "[*********************100%***********************]  1 of 1 completed\n",
      "[*********************100%***********************]  1 of 1 completed\n",
      "[*********************100%***********************]  1 of 1 completed\n",
      "[*********************100%***********************]  1 of 1 completed\n",
      "\n",
      "1 Failed download:\n",
      "['FB']: YFTzMissingError('possibly delisted; no timezone found')\n",
      "[*********************100%***********************]  1 of 1 completed\n",
      "[*********************100%***********************]  1 of 1 completed\n",
      "[*********************100%***********************]  1 of 1 completed\n",
      "[*********************100%***********************]  1 of 1 completed\n",
      "[*********************100%***********************]  1 of 1 completed\n"
     ]
    },
    {
     "data": {
      "text/html": [
       "<div>\n",
       "<style scoped>\n",
       "    .dataframe tbody tr th:only-of-type {\n",
       "        vertical-align: middle;\n",
       "    }\n",
       "\n",
       "    .dataframe tbody tr th {\n",
       "        vertical-align: top;\n",
       "    }\n",
       "\n",
       "    .dataframe thead th {\n",
       "        text-align: right;\n",
       "    }\n",
       "</style>\n",
       "<table border=\"1\" class=\"dataframe\">\n",
       "  <thead>\n",
       "    <tr style=\"text-align: right;\">\n",
       "      <th></th>\n",
       "      <th>IMPORT_DATE</th>\n",
       "      <th>PRICE</th>\n",
       "      <th>TICKER</th>\n",
       "      <th>SECTOR</th>\n",
       "    </tr>\n",
       "  </thead>\n",
       "  <tbody>\n",
       "    <tr>\n",
       "      <th>0</th>\n",
       "      <td>2023-01-03</td>\n",
       "      <td>123.632523</td>\n",
       "      <td>AAPL</td>\n",
       "      <td>Technology</td>\n",
       "    </tr>\n",
       "    <tr>\n",
       "      <th>1</th>\n",
       "      <td>2023-01-04</td>\n",
       "      <td>124.907692</td>\n",
       "      <td>AAPL</td>\n",
       "      <td>Technology</td>\n",
       "    </tr>\n",
       "    <tr>\n",
       "      <th>2</th>\n",
       "      <td>2023-01-05</td>\n",
       "      <td>123.583099</td>\n",
       "      <td>AAPL</td>\n",
       "      <td>Technology</td>\n",
       "    </tr>\n",
       "    <tr>\n",
       "      <th>3</th>\n",
       "      <td>2023-01-06</td>\n",
       "      <td>128.130249</td>\n",
       "      <td>AAPL</td>\n",
       "      <td>Technology</td>\n",
       "    </tr>\n",
       "    <tr>\n",
       "      <th>4</th>\n",
       "      <td>2023-01-09</td>\n",
       "      <td>128.654129</td>\n",
       "      <td>AAPL</td>\n",
       "      <td>Technology</td>\n",
       "    </tr>\n",
       "    <tr>\n",
       "      <th>...</th>\n",
       "      <td>...</td>\n",
       "      <td>...</td>\n",
       "      <td>...</td>\n",
       "      <td>...</td>\n",
       "    </tr>\n",
       "    <tr>\n",
       "      <th>4504</th>\n",
       "      <td>2024-12-23</td>\n",
       "      <td>20.200001</td>\n",
       "      <td>INTC</td>\n",
       "      <td>Technology</td>\n",
       "    </tr>\n",
       "    <tr>\n",
       "      <th>4505</th>\n",
       "      <td>2024-12-24</td>\n",
       "      <td>20.400000</td>\n",
       "      <td>INTC</td>\n",
       "      <td>Technology</td>\n",
       "    </tr>\n",
       "    <tr>\n",
       "      <th>4506</th>\n",
       "      <td>2024-12-26</td>\n",
       "      <td>20.440001</td>\n",
       "      <td>INTC</td>\n",
       "      <td>Technology</td>\n",
       "    </tr>\n",
       "    <tr>\n",
       "      <th>4507</th>\n",
       "      <td>2024-12-27</td>\n",
       "      <td>20.299999</td>\n",
       "      <td>INTC</td>\n",
       "      <td>Technology</td>\n",
       "    </tr>\n",
       "    <tr>\n",
       "      <th>4508</th>\n",
       "      <td>2024-12-30</td>\n",
       "      <td>19.820000</td>\n",
       "      <td>INTC</td>\n",
       "      <td>Technology</td>\n",
       "    </tr>\n",
       "  </tbody>\n",
       "</table>\n",
       "<p>4509 rows × 4 columns</p>\n",
       "</div>"
      ],
      "text/plain": [
       "     IMPORT_DATE       PRICE TICKER      SECTOR\n",
       "0     2023-01-03  123.632523   AAPL  Technology\n",
       "1     2023-01-04  124.907692   AAPL  Technology\n",
       "2     2023-01-05  123.583099   AAPL  Technology\n",
       "3     2023-01-06  128.130249   AAPL  Technology\n",
       "4     2023-01-09  128.654129   AAPL  Technology\n",
       "...          ...         ...    ...         ...\n",
       "4504  2024-12-23   20.200001   INTC  Technology\n",
       "4505  2024-12-24   20.400000   INTC  Technology\n",
       "4506  2024-12-26   20.440001   INTC  Technology\n",
       "4507  2024-12-27   20.299999   INTC  Technology\n",
       "4508  2024-12-30   19.820000   INTC  Technology\n",
       "\n",
       "[4509 rows x 4 columns]"
      ]
     },
     "execution_count": 14,
     "metadata": {},
     "output_type": "execute_result"
    }
   ],
   "source": [
    "gdata = GetData(tickers, start_date, end_date)\n",
    "gdata.main_data_frame()#on cree le dataframe avec TOUS les actifs TOUTE la periode\n",
    "#il manquerait le traitement des datas"
   ]
  },
  {
   "cell_type": "code",
   "execution_count": 15,
   "metadata": {},
   "outputs": [],
   "source": [
    "from base_update import BaseUpdate \n",
    "sub_start_date = \"01/01/2023\"#chaque semaine, les strat lancent la fct et definissent les sub périodes\n",
    "#de cette maniere, products ne contient que la data jusqu'à la date t (no forward looking sur nos strats)\n",
    "sub_end_date = \"31/12/2023\""
   ]
  },
  {
   "cell_type": "code",
   "execution_count": 16,
   "metadata": {},
   "outputs": [
    {
     "name": "stderr",
     "output_type": "stream",
     "text": [
      "[*********************100%***********************]  1 of 1 completed\n",
      "[*********************100%***********************]  1 of 1 completed\n",
      "[*********************100%***********************]  1 of 1 completed\n",
      "[*********************100%***********************]  1 of 1 completed\n",
      "[*********************100%***********************]  1 of 1 completed\n",
      "\n",
      "1 Failed download:\n",
      "['FB']: YFTzMissingError('possibly delisted; no timezone found')\n",
      "[*********************100%***********************]  1 of 1 completed\n",
      "[*********************100%***********************]  1 of 1 completed\n",
      "[*********************100%***********************]  1 of 1 completed\n",
      "[*********************100%***********************]  1 of 1 completed\n",
      "[*********************100%***********************]  1 of 1 completed\n"
     ]
    },
    {
     "name": "stdout",
     "output_type": "stream",
     "text": [
      "Successfully inserted 2250 new records into Products table for the period 01/01/2023 to 31/12/2023\n"
     ]
    }
   ],
   "source": [
    "B_udt = BaseUpdate(tickers, sub_start_date, sub_end_date)\n",
    "B_udt.update_products(db_file)#on met a jour products jusqu'à la data t"
   ]
  },
  {
   "cell_type": "code",
   "execution_count": 17,
   "metadata": {},
   "outputs": [
    {
     "name": "stdout",
     "output_type": "stream",
     "text": [
      "Portfolios mis à jour avecc succés\n"
     ]
    }
   ],
   "source": [
    "from base_update import update_portefeuille1\n",
    "update_portefeuille1(db_file,['AAPL', 'MSFT'],'HY_EQUITY',50)\n"
   ]
  },
  {
   "cell_type": "code",
   "execution_count": 18,
   "metadata": {},
   "outputs": [
    {
     "name": "stderr",
     "output_type": "stream",
     "text": [
      "[*********************100%***********************]  1 of 1 completed"
     ]
    },
    {
     "name": "stdout",
     "output_type": "stream",
     "text": [
      "\n",
      "Début de la simulation historique du 31/12/2023 au 15/01/2024\n",
      "\n",
      "=== Simulation pour le lundi 01/01/2024 ===\n",
      "Exécution de la stratégie pour la date historique : 01/01/2024\n",
      "Updating products for historical week: 25/12/2023 to 31/12/2023\n"
     ]
    },
    {
     "name": "stderr",
     "output_type": "stream",
     "text": [
      "\n",
      "[*********************100%***********************]  1 of 1 completed\n",
      "[*********************100%***********************]  1 of 1 completed\n",
      "[*********************100%***********************]  1 of 1 completed\n",
      "[*********************100%***********************]  1 of 1 completed\n",
      "\n",
      "1 Failed download:\n",
      "['FB']: YFTzMissingError('possibly delisted; no timezone found')\n",
      "[*********************100%***********************]  1 of 1 completed\n",
      "[*********************100%***********************]  1 of 1 completed\n",
      "[*********************100%***********************]  1 of 1 completed\n",
      "[*********************100%***********************]  1 of 1 completed\n",
      "[*********************100%***********************]  1 of 1 completed\n",
      "[*********************100%***********************]  1 of 1 completed"
     ]
    },
    {
     "name": "stdout",
     "output_type": "stream",
     "text": [
      "Successfully inserted 36 new records into Products table for the period 25/12/2023 to 31/12/2023\n",
      "Running strategies...\n",
      "Running HY_EQUITY strategy...\n",
      "✓ Ticker trouvé : AAPL avec Portfolio ID 3, Manager ID 1\n",
      "→ Insertion validée : Buy 18 x AAPL @ 191.38095092773438 le 2024-01-01\n",
      "✓ Portfolio mis à jour pour AAPL: nouvelle quantité ajustée de 18\n",
      "✓ Ticker trouvé : MSFT avec Portfolio ID 4, Manager ID 1\n",
      "→ Insertion validée : Buy 28 x MSFT @ 372.50201416015625 le 2024-01-01\n",
      "✓ Portfolio mis à jour pour MSFT: nouvelle quantité ajustée de 28\n",
      "\n",
      "=== Simulation pour le lundi 08/01/2024 ===\n",
      "Exécution de la stratégie pour la date historique : 08/01/2024\n",
      "Updating products for historical week: 01/01/2024 to 07/01/2024\n"
     ]
    },
    {
     "name": "stderr",
     "output_type": "stream",
     "text": [
      "\n",
      "[*********************100%***********************]  1 of 1 completed\n",
      "[*********************100%***********************]  1 of 1 completed\n",
      "[*********************100%***********************]  1 of 1 completed\n",
      "[*********************100%***********************]  1 of 1 completed\n",
      "\n",
      "1 Failed download:\n",
      "['FB']: YFTzMissingError('possibly delisted; no timezone found')\n",
      "[*********************100%***********************]  1 of 1 completed\n",
      "[*********************100%***********************]  1 of 1 completed\n",
      "[*********************100%***********************]  1 of 1 completed\n",
      "[*********************100%***********************]  1 of 1 completed\n",
      "[*********************100%***********************]  1 of 1 completed\n",
      "[*********************100%***********************]  1 of 1 completed"
     ]
    },
    {
     "name": "stdout",
     "output_type": "stream",
     "text": [
      "Successfully inserted 36 new records into Products table for the period 01/01/2024 to 07/01/2024\n",
      "Running strategies...\n",
      "Running HY_EQUITY strategy...\n",
      "✓ Ticker trouvé : AAPL avec Portfolio ID 3, Manager ID 1\n",
      "→ Insertion validée : Buy 25 x AAPL @ 191.38095092773438 le 2024-01-08\n",
      "✓ Portfolio mis à jour pour AAPL: nouvelle quantité ajustée de 25\n",
      "✓ Ticker trouvé : MSFT avec Portfolio ID 4, Manager ID 1\n",
      "→ Insertion validée : Buy 43 x MSFT @ 372.50201416015625 le 2024-01-08\n",
      "✓ Portfolio mis à jour pour MSFT: nouvelle quantité ajustée de 43\n",
      "\n",
      "=== Simulation pour le lundi 15/01/2024 ===\n",
      "Exécution de la stratégie pour la date historique : 15/01/2024\n",
      "Updating products for historical week: 08/01/2024 to 14/01/2024\n"
     ]
    },
    {
     "name": "stderr",
     "output_type": "stream",
     "text": [
      "\n",
      "[*********************100%***********************]  1 of 1 completed\n",
      "[*********************100%***********************]  1 of 1 completed\n",
      "[*********************100%***********************]  1 of 1 completed\n",
      "[*********************100%***********************]  1 of 1 completed\n",
      "\n",
      "1 Failed download:\n",
      "['FB']: YFTzMissingError('possibly delisted; no timezone found')\n",
      "[*********************100%***********************]  1 of 1 completed\n",
      "[*********************100%***********************]  1 of 1 completed\n",
      "[*********************100%***********************]  1 of 1 completed\n",
      "[*********************100%***********************]  1 of 1 completed\n",
      "[*********************100%***********************]  1 of 1 completed\n"
     ]
    },
    {
     "name": "stdout",
     "output_type": "stream",
     "text": [
      "Successfully inserted 45 new records into Products table for the period 08/01/2024 to 14/01/2024\n",
      "Running strategies...\n",
      "Running HY_EQUITY strategy...\n",
      "✓ Ticker trouvé : AAPL avec Portfolio ID 3, Manager ID 1\n",
      "→ Insertion validée : Buy 34 x AAPL @ 191.38095092773438 le 2024-01-15\n",
      "✓ Portfolio mis à jour pour AAPL: nouvelle quantité ajustée de 34\n",
      "✓ Ticker trouvé : MSFT avec Portfolio ID 4, Manager ID 1\n",
      "→ Insertion validée : Buy 68 x MSFT @ 372.50201416015625 le 2024-01-15\n",
      "✓ Portfolio mis à jour pour MSFT: nouvelle quantité ajustée de 68\n",
      "\n",
      "Simulation terminée !\n",
      "Nombre de lundis simulés : 3\n",
      "Période couverte : 31/12/2023 au 15/01/2024\n"
     ]
    }
   ],
   "source": [
    "from strategies import RunAllStrat\n",
    "start_date2=\"31/12/2023\"\n",
    "end_date2=\"15/01/2024\"\n",
    "b=RunAllStrat(db_file,start_date2,end_date2,tickers)\n",
    "b.run()"
   ]
  },
  {
   "cell_type": "code",
   "execution_count": null,
   "metadata": {},
   "outputs": [],
   "source": []
  },
  {
   "cell_type": "code",
   "execution_count": null,
   "metadata": {},
   "outputs": [],
   "source": []
  }
 ],
 "metadata": {
  "kernelspec": {
   "display_name": "Python 3",
   "language": "python",
   "name": "python3"
  },
  "language_info": {
   "codemirror_mode": {
    "name": "ipython",
    "version": 3
   },
   "file_extension": ".py",
   "mimetype": "text/x-python",
   "name": "python",
   "nbconvert_exporter": "python",
   "pygments_lexer": "ipython3",
   "version": "3.10.10"
  }
 },
 "nbformat": 4,
 "nbformat_minor": 2
}
