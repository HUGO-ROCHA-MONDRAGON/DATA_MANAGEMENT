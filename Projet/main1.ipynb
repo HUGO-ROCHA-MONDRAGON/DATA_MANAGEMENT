{
 "cells": [
  {
   "cell_type": "code",
   "execution_count": 1,
   "metadata": {},
   "outputs": [
    {
     "name": "stdout",
     "output_type": "stream",
     "text": [
      "Requirement already satisfied: pandas in /home/codespace/.local/lib/python3.12/site-packages (from -r requirement.txt (line 1)) (2.2.3)\n",
      "Requirement already satisfied: yfinance in /home/codespace/.python/current/lib/python3.12/site-packages (from -r requirement.txt (line 2)) (0.2.55)\n",
      "Requirement already satisfied: faker in /home/codespace/.python/current/lib/python3.12/site-packages (from -r requirement.txt (line 3)) (37.0.2)\n",
      "Requirement already satisfied: scipy in /home/codespace/.local/lib/python3.12/site-packages (from -r requirement.txt (line 4)) (1.14.1)\n",
      "Requirement already satisfied: schedule in /home/codespace/.python/current/lib/python3.12/site-packages (from -r requirement.txt (line 5)) (1.2.2)\n",
      "Requirement already satisfied: numpy>=1.26.0 in /home/codespace/.local/lib/python3.12/site-packages (from pandas->-r requirement.txt (line 1)) (2.2.0)\n",
      "Requirement already satisfied: python-dateutil>=2.8.2 in /home/codespace/.local/lib/python3.12/site-packages (from pandas->-r requirement.txt (line 1)) (2.9.0.post0)\n",
      "Requirement already satisfied: pytz>=2020.1 in /home/codespace/.local/lib/python3.12/site-packages (from pandas->-r requirement.txt (line 1)) (2024.2)\n",
      "Requirement already satisfied: tzdata>=2022.7 in /home/codespace/.local/lib/python3.12/site-packages (from pandas->-r requirement.txt (line 1)) (2024.2)\n",
      "Requirement already satisfied: requests>=2.31 in /home/codespace/.local/lib/python3.12/site-packages (from yfinance->-r requirement.txt (line 2)) (2.32.3)\n",
      "Requirement already satisfied: multitasking>=0.0.7 in /home/codespace/.python/current/lib/python3.12/site-packages (from yfinance->-r requirement.txt (line 2)) (0.0.11)\n",
      "Requirement already satisfied: platformdirs>=2.0.0 in /home/codespace/.local/lib/python3.12/site-packages (from yfinance->-r requirement.txt (line 2)) (4.3.6)\n",
      "Requirement already satisfied: frozendict>=2.3.4 in /home/codespace/.python/current/lib/python3.12/site-packages (from yfinance->-r requirement.txt (line 2)) (2.4.6)\n",
      "Requirement already satisfied: peewee>=3.16.2 in /home/codespace/.python/current/lib/python3.12/site-packages (from yfinance->-r requirement.txt (line 2)) (3.17.9)\n",
      "Requirement already satisfied: beautifulsoup4>=4.11.1 in /home/codespace/.local/lib/python3.12/site-packages (from yfinance->-r requirement.txt (line 2)) (4.12.3)\n",
      "Requirement already satisfied: soupsieve>1.2 in /home/codespace/.local/lib/python3.12/site-packages (from beautifulsoup4>=4.11.1->yfinance->-r requirement.txt (line 2)) (2.6)\n",
      "Requirement already satisfied: six>=1.5 in /home/codespace/.local/lib/python3.12/site-packages (from python-dateutil>=2.8.2->pandas->-r requirement.txt (line 1)) (1.17.0)\n",
      "Requirement already satisfied: charset-normalizer<4,>=2 in /home/codespace/.local/lib/python3.12/site-packages (from requests>=2.31->yfinance->-r requirement.txt (line 2)) (3.4.0)\n",
      "Requirement already satisfied: idna<4,>=2.5 in /home/codespace/.local/lib/python3.12/site-packages (from requests>=2.31->yfinance->-r requirement.txt (line 2)) (3.10)\n",
      "Requirement already satisfied: urllib3<3,>=1.21.1 in /home/codespace/.local/lib/python3.12/site-packages (from requests>=2.31->yfinance->-r requirement.txt (line 2)) (2.2.3)\n",
      "Requirement already satisfied: certifi>=2017.4.17 in /home/codespace/.local/lib/python3.12/site-packages (from requests>=2.31->yfinance->-r requirement.txt (line 2)) (2024.8.30)\n",
      "\n",
      "\u001b[1m[\u001b[0m\u001b[34;49mnotice\u001b[0m\u001b[1;39;49m]\u001b[0m\u001b[39;49m A new release of pip is available: \u001b[0m\u001b[31;49m24.3.1\u001b[0m\u001b[39;49m -> \u001b[0m\u001b[32;49m25.0.1\u001b[0m\n",
      "\u001b[1m[\u001b[0m\u001b[34;49mnotice\u001b[0m\u001b[1;39;49m]\u001b[0m\u001b[39;49m To update, run: \u001b[0m\u001b[32;49mpip install --upgrade pip\u001b[0m\n",
      "Note: you may need to restart the kernel to use updated packages.\n"
     ]
    }
   ],
   "source": [
    "pip install -r \"requirement.txt\""
   ]
  },
  {
   "cell_type": "code",
   "execution_count": null,
   "metadata": {},
   "outputs": [],
   "source": [
    "import sqlite3\n",
    "import pandas as pd\n",
    "db_file = \"Fund.db\"\n",
    "tickers = ['AAPL', 'MSFT', 'GOOGL', 'AMZN', 'META', 'TSLA', 'NVDA', 'PYPL', 'ADBE', 'INTC']#tickers contenus dans MAIN_DATA_FRAME\n",
    "\n",
    "start_date = \"01/09/2022\"#toute la periode start date (pour tout telecharger dun coup) + 3 mois avant\n",
    "end_date = \"31/12/2024\"#pareil"
   ]
  },
  {
   "cell_type": "markdown",
   "metadata": {},
   "source": [
    "## 1. Creation et peuplement de la base"
   ]
  },
  {
   "cell_type": "code",
   "execution_count": 2,
   "metadata": {},
   "outputs": [],
   "source": [
    "from base_builder import DatabaseBuilder"
   ]
  },
  {
   "cell_type": "code",
   "execution_count": 3,
   "metadata": {},
   "outputs": [
    {
     "name": "stdout",
     "output_type": "stream",
     "text": [
      "Tables created successfully.\n",
      "12 clients insérés avec succès dans la table 'Clients'.\n",
      "3 managers insérés avec succès dans la table 'Managers'.\n"
     ]
    }
   ],
   "source": [
    "db_manager = DatabaseBuilder(db_file)\n",
    "db_manager.create_tables()\n",
    "db_manager.insert_clients_data(12)\n",
    "db_manager.insert_managers_data(3)"
   ]
  },
  {
   "cell_type": "code",
   "execution_count": null,
   "metadata": {},
   "outputs": [
    {
     "name": "stdout",
     "output_type": "stream",
     "text": [
      "\n",
      "Résumé des investissements par risk type:\n",
      "--------------------------------------------------\n",
      "Risk Type: HY_EQUITY\n",
      "Nombre de clients: 1\n",
      "Montant total investi: 8,079,414.21 €\n",
      "--------------------------------------------------\n",
      "Risk Type: LOW_RISK\n",
      "Nombre de clients: 4\n",
      "Montant total investi: 11,580,832.92 €\n",
      "--------------------------------------------------\n",
      "Risk Type: LOW_TURNOVER\n",
      "Nombre de clients: 7\n",
      "Montant total investi: 30,227,108.91 €\n",
      "--------------------------------------------------\n",
      "Montants initiaux en cash insérés avec succès dans la table Portfolios.\n"
     ]
    }
   ],
   "source": [
    "db_manager.get_investment_amount_by_risk_type()\n",
    "db_manager.insert_initial_cash_portfolios(start_date)"
   ]
  },
  {
   "cell_type": "markdown",
   "metadata": {},
   "source": [
    "## 2. Collecte et traitement des datas"
   ]
  },
  {
   "cell_type": "code",
   "execution_count": 5,
   "metadata": {},
   "outputs": [],
   "source": [
    "from data_collector import GetData"
   ]
  },
  {
   "cell_type": "code",
   "execution_count": 6,
   "metadata": {},
   "outputs": [
    {
     "name": "stderr",
     "output_type": "stream",
     "text": [
      "[*********************100%***********************]  1 of 1 completed\n",
      "[*********************100%***********************]  1 of 1 completed\n",
      "[*********************100%***********************]  1 of 1 completed\n",
      "[*********************100%***********************]  1 of 1 completed\n",
      "[*********************100%***********************]  1 of 1 completed\n",
      "[*********************100%***********************]  1 of 1 completed\n",
      "[*********************100%***********************]  1 of 1 completed\n",
      "[*********************100%***********************]  1 of 1 completed\n",
      "[*********************100%***********************]  1 of 1 completed\n",
      "[*********************100%***********************]  1 of 1 completed\n"
     ]
    },
    {
     "data": {
      "text/html": [
       "<div>\n",
       "<style scoped>\n",
       "    .dataframe tbody tr th:only-of-type {\n",
       "        vertical-align: middle;\n",
       "    }\n",
       "\n",
       "    .dataframe tbody tr th {\n",
       "        vertical-align: top;\n",
       "    }\n",
       "\n",
       "    .dataframe thead th {\n",
       "        text-align: right;\n",
       "    }\n",
       "</style>\n",
       "<table border=\"1\" class=\"dataframe\">\n",
       "  <thead>\n",
       "    <tr style=\"text-align: right;\">\n",
       "      <th></th>\n",
       "      <th>IMPORT_DATE</th>\n",
       "      <th>PRICE</th>\n",
       "      <th>TICKER</th>\n",
       "      <th>SECTOR</th>\n",
       "    </tr>\n",
       "  </thead>\n",
       "  <tbody>\n",
       "    <tr>\n",
       "      <th>0</th>\n",
       "      <td>2023-01-03</td>\n",
       "      <td>123.632530</td>\n",
       "      <td>AAPL</td>\n",
       "      <td>Technology</td>\n",
       "    </tr>\n",
       "    <tr>\n",
       "      <th>1</th>\n",
       "      <td>2023-01-04</td>\n",
       "      <td>124.907707</td>\n",
       "      <td>AAPL</td>\n",
       "      <td>Technology</td>\n",
       "    </tr>\n",
       "    <tr>\n",
       "      <th>2</th>\n",
       "      <td>2023-01-05</td>\n",
       "      <td>123.583092</td>\n",
       "      <td>AAPL</td>\n",
       "      <td>Technology</td>\n",
       "    </tr>\n",
       "    <tr>\n",
       "      <th>3</th>\n",
       "      <td>2023-01-06</td>\n",
       "      <td>128.130219</td>\n",
       "      <td>AAPL</td>\n",
       "      <td>Technology</td>\n",
       "    </tr>\n",
       "    <tr>\n",
       "      <th>4</th>\n",
       "      <td>2023-01-09</td>\n",
       "      <td>128.654144</td>\n",
       "      <td>AAPL</td>\n",
       "      <td>Technology</td>\n",
       "    </tr>\n",
       "    <tr>\n",
       "      <th>...</th>\n",
       "      <td>...</td>\n",
       "      <td>...</td>\n",
       "      <td>...</td>\n",
       "      <td>...</td>\n",
       "    </tr>\n",
       "    <tr>\n",
       "      <th>5005</th>\n",
       "      <td>2024-12-23</td>\n",
       "      <td>20.200001</td>\n",
       "      <td>INTC</td>\n",
       "      <td>Technology</td>\n",
       "    </tr>\n",
       "    <tr>\n",
       "      <th>5006</th>\n",
       "      <td>2024-12-24</td>\n",
       "      <td>20.400000</td>\n",
       "      <td>INTC</td>\n",
       "      <td>Technology</td>\n",
       "    </tr>\n",
       "    <tr>\n",
       "      <th>5007</th>\n",
       "      <td>2024-12-26</td>\n",
       "      <td>20.440001</td>\n",
       "      <td>INTC</td>\n",
       "      <td>Technology</td>\n",
       "    </tr>\n",
       "    <tr>\n",
       "      <th>5008</th>\n",
       "      <td>2024-12-27</td>\n",
       "      <td>20.299999</td>\n",
       "      <td>INTC</td>\n",
       "      <td>Technology</td>\n",
       "    </tr>\n",
       "    <tr>\n",
       "      <th>5009</th>\n",
       "      <td>2024-12-30</td>\n",
       "      <td>19.820000</td>\n",
       "      <td>INTC</td>\n",
       "      <td>Technology</td>\n",
       "    </tr>\n",
       "  </tbody>\n",
       "</table>\n",
       "<p>5010 rows × 4 columns</p>\n",
       "</div>"
      ],
      "text/plain": [
       "     IMPORT_DATE       PRICE TICKER      SECTOR\n",
       "0     2023-01-03  123.632530   AAPL  Technology\n",
       "1     2023-01-04  124.907707   AAPL  Technology\n",
       "2     2023-01-05  123.583092   AAPL  Technology\n",
       "3     2023-01-06  128.130219   AAPL  Technology\n",
       "4     2023-01-09  128.654144   AAPL  Technology\n",
       "...          ...         ...    ...         ...\n",
       "5005  2024-12-23   20.200001   INTC  Technology\n",
       "5006  2024-12-24   20.400000   INTC  Technology\n",
       "5007  2024-12-26   20.440001   INTC  Technology\n",
       "5008  2024-12-27   20.299999   INTC  Technology\n",
       "5009  2024-12-30   19.820000   INTC  Technology\n",
       "\n",
       "[5010 rows x 4 columns]"
      ]
     },
     "execution_count": 6,
     "metadata": {},
     "output_type": "execute_result"
    }
   ],
   "source": [
    "gdata = GetData(tickers, start_date, end_date)\n",
    "gdata.main_data_frame()#on cree le dataframe avec TOUS les actifs TOUTE la periode\n",
    "#il manquerait le traitement des datas"
   ]
  },
  {
   "cell_type": "markdown",
   "metadata": {},
   "source": [
    "# 3. Periode avant t = 0 (Periode de \"test\")"
   ]
  },
  {
   "cell_type": "markdown",
   "metadata": {},
   "source": [
    "On peuple Products avec des trois mois de donnees avant la periode d'evaluation du fonds (qui commence le 01/01/2023)"
   ]
  },
  {
   "cell_type": "code",
   "execution_count": null,
   "metadata": {},
   "outputs": [],
   "source": [
    "from base_update import BaseUpdate \n",
    "sub_start_date = \"01/09/2022\"#chaque semaine, les strat lancent la fct et definissent les sub périodes\n",
    "#de cette maniere, products ne contient que la data jusqu'à la date t (no forward looking sur nos strats)\n",
    "sub_end_date = \"29/12/2022\""
   ]
  },
  {
   "cell_type": "code",
   "execution_count": null,
   "metadata": {},
   "outputs": [],
   "source": [
    "B_udt = BaseUpdate(tickers, sub_start_date, sub_end_date, db_file)\n",
    "B_udt.update_products()"
   ]
  },
  {
   "cell_type": "markdown",
   "metadata": {},
   "source": [
    "### Initialisation des portefeuilles en fonction du cash initial"
   ]
  },
  {
   "cell_type": "markdown",
   "metadata": {},
   "source": [
    "Pour la strategie HY equity, on prend les 5 tickers les plus performants de la periode (allant du 01/09/2022 au 30/12/2022)"
   ]
  },
  {
   "cell_type": "code",
   "execution_count": null,
   "metadata": {},
   "outputs": [],
   "source": [
    "B_udt.initialisation_portefeuille_HY()"
   ]
  },
  {
   "cell_type": "markdown",
   "metadata": {},
   "source": [
    "# 4. Execution des strategies"
   ]
  },
  {
   "cell_type": "code",
   "execution_count": null,
   "metadata": {},
   "outputs": [],
   "source": [
    "from strategies import RunAllStrat\n",
    "start_date2=\"01/01/2023\"\n",
    "end_date2=\"01/10/2023\"\n",
    "b=RunAllStrat(db_file,start_date2,end_date2,tickers)\n",
    "b.strategy_two(end_date2)"
   ]
  },
  {
   "cell_type": "code",
   "execution_count": null,
   "metadata": {},
   "outputs": [],
   "source": [
    "import sqlite3\n",
    "\n",
    "db_path = \"Fund.db\"  # adapte si ton fichier a un chemin différent\n",
    "\n",
    "create_history_table_query = \"\"\"\n",
    "CREATE TABLE IF NOT EXISTS Portfolio_History (\n",
    "    HISTORY_ID INTEGER PRIMARY KEY AUTOINCREMENT,\n",
    "    MANAGER_ID INTEGER NOT NULL,\n",
    "    TICKER TEXT NOT NULL,\n",
    "    QUANTITY INTEGER NOT NULL,\n",
    "    DATE_SNAPSHOT DATE NOT NULL,\n",
    "    FOREIGN KEY(MANAGER_ID) REFERENCES Managers(MANAGER_ID) ON DELETE CASCADE\n",
    ");\n",
    "\"\"\"\n",
    "\n",
    "conn = sqlite3.connect(db_path)\n",
    "cursor = conn.cursor()\n",
    "cursor.execute(create_history_table_query)\n",
    "conn.commit()\n",
    "conn.close()\n",
    "\n",
    "print(\"✅ Table Portfolio_History créée avec succès.\")\n"
   ]
  },
  {
   "cell_type": "code",
   "execution_count": null,
   "metadata": {},
   "outputs": [],
   "source": [
    "def rebuild_portfolio_history_by_manager(self, manager_id):\n",
    "    try:\n",
    "        conn = sqlite3.connect(self.db_file)\n",
    "        cursor = conn.cursor()\n",
    "\n",
    "        # 1. Composition initiale : actifs dans Portfolios pour ce manager\n",
    "        cursor.execute(\"\"\"\n",
    "            SELECT TICKER, QUANTITY\n",
    "            FROM Portfolios\n",
    "            WHERE MANAGER_ID = ?\n",
    "        \"\"\", (manager_id,))\n",
    "        initial_assets = cursor.fetchall()\n",
    "        portfolio = {ticker: qty for ticker, qty in initial_assets}\n",
    "\n",
    "        # 2. Récupérer tous les deals du manager, triés par date\n",
    "        cursor.execute(\"\"\"\n",
    "            SELECT EXECUTION_DATE, TICKER, TRADE_TYPE, QUANTITY\n",
    "            FROM Deals\n",
    "            WHERE MANAGER_ID = ?\n",
    "            ORDER BY EXECUTION_DATE ASC\n",
    "        \"\"\", (manager_id,))\n",
    "        deals = cursor.fetchall()\n",
    "\n",
    "        # 3. Appliquer chaque deal et sauvegarder un snapshot\n",
    "        for deal in deals:\n",
    "            date, ticker, trade_type, quantity = deal\n",
    "\n",
    "            if trade_type == 'Buy':\n",
    "                portfolio[ticker] = portfolio.get(ticker, 0) + quantity\n",
    "            elif trade_type == 'Sell':\n",
    "                portfolio[ticker] = max(portfolio.get(ticker, 0) - quantity, 0)\n",
    "\n",
    "            # Retirer les actifs avec 0\n",
    "            portfolio = {k: v for k, v in portfolio.items() if v > 0}\n",
    "\n",
    "            # 4. Insérer un snapshot complet pour cette date\n",
    "            for tick, qty in portfolio.items():\n",
    "                cursor.execute(\"\"\"\n",
    "                    INSERT INTO Portfolio_History (MANAGER_ID, TICKER, QUANTITY, DATE_SNAPSHOT)\n",
    "                    VALUES (?, ?, ?, ?)\n",
    "                \"\"\", (manager_id, tick, qty, date))\n",
    "\n",
    "        conn.commit()\n",
    "        print(f\"📈 Historique reconstruit pour le manager {manager_id}\")\n",
    "    except sqlite3.Error as e:\n",
    "        print(f\"❌ Erreur SQLite : {e}\")\n",
    "    finally:\n",
    "        if conn:\n",
    "            conn.close()\n"
   ]
  },
  {
   "cell_type": "code",
   "execution_count": 13,
   "metadata": {},
   "outputs": [
    {
     "name": "stdout",
     "output_type": "stream",
     "text": [
      "📈 Historique reconstruit pour le manager 1\n"
     ]
    }
   ],
   "source": [
    "db_manager.rebuild_portfolio_history_by_manager(manager_id=1)\n"
   ]
  }
 ],
 "metadata": {
  "kernelspec": {
   "display_name": "Python 3",
   "language": "python",
   "name": "python3"
  },
  "language_info": {
   "codemirror_mode": {
    "name": "ipython",
    "version": 3
   },
   "file_extension": ".py",
   "mimetype": "text/x-python",
   "name": "python",
   "nbconvert_exporter": "python",
   "pygments_lexer": "ipython3",
   "version": "3.12.1"
  }
 },
 "nbformat": 4,
 "nbformat_minor": 2
}
